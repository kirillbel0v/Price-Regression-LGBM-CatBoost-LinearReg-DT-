{
  "cells": [
    {
      "cell_type": "markdown",
      "metadata": {
        "id": "7f0tgn4es4ps"
      },
      "source": [
        "# Определение стоимости автомобилей"
      ]
    },
    {
      "cell_type": "markdown",
      "metadata": {
        "id": "b4oiJIBPs4pt"
      },
      "source": [
        "Сервис по продаже автомобилей с пробегом «Не бит, не крашен» разрабатывает приложение для привлечения новых клиентов. В нём можно быстро узнать рыночную стоимость своего автомобиля. В вашем распоряжении исторические данные: технические характеристики, комплектации и цены автомобилей. Вам нужно построить модель для определения стоимости.\n",
        "\n",
        "Заказчику важны:\n",
        "\n",
        "- качество предсказания;\n",
        "- скорость предсказания;\n",
        "- время обучения."
      ]
    },
    {
      "cell_type": "markdown",
      "metadata": {
        "id": "mzj3ILw0s4pt"
      },
      "source": [
        "**Признаки:**\n",
        "\n",
        "* DateCrawled — дата скачивания анкеты из базы\n",
        "* VehicleType — тип автомобильного кузова\n",
        "* RegistrationYear — год регистрации автомобиля\n",
        "* Gearbox — тип коробки передач\n",
        "* Power — мощность (л. с.)\n",
        "* Model — модель автомобиля\n",
        "* Kilometer — пробег (км)\n",
        "* RegistrationMonth — месяц регистрации автомобиля\n",
        "* FuelType — тип топлива\n",
        "* Brand — марка автомобиля\n",
        "* Repaired — была машина в ремонте или нет\n",
        "* DateCreated — дата создания анкеты\n",
        "* NumberOfPictures — количество фотографий автомобиля\n",
        "* PostalCode — почтовый индекс владельца анкеты (пользователя)\n",
        "* LastSeen — дата последней активности пользователя\n",
        "\n",
        "**Целевой признак:**\n",
        "* Price - цена"
      ]
    },
    {
      "cell_type": "markdown",
      "metadata": {
        "id": "HNM3qzG9s4pt"
      },
      "source": [
        "## Подготовка данных"
      ]
    },
    {
      "cell_type": "markdown",
      "metadata": {
        "id": "2Bd34Hpts4pt"
      },
      "source": [
        "Загрузим все необходимые библиотеки и инструменты:"
      ]
    },
    {
      "cell_type": "code",
      "execution_count": null,
      "metadata": {
        "id": "yEGPLZLys4pu"
      },
      "outputs": [],
      "source": [
        "import matplotlib.pyplot as plt\n",
        "import numpy as np\n",
        "import pandas as pd\n",
        "import warnings\n",
        "from sklearn.model_selection import train_test_split\n",
        "from sklearn.preprocessing import StandardScaler\n",
        "from sklearn.metrics import mean_squared_error\n",
        "from sklearn.preprocessing import PolynomialFeatures\n",
        "from sklearn.preprocessing import OrdinalEncoder\n",
        "from sklearn.linear_model import LinearRegression\n",
        "from sklearn.linear_model import Ridge\n",
        "from sklearn.tree import DecisionTreeRegressor\n",
        "from sklearn.ensemble import ExtraTreesRegressor\n",
        "from catboost import Pool, CatBoostRegressor, cv\n",
        "from lightgbm import LGBMRegressor\n",
        "from sklearn.model_selection import cross_val_score\n",
        "from sklearn.model_selection import GridSearchCV\n",
        "from sklearn.pipeline import Pipeline\n",
        "warnings.filterwarnings('ignore')\n"
      ]
    },
    {
      "cell_type": "code",
      "execution_count": null,
      "metadata": {
        "id": "n72JP8uJs4pu",
        "outputId": "23d1bb0d-4b58-4690-aa15-ec1f9571a621"
      },
      "outputs": [
        {
          "name": "stdout",
          "output_type": "stream",
          "text": [
            "<class 'pandas.core.frame.DataFrame'>\n",
            "RangeIndex: 354369 entries, 0 to 354368\n",
            "Data columns (total 16 columns):\n",
            " #   Column             Non-Null Count   Dtype \n",
            "---  ------             --------------   ----- \n",
            " 0   DateCrawled        354369 non-null  object\n",
            " 1   Price              354369 non-null  int64 \n",
            " 2   VehicleType        316879 non-null  object\n",
            " 3   RegistrationYear   354369 non-null  int64 \n",
            " 4   Gearbox            334536 non-null  object\n",
            " 5   Power              354369 non-null  int64 \n",
            " 6   Model              334664 non-null  object\n",
            " 7   Kilometer          354369 non-null  int64 \n",
            " 8   RegistrationMonth  354369 non-null  int64 \n",
            " 9   FuelType           321474 non-null  object\n",
            " 10  Brand              354369 non-null  object\n",
            " 11  Repaired           283215 non-null  object\n",
            " 12  DateCreated        354369 non-null  object\n",
            " 13  NumberOfPictures   354369 non-null  int64 \n",
            " 14  PostalCode         354369 non-null  int64 \n",
            " 15  LastSeen           354369 non-null  object\n",
            "dtypes: int64(7), object(9)\n",
            "memory usage: 43.3+ MB\n"
          ]
        },
        {
          "data": {
            "text/plain": [
              "None"
            ]
          },
          "metadata": {},
          "output_type": "display_data"
        },
        {
          "data": {
            "text/html": [
              "<div>\n",
              "<style scoped>\n",
              "    .dataframe tbody tr th:only-of-type {\n",
              "        vertical-align: middle;\n",
              "    }\n",
              "\n",
              "    .dataframe tbody tr th {\n",
              "        vertical-align: top;\n",
              "    }\n",
              "\n",
              "    .dataframe thead th {\n",
              "        text-align: right;\n",
              "    }\n",
              "</style>\n",
              "<table border=\"1\" class=\"dataframe\">\n",
              "  <thead>\n",
              "    <tr style=\"text-align: right;\">\n",
              "      <th></th>\n",
              "      <th>DateCrawled</th>\n",
              "      <th>Price</th>\n",
              "      <th>VehicleType</th>\n",
              "      <th>RegistrationYear</th>\n",
              "      <th>Gearbox</th>\n",
              "      <th>Power</th>\n",
              "      <th>Model</th>\n",
              "      <th>Kilometer</th>\n",
              "      <th>RegistrationMonth</th>\n",
              "      <th>FuelType</th>\n",
              "      <th>Brand</th>\n",
              "      <th>Repaired</th>\n",
              "      <th>DateCreated</th>\n",
              "      <th>NumberOfPictures</th>\n",
              "      <th>PostalCode</th>\n",
              "      <th>LastSeen</th>\n",
              "    </tr>\n",
              "  </thead>\n",
              "  <tbody>\n",
              "    <tr>\n",
              "      <th>0</th>\n",
              "      <td>2016-03-24 11:52:17</td>\n",
              "      <td>480</td>\n",
              "      <td>NaN</td>\n",
              "      <td>1993</td>\n",
              "      <td>manual</td>\n",
              "      <td>0</td>\n",
              "      <td>golf</td>\n",
              "      <td>150000</td>\n",
              "      <td>0</td>\n",
              "      <td>petrol</td>\n",
              "      <td>volkswagen</td>\n",
              "      <td>NaN</td>\n",
              "      <td>2016-03-24 00:00:00</td>\n",
              "      <td>0</td>\n",
              "      <td>70435</td>\n",
              "      <td>2016-04-07 03:16:57</td>\n",
              "    </tr>\n",
              "    <tr>\n",
              "      <th>1</th>\n",
              "      <td>2016-03-24 10:58:45</td>\n",
              "      <td>18300</td>\n",
              "      <td>coupe</td>\n",
              "      <td>2011</td>\n",
              "      <td>manual</td>\n",
              "      <td>190</td>\n",
              "      <td>NaN</td>\n",
              "      <td>125000</td>\n",
              "      <td>5</td>\n",
              "      <td>gasoline</td>\n",
              "      <td>audi</td>\n",
              "      <td>yes</td>\n",
              "      <td>2016-03-24 00:00:00</td>\n",
              "      <td>0</td>\n",
              "      <td>66954</td>\n",
              "      <td>2016-04-07 01:46:50</td>\n",
              "    </tr>\n",
              "    <tr>\n",
              "      <th>2</th>\n",
              "      <td>2016-03-14 12:52:21</td>\n",
              "      <td>9800</td>\n",
              "      <td>suv</td>\n",
              "      <td>2004</td>\n",
              "      <td>auto</td>\n",
              "      <td>163</td>\n",
              "      <td>grand</td>\n",
              "      <td>125000</td>\n",
              "      <td>8</td>\n",
              "      <td>gasoline</td>\n",
              "      <td>jeep</td>\n",
              "      <td>NaN</td>\n",
              "      <td>2016-03-14 00:00:00</td>\n",
              "      <td>0</td>\n",
              "      <td>90480</td>\n",
              "      <td>2016-04-05 12:47:46</td>\n",
              "    </tr>\n",
              "    <tr>\n",
              "      <th>3</th>\n",
              "      <td>2016-03-17 16:54:04</td>\n",
              "      <td>1500</td>\n",
              "      <td>small</td>\n",
              "      <td>2001</td>\n",
              "      <td>manual</td>\n",
              "      <td>75</td>\n",
              "      <td>golf</td>\n",
              "      <td>150000</td>\n",
              "      <td>6</td>\n",
              "      <td>petrol</td>\n",
              "      <td>volkswagen</td>\n",
              "      <td>no</td>\n",
              "      <td>2016-03-17 00:00:00</td>\n",
              "      <td>0</td>\n",
              "      <td>91074</td>\n",
              "      <td>2016-03-17 17:40:17</td>\n",
              "    </tr>\n",
              "    <tr>\n",
              "      <th>4</th>\n",
              "      <td>2016-03-31 17:25:20</td>\n",
              "      <td>3600</td>\n",
              "      <td>small</td>\n",
              "      <td>2008</td>\n",
              "      <td>manual</td>\n",
              "      <td>69</td>\n",
              "      <td>fabia</td>\n",
              "      <td>90000</td>\n",
              "      <td>7</td>\n",
              "      <td>gasoline</td>\n",
              "      <td>skoda</td>\n",
              "      <td>no</td>\n",
              "      <td>2016-03-31 00:00:00</td>\n",
              "      <td>0</td>\n",
              "      <td>60437</td>\n",
              "      <td>2016-04-06 10:17:21</td>\n",
              "    </tr>\n",
              "  </tbody>\n",
              "</table>\n",
              "</div>"
            ],
            "text/plain": [
              "           DateCrawled  Price VehicleType  RegistrationYear Gearbox  Power  \\\n",
              "0  2016-03-24 11:52:17    480         NaN              1993  manual      0   \n",
              "1  2016-03-24 10:58:45  18300       coupe              2011  manual    190   \n",
              "2  2016-03-14 12:52:21   9800         suv              2004    auto    163   \n",
              "3  2016-03-17 16:54:04   1500       small              2001  manual     75   \n",
              "4  2016-03-31 17:25:20   3600       small              2008  manual     69   \n",
              "\n",
              "   Model  Kilometer  RegistrationMonth  FuelType       Brand Repaired  \\\n",
              "0   golf     150000                  0    petrol  volkswagen      NaN   \n",
              "1    NaN     125000                  5  gasoline        audi      yes   \n",
              "2  grand     125000                  8  gasoline        jeep      NaN   \n",
              "3   golf     150000                  6    petrol  volkswagen       no   \n",
              "4  fabia      90000                  7  gasoline       skoda       no   \n",
              "\n",
              "           DateCreated  NumberOfPictures  PostalCode             LastSeen  \n",
              "0  2016-03-24 00:00:00                 0       70435  2016-04-07 03:16:57  \n",
              "1  2016-03-24 00:00:00                 0       66954  2016-04-07 01:46:50  \n",
              "2  2016-03-14 00:00:00                 0       90480  2016-04-05 12:47:46  \n",
              "3  2016-03-17 00:00:00                 0       91074  2016-03-17 17:40:17  \n",
              "4  2016-03-31 00:00:00                 0       60437  2016-04-06 10:17:21  "
            ]
          },
          "execution_count": 2,
          "metadata": {},
          "output_type": "execute_result"
        }
      ],
      "source": [
        "data = pd.read_csv('/datasets/autos.csv')\n",
        "display(data.info())\n",
        "data.head()"
      ]
    },
    {
      "cell_type": "code",
      "execution_count": null,
      "metadata": {
        "scrolled": true,
        "id": "qI04tPg0s4pv",
        "outputId": "a7a0796a-fb76-4974-e935-38f190770178"
      },
      "outputs": [
        {
          "data": {
            "text/plain": [
              "DateCrawled          0.000000\n",
              "Price                0.000000\n",
              "VehicleType          0.105794\n",
              "RegistrationYear     0.000000\n",
              "Gearbox              0.055967\n",
              "Power                0.000000\n",
              "Model                0.055606\n",
              "Kilometer            0.000000\n",
              "RegistrationMonth    0.000000\n",
              "FuelType             0.092827\n",
              "Brand                0.000000\n",
              "Repaired             0.200791\n",
              "DateCreated          0.000000\n",
              "NumberOfPictures     0.000000\n",
              "PostalCode           0.000000\n",
              "LastSeen             0.000000\n",
              "dtype: float64"
            ]
          },
          "execution_count": 3,
          "metadata": {},
          "output_type": "execute_result"
        }
      ],
      "source": [
        "data.isna().mean()"
      ]
    },
    {
      "cell_type": "markdown",
      "metadata": {
        "id": "dOrN7nFPs4pv"
      },
      "source": [
        "Присутствуют пропуски в столбцах VehicleType, Gearbox, FuelType и Repaired. Изучим, какие данные есть в каждом столбце."
      ]
    },
    {
      "cell_type": "code",
      "execution_count": null,
      "metadata": {
        "id": "r-IX6kKfs4pw"
      },
      "outputs": [],
      "source": [
        "def show_rows(data_frame):\n",
        "    for column in data_frame.columns:\n",
        "        print('Уникальные значения столбца', column)\n",
        "        print(data_frame[column].unique())"
      ]
    },
    {
      "cell_type": "code",
      "execution_count": null,
      "metadata": {
        "id": "68PCIIkFs4pw",
        "outputId": "57b0defc-bea8-481c-cc37-fbb4b7bf84d1"
      },
      "outputs": [
        {
          "name": "stdout",
          "output_type": "stream",
          "text": [
            "Уникальные значения столбца DateCrawled\n",
            "['2016-03-24 11:52:17' '2016-03-24 10:58:45' '2016-03-14 12:52:21' ...\n",
            " '2016-03-21 09:50:58' '2016-03-14 17:48:27' '2016-03-19 18:57:12']\n",
            "Уникальные значения столбца Price\n",
            "[  480 18300  9800 ... 12395 18429 10985]\n",
            "Уникальные значения столбца VehicleType\n",
            "[nan 'coupe' 'suv' 'small' 'sedan' 'convertible' 'bus' 'wagon' 'other']\n",
            "Уникальные значения столбца RegistrationYear\n",
            "[1993 2011 2004 2001 2008 1995 1980 2014 1998 2005 1910 2016 2007 2009\n",
            " 2002 2018 1997 1990 2017 1981 2003 1994 1991 1984 2006 1999 2012 2010\n",
            " 2000 1992 2013 1996 1985 1989 2015 1982 1976 1983 1973 1111 1969 1971\n",
            " 1987 1986 1988 1970 1965 1945 1925 1974 1979 1955 1978 1972 1968 1977\n",
            " 1961 1960 1966 1975 1963 1964 5000 1954 1958 1967 1959 9999 1956 3200\n",
            " 1000 1941 8888 1500 2200 4100 1962 1929 1957 1940 3000 2066 1949 2019\n",
            " 1937 1951 1800 1953 1234 8000 5300 9000 2900 6000 5900 5911 1933 1400\n",
            " 1950 4000 1948 1952 1200 8500 1932 1255 3700 3800 4800 1942 7000 1935\n",
            " 1936 6500 1923 2290 2500 1930 1001 9450 1944 1943 1934 1938 1688 2800\n",
            " 1253 1928 1919 5555 5600 1600 2222 1039 9996 1300 8455 1931 1915 4500\n",
            " 1920 1602 7800 9229 1947 1927 7100 8200 1946 7500 3500]\n",
            "Уникальные значения столбца Gearbox\n",
            "['manual' 'auto' nan]\n",
            "Уникальные значения столбца Power\n",
            "[    0   190   163    75    69   102   109    50   125   101   105   140\n",
            "   115   131    60   136   160   231    90   118   193    99   113   218\n",
            "   122   129    70   306    95    61   177    80   170    55   143    64\n",
            "   286   232   150   156    82   155    54   185    87   180    86    84\n",
            "   224   235   200   178   265    77   110   144   120   116   184   126\n",
            "   204    88   194   305   197   179   250    45   313    41   165    98\n",
            "   130   114   211    56   201   213    58   107    83   174   100   220\n",
            "    85    73   192    68    66   299    74    52   147    65   310    71\n",
            "    97   239   203     5   300   103   258   320    63    81   148    44\n",
            "   145   230   280   260   104   188   333   186   117   141    59   132\n",
            "   234   158    39    92    51   135    53   209    43   146    67   106\n",
            "   166   276   344    72   249   237   245   111   326   279    23   138\n",
            "   175    96   226    26    37   301   334   128   133   124    33   219\n",
            "   241   167    94   182   196   238  1398   228   112    48   272   139\n",
            "  1799    40   240    79   256   360   243   375   252   396   340   108\n",
            "   121   345   187   289   222   198   284   450   233   387   152   347\n",
            "   172    57   137   212   476   314    30     7    47   173   290   207\n",
            "   205   171   750    78    91    89   349   325    76   151   350   953\n",
            "    93   142   500   343   199   119   164    16   264   367   208   210\n",
            "    46   435  1001   225   127   176   161   603   307   354    35   206\n",
            "   771   355   273   223   255   123   154   149  7515  1400   268   620\n",
            "   169   400   275    34     2   242  1779   285   162   328  1753   329\n",
            "   134   420   247   168 10317   215    18   330   283    62    10   214\n",
            "   183   254    15   321   322   315   952   600   181   426   599   379\n",
            "   999    22   157    42   195   553     4   309   507   381   271   440\n",
            "   189   401  1111  2729    21   236  1240  1704   521     1  1900   270\n",
            "    24   159   292   808   515  1200   303    29    38  1993    14   216\n",
            "   610   504    49   267   331   363   261   385  1011   253   696 10520\n",
            "   376   227   311    27   217    20  1999    11  1056    25   394    12\n",
            "   298   296  1659   294   551  6920   246    17  1800  1625   368   390\n",
            "   221  1367   259   606   327  2017  1597   266   374   392     9   405\n",
            "    13   262   601   430   295     8   411   900   541  7512   382 10218\n",
            "  7544  1102   287    19   751   297  1090   457   282   602   388     6\n",
            "  1000  5411   335  1360   202  3750   805  1062  1024 11530   364  1796\n",
            "  5000   269   460  1002   288  1780 12012 17932   316  2005  1399   191\n",
            "   278  1300   380   257   449  1256   153  1653   520   560   281 12510\n",
            "     3  1500   386    32  1202  2016  1436  1405   671   274  1288  1055\n",
            " 10912 15016  6226  1115   277  1105   341  1223  2340  8404  1968   338\n",
            "   445  1920   370   517  4400 10710 10522  9010   431  1164 11509   371\n",
            "  1501   428 11635    36   304   348  1703  1910  1995   579 10000   580\n",
            "   408    31  1005   358  1403   489  5575 19211   585   960   365   353\n",
            "   490   352  1801   346   550  3199   800  7508  1312   357  1937   950\n",
            "  4700  1600  3454 19208   251   850   337   700  8011  2331  2789   487\n",
            "   519  2461  6006  3500  5815  6018  1781  1503   612  1596   229  1506\n",
            "  5809 15020  5867  2172  1598 17410  1363   584  1054   851  1339   318\n",
            "   510   525  1700    28  1151   685  6011   317   703  1771 15001   514\n",
            "   362   332   324  6045   530   425   308  6010   475   903   640  2000\n",
            "   248   651  2799 17011   505  1103  1521   351 16051   398  9000  1998\n",
            " 10311   409  1230 17019 12684  8259  1895   901  1317   871   909  2201\n",
            "  1595   776 17700 11011  1199   459  1162  1120 15033  1896   339   361\n",
            "   574  6512   454   650 13616   604   607 16312  1082   336 20000   416\n",
            "   678  6012  1401  1021  1870 13636  1250  9710   323  1158  2009   902\n",
            "  6062  1275   572   244   399  1016   743  1221  2402 16011  1362   544\n",
            "   645   907   702 12512  1986  1003  1432  9013  9011   442  1017  1394\n",
            " 15017 10910  1992   540  2018 11025  1433  1701  2792  1502  1239  1390\n",
            " 14009  1160  1351 11111  1783  9007   923  1149   754  1988   402  2004\n",
            "  5420  1793  1324   356  7511  1299   293 19312  1079  1689   998  1100\n",
            "  9012  1933   508 16311   682  1252  1922  7529   732  2389  2200  1707\n",
            "  1416  8500  1012   485  3000 10110   421  4507  1631  7518   377  1004\n",
            "  2007  2598  1548  1241]\n",
            "Уникальные значения столбца Model\n",
            "['golf' nan 'grand' 'fabia' '3er' '2_reihe' 'other' 'c_max' '3_reihe'\n",
            " 'passat' 'navara' 'ka' 'polo' 'twingo' 'a_klasse' 'scirocco' '5er'\n",
            " 'meriva' 'arosa' 'c4' 'civic' 'transporter' 'punto' 'e_klasse' 'clio'\n",
            " 'kadett' 'kangoo' 'corsa' 'one' 'fortwo' '1er' 'b_klasse' 'signum'\n",
            " 'astra' 'a8' 'jetta' 'fiesta' 'c_klasse' 'micra' 'vito' 'sprinter' '156'\n",
            " 'escort' 'forester' 'xc_reihe' 'scenic' 'a4' 'a1' 'insignia' 'combo'\n",
            " 'focus' 'tt' 'a6' 'jazz' 'omega' 'slk' '7er' '80' '147' '100' 'z_reihe'\n",
            " 'sportage' 'sorento' 'v40' 'ibiza' 'mustang' 'eos' 'touran' 'getz' 'a3'\n",
            " 'almera' 'megane' 'lupo' 'r19' 'zafira' 'caddy' 'mondeo' 'cordoba' 'colt'\n",
            " 'impreza' 'vectra' 'berlingo' 'tiguan' 'i_reihe' 'espace' 'sharan'\n",
            " '6_reihe' 'panda' 'up' 'seicento' 'ceed' '5_reihe' 'yeti' 'octavia' 'mii'\n",
            " 'rx_reihe' '6er' 'modus' 'fox' 'matiz' 'beetle' 'c1' 'rio' 'touareg'\n",
            " 'logan' 'spider' 'cuore' 's_max' 'a2' 'galaxy' 'c3' 'viano' 's_klasse'\n",
            " '1_reihe' 'avensis' 'roomster' 'sl' 'kaefer' 'santa' 'cooper' 'leon'\n",
            " '4_reihe' 'a5' '500' 'laguna' 'ptcruiser' 'clk' 'primera' 'x_reihe'\n",
            " 'exeo' '159' 'transit' 'juke' 'qashqai' 'carisma' 'accord' 'corolla'\n",
            " 'lanos' 'phaeton' 'verso' 'swift' 'rav' 'picanto' 'boxster' 'kalos'\n",
            " 'superb' 'stilo' 'alhambra' 'mx_reihe' 'roadster' 'ypsilon' 'cayenne'\n",
            " 'galant' 'justy' '90' 'sirion' 'crossfire' 'agila' 'duster' 'cr_reihe'\n",
            " 'v50' 'c_reihe' 'v_klasse' 'm_klasse' 'yaris' 'c5' 'aygo' 'cc' 'carnival'\n",
            " 'fusion' '911' 'bora' 'forfour' 'm_reihe' 'cl' 'tigra' '300c' 'spark'\n",
            " 'v70' 'kuga' 'x_type' 'ducato' 's_type' 'x_trail' 'toledo' 'altea'\n",
            " 'voyager' 'calibra' 'bravo' 'antara' 'tucson' 'citigo' 'jimny' 'wrangler'\n",
            " 'lybra' 'q7' 'lancer' 'captiva' 'c2' 'discovery' 'freelander' 'sandero'\n",
            " 'note' '900' 'cherokee' 'clubman' 'samara' 'defender' '601' 'cx_reihe'\n",
            " 'legacy' 'pajero' 'auris' 'niva' 's60' 'nubira' 'vivaro' 'g_klasse'\n",
            " 'lodgy' '850' 'range_rover' 'q3' 'serie_2' 'glk' 'charade' 'croma'\n",
            " 'outlander' 'doblo' 'musa' 'move' '9000' 'v60' '145' 'aveo' '200' 'b_max'\n",
            " 'range_rover_sport' 'terios' 'rangerover' 'q5' 'range_rover_evoque'\n",
            " 'materia' 'delta' 'gl' 'kalina' 'amarok' 'elefantino' 'i3' 'kappa'\n",
            " 'serie_3' 'serie_1']\n",
            "Уникальные значения столбца Kilometer\n",
            "[150000 125000  90000  40000  30000  70000   5000 100000  60000  20000\n",
            "  80000  50000  10000]\n",
            "Уникальные значения столбца RegistrationMonth\n",
            "[ 0  5  8  6  7 10 12 11  2  3  1  4  9]\n",
            "Уникальные значения столбца FuelType\n",
            "['petrol' 'gasoline' nan 'lpg' 'other' 'hybrid' 'cng' 'electric']\n",
            "Уникальные значения столбца Brand\n",
            "['volkswagen' 'audi' 'jeep' 'skoda' 'bmw' 'peugeot' 'ford' 'mazda'\n",
            " 'nissan' 'renault' 'mercedes_benz' 'opel' 'seat' 'citroen' 'honda' 'fiat'\n",
            " 'mini' 'smart' 'hyundai' 'sonstige_autos' 'alfa_romeo' 'subaru' 'volvo'\n",
            " 'mitsubishi' 'kia' 'suzuki' 'lancia' 'toyota' 'chevrolet' 'dacia'\n",
            " 'daihatsu' 'trabant' 'saab' 'chrysler' 'jaguar' 'daewoo' 'porsche'\n",
            " 'rover' 'land_rover' 'lada']\n",
            "Уникальные значения столбца Repaired\n",
            "[nan 'yes' 'no']\n",
            "Уникальные значения столбца DateCreated\n",
            "['2016-03-24 00:00:00' '2016-03-14 00:00:00' '2016-03-17 00:00:00'\n",
            " '2016-03-31 00:00:00' '2016-04-04 00:00:00' '2016-04-01 00:00:00'\n",
            " '2016-03-21 00:00:00' '2016-03-26 00:00:00' '2016-04-07 00:00:00'\n",
            " '2016-03-15 00:00:00' '2016-03-11 00:00:00' '2016-03-20 00:00:00'\n",
            " '2016-03-23 00:00:00' '2016-03-27 00:00:00' '2016-03-12 00:00:00'\n",
            " '2016-03-13 00:00:00' '2016-03-18 00:00:00' '2016-03-10 00:00:00'\n",
            " '2016-03-07 00:00:00' '2016-03-09 00:00:00' '2016-03-08 00:00:00'\n",
            " '2016-04-03 00:00:00' '2016-03-29 00:00:00' '2016-03-25 00:00:00'\n",
            " '2016-03-28 00:00:00' '2016-03-30 00:00:00' '2016-03-22 00:00:00'\n",
            " '2016-02-09 00:00:00' '2016-03-05 00:00:00' '2016-04-02 00:00:00'\n",
            " '2016-03-16 00:00:00' '2016-03-19 00:00:00' '2016-04-05 00:00:00'\n",
            " '2016-03-06 00:00:00' '2016-02-12 00:00:00' '2016-03-03 00:00:00'\n",
            " '2016-03-01 00:00:00' '2016-03-04 00:00:00' '2016-04-06 00:00:00'\n",
            " '2016-02-15 00:00:00' '2016-02-24 00:00:00' '2016-02-27 00:00:00'\n",
            " '2015-03-20 00:00:00' '2016-02-28 00:00:00' '2016-02-17 00:00:00'\n",
            " '2016-01-27 00:00:00' '2016-02-20 00:00:00' '2016-02-29 00:00:00'\n",
            " '2016-02-10 00:00:00' '2016-02-23 00:00:00' '2016-02-21 00:00:00'\n",
            " '2015-11-02 00:00:00' '2016-02-19 00:00:00' '2016-02-26 00:00:00'\n",
            " '2016-02-11 00:00:00' '2016-01-10 00:00:00' '2016-02-06 00:00:00'\n",
            " '2016-02-18 00:00:00' '2016-01-29 00:00:00' '2016-03-02 00:00:00'\n",
            " '2015-12-06 00:00:00' '2016-01-24 00:00:00' '2016-01-30 00:00:00'\n",
            " '2016-02-02 00:00:00' '2016-02-16 00:00:00' '2016-02-13 00:00:00'\n",
            " '2016-02-05 00:00:00' '2016-02-22 00:00:00' '2015-11-17 00:00:00'\n",
            " '2014-03-10 00:00:00' '2016-02-07 00:00:00' '2016-01-23 00:00:00'\n",
            " '2016-02-25 00:00:00' '2016-02-14 00:00:00' '2016-01-02 00:00:00'\n",
            " '2015-09-04 00:00:00' '2015-11-12 00:00:00' '2015-12-27 00:00:00'\n",
            " '2015-11-24 00:00:00' '2016-01-20 00:00:00' '2016-02-03 00:00:00'\n",
            " '2015-12-05 00:00:00' '2015-08-07 00:00:00' '2016-01-28 00:00:00'\n",
            " '2016-01-31 00:00:00' '2016-02-08 00:00:00' '2016-01-07 00:00:00'\n",
            " '2016-01-22 00:00:00' '2016-01-18 00:00:00' '2016-01-08 00:00:00'\n",
            " '2015-11-23 00:00:00' '2016-01-13 00:00:00' '2016-01-17 00:00:00'\n",
            " '2016-01-15 00:00:00' '2015-11-08 00:00:00' '2016-01-26 00:00:00'\n",
            " '2016-02-04 00:00:00' '2016-01-25 00:00:00' '2016-01-16 00:00:00'\n",
            " '2015-08-10 00:00:00' '2016-01-03 00:00:00' '2016-01-19 00:00:00'\n",
            " '2015-12-30 00:00:00' '2016-02-01 00:00:00' '2015-12-17 00:00:00'\n",
            " '2015-11-10 00:00:00' '2016-01-06 00:00:00' '2015-09-09 00:00:00'\n",
            " '2015-06-18 00:00:00']\n",
            "Уникальные значения столбца NumberOfPictures\n",
            "[0]\n",
            "Уникальные значения столбца PostalCode\n",
            "[70435 66954 90480 ... 38528 38325 31096]\n",
            "Уникальные значения столбца LastSeen\n",
            "['2016-04-07 03:16:57' '2016-04-07 01:46:50' '2016-04-05 12:47:46' ...\n",
            " '2016-03-19 20:44:43' '2016-03-29 10:17:23' '2016-03-21 10:42:49']\n"
          ]
        }
      ],
      "source": [
        "show_rows(data)"
      ]
    },
    {
      "cell_type": "markdown",
      "metadata": {
        "id": "0nUmb9grs4pw"
      },
      "source": [
        "1. В столбце RegistrationYear существуют некорректные значения года регистрации.\n",
        "2. В столбце RegistrationMonth отсутсвует месяц регистрации.\n",
        "3. В столбце Power присутвует некорректное значение мощности.\n",
        "\n",
        "Определим признаки, важные для модели.\n",
        "\n",
        "К значимым признакам отнесем следующие столбцы:\n",
        "\n",
        "* VehicleType. Тип машины определяет ее функционал. Чем больше возможностей у машины, тем выше цена.\n",
        "* Gearbox. Наличие автоматической коробки передач повышает стоимость машины из-за сложности конструкции.\n",
        "* Power. Мощность в лоашдиных силах (далее л.с.) напрямую влияют на цену.\n",
        "* Kilometer. Имеет обратно пропорциональную зависиммость от цены. Чем больше километров проехала машина, тем меньше ее надежность и соответсвенно цена.\n",
        "* FuelType. Тип топлива определяет конструкцию двигателя внутреннего сгорания.\n",
        "* Brand. Концерн/компания, которая создала автомобиль показывает качество и надежность автомобиля.\n",
        "* Repaired. Машины, которые побывали в дорожно-транспортных проишествиях означает, что машина подвергалась изменениям и ее надежность ниже.\n",
        "* RegistrationYear. Год регистрации определяет сколько уже лет машина на ходу. соответвенно, чем больше возраст, тем меньше цена.\n",
        "* Model. В купе с типом машины и брендом може влиять на популярность у покупателей.\n",
        "\n",
        "Остальные столбцы для модели не требуются, так как не влияют на стоимость."
      ]
    },
    {
      "cell_type": "markdown",
      "metadata": {
        "id": "YBTJnH2Ks4pw"
      },
      "source": [
        "Сократим дата фрейм до нужных столбцов:"
      ]
    },
    {
      "cell_type": "code",
      "execution_count": null,
      "metadata": {
        "id": "r5c8F8Shs4px",
        "outputId": "30fc3dd6-15b7-4f83-eeb7-e498f444f8f5"
      },
      "outputs": [
        {
          "name": "stdout",
          "output_type": "stream",
          "text": [
            "<class 'pandas.core.frame.DataFrame'>\n",
            "RangeIndex: 354369 entries, 0 to 354368\n",
            "Data columns (total 10 columns):\n",
            " #   Column            Non-Null Count   Dtype \n",
            "---  ------            --------------   ----- \n",
            " 0   VehicleType       316879 non-null  object\n",
            " 1   Gearbox           334536 non-null  object\n",
            " 2   Power             354369 non-null  int64 \n",
            " 3   Kilometer         354369 non-null  int64 \n",
            " 4   FuelType          321474 non-null  object\n",
            " 5   Brand             354369 non-null  object\n",
            " 6   Repaired          283215 non-null  object\n",
            " 7   RegistrationYear  354369 non-null  int64 \n",
            " 8   Model             334664 non-null  object\n",
            " 9   Price             354369 non-null  int64 \n",
            "dtypes: int64(4), object(6)\n",
            "memory usage: 27.0+ MB\n"
          ]
        }
      ],
      "source": [
        "df = data[['VehicleType',\n",
        "                         'Gearbox',\n",
        "                         'Power',\n",
        "                         'Kilometer',\n",
        "                         'FuelType',\n",
        "                         'Brand',\n",
        "                         'Repaired',\n",
        "                         'RegistrationYear',\n",
        "                         'Model',\n",
        "                         'Price']]\n",
        "df.info()"
      ]
    },
    {
      "cell_type": "markdown",
      "metadata": {
        "id": "ciByvpCms4px"
      },
      "source": [
        "Столбцы требующие обработки:\n",
        "\n",
        "* VehicleType. Восстановим пропущенные значения по популярному типу из столбца Brand.\n",
        "* Gearbox. Для всех NaN установим значение 'manual'.\n",
        "* Power. Скоректируем на основе реальных значений в машинах. Иметь 1 л.с. или 15000 л.с. для машины на данный момент нереально.\n",
        "* FuelType. Восстановим пропущенные значения по популярному типу из столбца Brand.\n",
        "* Repaired. Для всех NaN установим значение 'yes'.\n",
        "* RegistrationYear. Скоректируем на основе реальных значений в машинах.\n",
        "* Model. Для всех NaN установим значение 'unknown'."
      ]
    },
    {
      "cell_type": "markdown",
      "metadata": {
        "id": "btkfDDXxs4px"
      },
      "source": [
        "Проверим наполнение целевого признака Price."
      ]
    },
    {
      "cell_type": "code",
      "execution_count": null,
      "metadata": {
        "id": "jYg5QPxqs4px",
        "outputId": "48a10826-f67f-4393-e9f6-b472c5f3c8ca"
      },
      "outputs": [
        {
          "data": {
            "text/plain": [
              "0        10772\n",
              "500       5670\n",
              "1500      5394\n",
              "1000      4649\n",
              "1200      4594\n",
              "         ...  \n",
              "13180        1\n",
              "10879        1\n",
              "2683         1\n",
              "634          1\n",
              "8188         1\n",
              "Name: Price, Length: 3731, dtype: int64"
            ]
          },
          "execution_count": 7,
          "metadata": {},
          "output_type": "execute_result"
        }
      ],
      "source": [
        "df['Price'].value_counts()"
      ]
    },
    {
      "cell_type": "markdown",
      "metadata": {
        "id": "64iHnXo0s4px"
      },
      "source": [
        "Видно, что существует 10772 записи без цены. Удалим их и проверим распределение цены на гистограмме."
      ]
    },
    {
      "cell_type": "code",
      "execution_count": null,
      "metadata": {
        "id": "uL4Xh4mYs4py",
        "outputId": "78fcca1a-8261-4272-d25e-ec0d050c31cf"
      },
      "outputs": [
        {
          "data": {
            "text/plain": [
              "count    343597.000000\n",
              "mean       4555.121974\n",
              "std        4515.058553\n",
              "min           1.000000\n",
              "25%        1200.000000\n",
              "50%        2890.000000\n",
              "75%        6500.000000\n",
              "max       20000.000000\n",
              "Name: Price, dtype: float64"
            ]
          },
          "execution_count": 8,
          "metadata": {},
          "output_type": "execute_result"
        },
        {
          "data": {
            "image/png": "[encoded data removed]",
            "text/plain": [
              "<Figure size 864x648 with 1 Axes>"
            ]
          },
          "metadata": {
            "needs_background": "light"
          },
          "output_type": "display_data"
        }
      ],
      "source": [
        "df = df.query('Price > 0')\n",
        "df['Price'].hist(bins=100, figsize=(12,9))\n",
        "df['Price'].describe()"
      ]
    },
    {
      "cell_type": "markdown",
      "metadata": {
        "id": "BeWgvpA8s4py"
      },
      "source": [
        "Выделим квантили 5% и 80%."
      ]
    },
    {
      "cell_type": "code",
      "execution_count": null,
      "metadata": {
        "id": "P3gM75cFs4py",
        "outputId": "df340ebe-f73b-42d6-f8fd-9e4e3aca8b89"
      },
      "outputs": [
        {
          "data": {
            "text/plain": [
              "0.05     350.0\n",
              "0.80    7800.0\n",
              "Name: Price, dtype: float64"
            ]
          },
          "execution_count": 9,
          "metadata": {},
          "output_type": "execute_result"
        }
      ],
      "source": [
        "df['Price'].quantile([.05, 0.8])"
      ]
    },
    {
      "cell_type": "markdown",
      "metadata": {
        "id": "EV5jVVQXs4py"
      },
      "source": [
        "\n",
        "Стоимость 350 евро примерно равно 28000 рублей. Это минимальная цена для продажи поддержанного авто. Выбор 80% квантиля обоснован болльшими выбросами после 7500 евро."
      ]
    },
    {
      "cell_type": "code",
      "execution_count": null,
      "metadata": {
        "id": "EfRWo8fHs4py",
        "outputId": "42da7913-0ac3-4199-f979-e95f9da7cf0a"
      },
      "outputs": [
        {
          "name": "stdout",
          "output_type": "stream",
          "text": [
            "<class 'pandas.core.frame.DataFrame'>\n",
            "Int64Index: 259798 entries, 0 to 354368\n",
            "Data columns (total 10 columns):\n",
            " #   Column            Non-Null Count   Dtype \n",
            "---  ------            --------------   ----- \n",
            " 0   VehicleType       233267 non-null  object\n",
            " 1   Gearbox           246646 non-null  object\n",
            " 2   Power             259798 non-null  int64 \n",
            " 3   Kilometer         259798 non-null  int64 \n",
            " 4   FuelType          236972 non-null  object\n",
            " 5   Brand             259798 non-null  object\n",
            " 6   Repaired          206998 non-null  object\n",
            " 7   RegistrationYear  259798 non-null  int64 \n",
            " 8   Model             246358 non-null  object\n",
            " 9   Price             259798 non-null  int64 \n",
            "dtypes: int64(4), object(6)\n",
            "memory usage: 21.8+ MB\n"
          ]
        }
      ],
      "source": [
        "df = df.query('350 <= Price <= 7800')\n",
        "df.info()"
      ]
    },
    {
      "cell_type": "markdown",
      "metadata": {
        "id": "hj1LQPg1s4py"
      },
      "source": [
        "Проверим значения столбца RegistrationYear на гистограмме."
      ]
    },
    {
      "cell_type": "code",
      "execution_count": null,
      "metadata": {
        "id": "ey2ZyNxzs4pz",
        "outputId": "df30fd60-29a8-4d3d-f340-04d5e92ba9c6"
      },
      "outputs": [
        {
          "data": {
            "text/plain": [
              "count    259798.000000\n",
              "mean       2002.844976\n",
              "std          65.140145\n",
              "min        1000.000000\n",
              "25%        1999.000000\n",
              "50%        2002.000000\n",
              "75%        2006.000000\n",
              "max        9999.000000\n",
              "Name: RegistrationYear, dtype: float64"
            ]
          },
          "execution_count": 11,
          "metadata": {},
          "output_type": "execute_result"
        },
        {
          "data": {
            "image/png": "[encoded data removed]",
            "text/plain": [
              "<Figure size 864x648 with 1 Axes>"
            ]
          },
          "metadata": {
            "needs_background": "light"
          },
          "output_type": "display_data"
        }
      ],
      "source": [
        "df['RegistrationYear'].hist(bins=100, figsize=(12,9))\n",
        "df['RegistrationYear'].describe()"
      ]
    },
    {
      "cell_type": "markdown",
      "metadata": {
        "id": "YyAt-d3cs4pz"
      },
      "source": [
        "В годе регистрации наблюдаются выбросы. Отсечем правые выбросы, узнав максимальную дату скачивания анкеты автомобиля."
      ]
    },
    {
      "cell_type": "code",
      "execution_count": null,
      "metadata": {
        "id": "TcpH-nfos4pz",
        "outputId": "8be31fdb-d451-4b71-e719-1c7b120bc51d"
      },
      "outputs": [
        {
          "data": {
            "text/plain": [
              "Timestamp('2016-04-07 14:36:58')"
            ]
          },
          "execution_count": 12,
          "metadata": {},
          "output_type": "execute_result"
        }
      ],
      "source": [
        "date = pd.to_datetime(data['DateCrawled'])\n",
        "date.max()"
      ]
    },
    {
      "cell_type": "markdown",
      "metadata": {
        "id": "1vpmXDxZs4pz"
      },
      "source": [
        "Даты регистрации после 2016 года некорректны и машины появились не раньше 1900 года. Отсечем ненужные года и промотрим левые выбросы."
      ]
    },
    {
      "cell_type": "code",
      "execution_count": null,
      "metadata": {
        "id": "4sQ-JBaOs4pz",
        "outputId": "aebd86b8-b580-4d7b-e4ae-3684aeac54f2"
      },
      "outputs": [
        {
          "data": {
            "text/plain": [
              "count    247788.000000\n",
              "mean       2001.539179\n",
              "std           6.112319\n",
              "min        1910.000000\n",
              "25%        1998.000000\n",
              "50%        2002.000000\n",
              "75%        2005.000000\n",
              "max        2016.000000\n",
              "Name: RegistrationYear, dtype: float64"
            ]
          },
          "execution_count": 13,
          "metadata": {},
          "output_type": "execute_result"
        },
        {
          "data": {
            "image/png": "[encoded data removed]",
            "text/plain": [
              "<Figure size 864x648 with 1 Axes>"
            ]
          },
          "metadata": {
            "needs_background": "light"
          },
          "output_type": "display_data"
        }
      ],
      "source": [
        "df = df.query('1899 < RegistrationYear < 2017')\n",
        "df['RegistrationYear'].hist(bins=100, figsize=(12,9))\n",
        "df['RegistrationYear'].describe()"
      ]
    },
    {
      "cell_type": "markdown",
      "metadata": {
        "id": "U-iRJy6Gs4p0"
      },
      "source": [
        "По левой части гистограммы видно, что адекватно использовать левую границу в 1960 год, так как это старые, но возможно еще работающие машины."
      ]
    },
    {
      "cell_type": "code",
      "execution_count": null,
      "metadata": {
        "id": "5RVdXwJXs4p0",
        "outputId": "3e02d4eb-4e9e-4873-d129-5e1a70fd58fd"
      },
      "outputs": [
        {
          "data": {
            "text/plain": [
              "count    247665.000000\n",
              "mean       2001.567440\n",
              "std           5.968335\n",
              "min        1960.000000\n",
              "25%        1998.000000\n",
              "50%        2002.000000\n",
              "75%        2005.000000\n",
              "max        2016.000000\n",
              "Name: RegistrationYear, dtype: float64"
            ]
          },
          "execution_count": 14,
          "metadata": {},
          "output_type": "execute_result"
        },
        {
          "data": {
            "image/png": "[encoded data removed]",
            "text/plain": [
              "<Figure size 864x648 with 1 Axes>"
            ]
          },
          "metadata": {
            "needs_background": "light"
          },
          "output_type": "display_data"
        }
      ],
      "source": [
        "df = df.query('1959 < RegistrationYear < 2017')\n",
        "df['RegistrationYear'].hist(bins=50, figsize=(12,9))\n",
        "df['RegistrationYear'].describe()"
      ]
    },
    {
      "cell_type": "markdown",
      "metadata": {
        "id": "EVFMKg2Gs4p0"
      },
      "source": [
        "<div class=\"alert alert-success\">\n",
        "    ✔️ <b>Комментарий ревьюера</b>\n",
        "\n",
        "Абсолютно согласен с рассуждениями. Круто, что смотришь на дату выгрузки.\n",
        "</div>"
      ]
    },
    {
      "cell_type": "markdown",
      "metadata": {
        "id": "jV4_6C1_s4p0"
      },
      "source": [
        "Проведем замену NaN в Gearbox, NotRepaired и Model."
      ]
    },
    {
      "cell_type": "code",
      "execution_count": null,
      "metadata": {
        "id": "5Uyapb_as4p0",
        "outputId": "754290c4-04ef-48a6-af82-c4e09423ee00"
      },
      "outputs": [
        {
          "data": {
            "text/plain": [
              "VehicleType         0.058640\n",
              "Gearbox             0.000000\n",
              "Power               0.000000\n",
              "Kilometer           0.000000\n",
              "FuelType            0.073575\n",
              "Brand               0.000000\n",
              "Repaired            0.000000\n",
              "RegistrationYear    0.000000\n",
              "Model               0.000000\n",
              "Price               0.000000\n",
              "dtype: float64"
            ]
          },
          "execution_count": 15,
          "metadata": {},
          "output_type": "execute_result"
        }
      ],
      "source": [
        "df.fillna({'Gearbox':'manual',\n",
        "           'Repaired':'yes',\n",
        "           'Model':'unknown'},\n",
        "           inplace=True)\n",
        "df.isna().mean()"
      ]
    },
    {
      "cell_type": "markdown",
      "metadata": {
        "id": "LjWU4RYas4p0"
      },
      "source": [
        "Оценим количество пропущенных значений относительно всех значений в столбце VehicleType"
      ]
    },
    {
      "cell_type": "code",
      "execution_count": null,
      "metadata": {
        "id": "DK52htAfs4p1",
        "outputId": "26b26922-530f-411a-fc6c-003d0cb7f739"
      },
      "outputs": [
        {
          "data": {
            "text/plain": [
              "sedan          67609\n",
              "small          66486\n",
              "wagon          47300\n",
              "bus            21087\n",
              "convertible    12662\n",
              "coupe          10311\n",
              "suv             5237\n",
              "other           2450\n",
              "Name: VehicleType, dtype: int64"
            ]
          },
          "metadata": {},
          "output_type": "display_data"
        },
        {
          "data": {
            "text/plain": [
              "14523"
            ]
          },
          "execution_count": 16,
          "metadata": {},
          "output_type": "execute_result"
        }
      ],
      "source": [
        "display(df['VehicleType'].value_counts())\n",
        "df['VehicleType'].isna().sum()"
      ]
    },
    {
      "cell_type": "markdown",
      "metadata": {
        "id": "K8XMI7hws4p1"
      },
      "source": [
        "Выполним замену NaN в соотвествии с популярным типом кузова для каждого бренда."
      ]
    },
    {
      "cell_type": "code",
      "execution_count": null,
      "metadata": {
        "id": "GK9JqMZms4p2",
        "outputId": "a5f435b9-9cf9-4a60-c253-656f6300e5ff"
      },
      "outputs": [
        {
          "data": {
            "text/html": [
              "<div>\n",
              "<style scoped>\n",
              "    .dataframe tbody tr th:only-of-type {\n",
              "        vertical-align: middle;\n",
              "    }\n",
              "\n",
              "    .dataframe tbody tr th {\n",
              "        vertical-align: top;\n",
              "    }\n",
              "\n",
              "    .dataframe thead tr th {\n",
              "        text-align: left;\n",
              "    }\n",
              "\n",
              "    .dataframe thead tr:last-of-type th {\n",
              "        text-align: right;\n",
              "    }\n",
              "</style>\n",
              "<table border=\"1\" class=\"dataframe\">\n",
              "  <thead>\n",
              "    <tr>\n",
              "      <th></th>\n",
              "      <th colspan=\"21\" halign=\"left\">count</th>\n",
              "    </tr>\n",
              "    <tr>\n",
              "      <th></th>\n",
              "      <th colspan=\"21\" halign=\"left\">Price</th>\n",
              "    </tr>\n",
              "    <tr>\n",
              "      <th>Brand</th>\n",
              "      <th>alfa_romeo</th>\n",
              "      <th>audi</th>\n",
              "      <th>bmw</th>\n",
              "      <th>chevrolet</th>\n",
              "      <th>chrysler</th>\n",
              "      <th>citroen</th>\n",
              "      <th>dacia</th>\n",
              "      <th>daewoo</th>\n",
              "      <th>daihatsu</th>\n",
              "      <th>fiat</th>\n",
              "      <th>...</th>\n",
              "      <th>seat</th>\n",
              "      <th>skoda</th>\n",
              "      <th>smart</th>\n",
              "      <th>sonstige_autos</th>\n",
              "      <th>subaru</th>\n",
              "      <th>suzuki</th>\n",
              "      <th>toyota</th>\n",
              "      <th>trabant</th>\n",
              "      <th>volkswagen</th>\n",
              "      <th>volvo</th>\n",
              "    </tr>\n",
              "    <tr>\n",
              "      <th>VehicleType</th>\n",
              "      <th></th>\n",
              "      <th></th>\n",
              "      <th></th>\n",
              "      <th></th>\n",
              "      <th></th>\n",
              "      <th></th>\n",
              "      <th></th>\n",
              "      <th></th>\n",
              "      <th></th>\n",
              "      <th></th>\n",
              "      <th></th>\n",
              "      <th></th>\n",
              "      <th></th>\n",
              "      <th></th>\n",
              "      <th></th>\n",
              "      <th></th>\n",
              "      <th></th>\n",
              "      <th></th>\n",
              "      <th></th>\n",
              "      <th></th>\n",
              "      <th></th>\n",
              "    </tr>\n",
              "  </thead>\n",
              "  <tbody>\n",
              "    <tr>\n",
              "      <th>bus</th>\n",
              "      <td>NaN</td>\n",
              "      <td>10.0</td>\n",
              "      <td>4.0</td>\n",
              "      <td>98.0</td>\n",
              "      <td>370.0</td>\n",
              "      <td>1040.0</td>\n",
              "      <td>15.0</td>\n",
              "      <td>26.0</td>\n",
              "      <td>31.0</td>\n",
              "      <td>707.0</td>\n",
              "      <td>...</td>\n",
              "      <td>485.0</td>\n",
              "      <td>158.0</td>\n",
              "      <td>1.0</td>\n",
              "      <td>140.0</td>\n",
              "      <td>16.0</td>\n",
              "      <td>27.0</td>\n",
              "      <td>341.0</td>\n",
              "      <td>NaN</td>\n",
              "      <td>5936.0</td>\n",
              "      <td>NaN</td>\n",
              "    </tr>\n",
              "    <tr>\n",
              "      <th>convertible</th>\n",
              "      <td>111.0</td>\n",
              "      <td>667.0</td>\n",
              "      <td>1636.0</td>\n",
              "      <td>6.0</td>\n",
              "      <td>195.0</td>\n",
              "      <td>96.0</td>\n",
              "      <td>NaN</td>\n",
              "      <td>1.0</td>\n",
              "      <td>8.0</td>\n",
              "      <td>257.0</td>\n",
              "      <td>...</td>\n",
              "      <td>NaN</td>\n",
              "      <td>3.0</td>\n",
              "      <td>988.0</td>\n",
              "      <td>161.0</td>\n",
              "      <td>NaN</td>\n",
              "      <td>32.0</td>\n",
              "      <td>47.0</td>\n",
              "      <td>30.0</td>\n",
              "      <td>2029.0</td>\n",
              "      <td>35.0</td>\n",
              "    </tr>\n",
              "    <tr>\n",
              "      <th>coupe</th>\n",
              "      <td>180.0</td>\n",
              "      <td>651.0</td>\n",
              "      <td>2570.0</td>\n",
              "      <td>45.0</td>\n",
              "      <td>17.0</td>\n",
              "      <td>137.0</td>\n",
              "      <td>NaN</td>\n",
              "      <td>2.0</td>\n",
              "      <td>NaN</td>\n",
              "      <td>151.0</td>\n",
              "      <td>...</td>\n",
              "      <td>64.0</td>\n",
              "      <td>6.0</td>\n",
              "      <td>318.0</td>\n",
              "      <td>79.0</td>\n",
              "      <td>3.0</td>\n",
              "      <td>4.0</td>\n",
              "      <td>178.0</td>\n",
              "      <td>2.0</td>\n",
              "      <td>740.0</td>\n",
              "      <td>50.0</td>\n",
              "    </tr>\n",
              "    <tr>\n",
              "      <th>other</th>\n",
              "      <td>10.0</td>\n",
              "      <td>83.0</td>\n",
              "      <td>187.0</td>\n",
              "      <td>18.0</td>\n",
              "      <td>6.0</td>\n",
              "      <td>95.0</td>\n",
              "      <td>5.0</td>\n",
              "      <td>5.0</td>\n",
              "      <td>9.0</td>\n",
              "      <td>151.0</td>\n",
              "      <td>...</td>\n",
              "      <td>47.0</td>\n",
              "      <td>21.0</td>\n",
              "      <td>8.0</td>\n",
              "      <td>167.0</td>\n",
              "      <td>5.0</td>\n",
              "      <td>10.0</td>\n",
              "      <td>15.0</td>\n",
              "      <td>4.0</td>\n",
              "      <td>586.0</td>\n",
              "      <td>NaN</td>\n",
              "    </tr>\n",
              "    <tr>\n",
              "      <th>sedan</th>\n",
              "      <td>777.0</td>\n",
              "      <td>7828.0</td>\n",
              "      <td>11309.0</td>\n",
              "      <td>146.0</td>\n",
              "      <td>205.0</td>\n",
              "      <td>538.0</td>\n",
              "      <td>97.0</td>\n",
              "      <td>87.0</td>\n",
              "      <td>35.0</td>\n",
              "      <td>796.0</td>\n",
              "      <td>...</td>\n",
              "      <td>1220.0</td>\n",
              "      <td>694.0</td>\n",
              "      <td>26.0</td>\n",
              "      <td>257.0</td>\n",
              "      <td>99.0</td>\n",
              "      <td>131.0</td>\n",
              "      <td>735.0</td>\n",
              "      <td>170.0</td>\n",
              "      <td>14847.0</td>\n",
              "      <td>487.0</td>\n",
              "    </tr>\n",
              "    <tr>\n",
              "      <th>small</th>\n",
              "      <td>185.0</td>\n",
              "      <td>933.0</td>\n",
              "      <td>324.0</td>\n",
              "      <td>574.0</td>\n",
              "      <td>12.0</td>\n",
              "      <td>1372.0</td>\n",
              "      <td>178.0</td>\n",
              "      <td>247.0</td>\n",
              "      <td>439.0</td>\n",
              "      <td>4520.0</td>\n",
              "      <td>...</td>\n",
              "      <td>2621.0</td>\n",
              "      <td>930.0</td>\n",
              "      <td>3099.0</td>\n",
              "      <td>166.0</td>\n",
              "      <td>99.0</td>\n",
              "      <td>810.0</td>\n",
              "      <td>1475.0</td>\n",
              "      <td>49.0</td>\n",
              "      <td>15294.0</td>\n",
              "      <td>6.0</td>\n",
              "    </tr>\n",
              "    <tr>\n",
              "      <th>suv</th>\n",
              "      <td>NaN</td>\n",
              "      <td>18.0</td>\n",
              "      <td>189.0</td>\n",
              "      <td>146.0</td>\n",
              "      <td>12.0</td>\n",
              "      <td>8.0</td>\n",
              "      <td>46.0</td>\n",
              "      <td>1.0</td>\n",
              "      <td>46.0</td>\n",
              "      <td>17.0</td>\n",
              "      <td>...</td>\n",
              "      <td>1.0</td>\n",
              "      <td>7.0</td>\n",
              "      <td>NaN</td>\n",
              "      <td>174.0</td>\n",
              "      <td>42.0</td>\n",
              "      <td>557.0</td>\n",
              "      <td>252.0</td>\n",
              "      <td>NaN</td>\n",
              "      <td>247.0</td>\n",
              "      <td>30.0</td>\n",
              "    </tr>\n",
              "    <tr>\n",
              "      <th>wagon</th>\n",
              "      <td>388.0</td>\n",
              "      <td>6422.0</td>\n",
              "      <td>4997.0</td>\n",
              "      <td>83.0</td>\n",
              "      <td>183.0</td>\n",
              "      <td>497.0</td>\n",
              "      <td>227.0</td>\n",
              "      <td>36.0</td>\n",
              "      <td>16.0</td>\n",
              "      <td>370.0</td>\n",
              "      <td>...</td>\n",
              "      <td>215.0</td>\n",
              "      <td>1763.0</td>\n",
              "      <td>9.0</td>\n",
              "      <td>104.0</td>\n",
              "      <td>241.0</td>\n",
              "      <td>84.0</td>\n",
              "      <td>449.0</td>\n",
              "      <td>66.0</td>\n",
              "      <td>9704.0</td>\n",
              "      <td>1655.0</td>\n",
              "    </tr>\n",
              "  </tbody>\n",
              "</table>\n",
              "<p>8 rows × 40 columns</p>\n",
              "</div>"
            ],
            "text/plain": [
              "                 count                                                     \\\n",
              "                 Price                                                      \n",
              "Brand       alfa_romeo    audi      bmw chevrolet chrysler citroen  dacia   \n",
              "VehicleType                                                                 \n",
              "bus                NaN    10.0      4.0      98.0    370.0  1040.0   15.0   \n",
              "convertible      111.0   667.0   1636.0       6.0    195.0    96.0    NaN   \n",
              "coupe            180.0   651.0   2570.0      45.0     17.0   137.0    NaN   \n",
              "other             10.0    83.0    187.0      18.0      6.0    95.0    5.0   \n",
              "sedan            777.0  7828.0  11309.0     146.0    205.0   538.0   97.0   \n",
              "small            185.0   933.0    324.0     574.0     12.0  1372.0  178.0   \n",
              "suv                NaN    18.0    189.0     146.0     12.0     8.0   46.0   \n",
              "wagon            388.0  6422.0   4997.0      83.0    183.0   497.0  227.0   \n",
              "\n",
              "                                     ...                          \\\n",
              "                                     ...                           \n",
              "Brand       daewoo daihatsu    fiat  ...    seat   skoda   smart   \n",
              "VehicleType                          ...                           \n",
              "bus           26.0     31.0   707.0  ...   485.0   158.0     1.0   \n",
              "convertible    1.0      8.0   257.0  ...     NaN     3.0   988.0   \n",
              "coupe          2.0      NaN   151.0  ...    64.0     6.0   318.0   \n",
              "other          5.0      9.0   151.0  ...    47.0    21.0     8.0   \n",
              "sedan         87.0     35.0   796.0  ...  1220.0   694.0    26.0   \n",
              "small        247.0    439.0  4520.0  ...  2621.0   930.0  3099.0   \n",
              "suv            1.0     46.0    17.0  ...     1.0     7.0     NaN   \n",
              "wagon         36.0     16.0   370.0  ...   215.0  1763.0     9.0   \n",
              "\n",
              "                                                                             \n",
              "                                                                             \n",
              "Brand       sonstige_autos subaru suzuki  toyota trabant volkswagen   volvo  \n",
              "VehicleType                                                                  \n",
              "bus                  140.0   16.0   27.0   341.0     NaN     5936.0     NaN  \n",
              "convertible          161.0    NaN   32.0    47.0    30.0     2029.0    35.0  \n",
              "coupe                 79.0    3.0    4.0   178.0     2.0      740.0    50.0  \n",
              "other                167.0    5.0   10.0    15.0     4.0      586.0     NaN  \n",
              "sedan                257.0   99.0  131.0   735.0   170.0    14847.0   487.0  \n",
              "small                166.0   99.0  810.0  1475.0    49.0    15294.0     6.0  \n",
              "suv                  174.0   42.0  557.0   252.0     NaN      247.0    30.0  \n",
              "wagon                104.0  241.0   84.0   449.0    66.0     9704.0  1655.0  \n",
              "\n",
              "[8 rows x 40 columns]"
            ]
          },
          "metadata": {},
          "output_type": "display_data"
        },
        {
          "data": {
            "text/plain": [
              "sedan          777\n",
              "wagon          388\n",
              "small          185\n",
              "coupe          180\n",
              "convertible    111\n",
              "other           10\n",
              "Name: VehicleType, dtype: int64"
            ]
          },
          "execution_count": 17,
          "metadata": {},
          "output_type": "execute_result"
        }
      ],
      "source": [
        "vehicle_type_pivot_table = df.pivot_table(index=['VehicleType'],\n",
        "                                                          columns=['Brand'],\n",
        "                                                          values=['Price'],\n",
        "                                                          aggfunc=['count'])\n",
        "display(vehicle_type_pivot_table)\n",
        "df[df['Brand'] == 'alfa_romeo']['VehicleType'].value_counts()"
      ]
    },
    {
      "cell_type": "code",
      "execution_count": null,
      "metadata": {
        "id": "MHghI-gws4p2",
        "outputId": "cc80cf37-2127-4d69-b73b-a56dbeb15cb1"
      },
      "outputs": [
        {
          "data": {
            "text/html": [
              "<div>\n",
              "<style scoped>\n",
              "    .dataframe tbody tr th:only-of-type {\n",
              "        vertical-align: middle;\n",
              "    }\n",
              "\n",
              "    .dataframe tbody tr th {\n",
              "        vertical-align: top;\n",
              "    }\n",
              "\n",
              "    .dataframe thead th {\n",
              "        text-align: right;\n",
              "    }\n",
              "</style>\n",
              "<table border=\"1\" class=\"dataframe\">\n",
              "  <thead>\n",
              "    <tr style=\"text-align: right;\">\n",
              "      <th>Brand</th>\n",
              "      <th>alfa_romeo</th>\n",
              "      <th>audi</th>\n",
              "      <th>bmw</th>\n",
              "      <th>chevrolet</th>\n",
              "      <th>chrysler</th>\n",
              "      <th>citroen</th>\n",
              "      <th>dacia</th>\n",
              "      <th>daewoo</th>\n",
              "      <th>daihatsu</th>\n",
              "      <th>fiat</th>\n",
              "      <th>...</th>\n",
              "      <th>seat</th>\n",
              "      <th>skoda</th>\n",
              "      <th>smart</th>\n",
              "      <th>sonstige_autos</th>\n",
              "      <th>subaru</th>\n",
              "      <th>suzuki</th>\n",
              "      <th>toyota</th>\n",
              "      <th>trabant</th>\n",
              "      <th>volkswagen</th>\n",
              "      <th>volvo</th>\n",
              "    </tr>\n",
              "    <tr>\n",
              "      <th>VehicleType</th>\n",
              "      <th></th>\n",
              "      <th></th>\n",
              "      <th></th>\n",
              "      <th></th>\n",
              "      <th></th>\n",
              "      <th></th>\n",
              "      <th></th>\n",
              "      <th></th>\n",
              "      <th></th>\n",
              "      <th></th>\n",
              "      <th></th>\n",
              "      <th></th>\n",
              "      <th></th>\n",
              "      <th></th>\n",
              "      <th></th>\n",
              "      <th></th>\n",
              "      <th></th>\n",
              "      <th></th>\n",
              "      <th></th>\n",
              "      <th></th>\n",
              "      <th></th>\n",
              "    </tr>\n",
              "  </thead>\n",
              "  <tbody>\n",
              "    <tr>\n",
              "      <th>bus</th>\n",
              "      <td>NaN</td>\n",
              "      <td>10.0</td>\n",
              "      <td>4.0</td>\n",
              "      <td>98.0</td>\n",
              "      <td>370.0</td>\n",
              "      <td>1040.0</td>\n",
              "      <td>15.0</td>\n",
              "      <td>26.0</td>\n",
              "      <td>31.0</td>\n",
              "      <td>707.0</td>\n",
              "      <td>...</td>\n",
              "      <td>485.0</td>\n",
              "      <td>158.0</td>\n",
              "      <td>1.0</td>\n",
              "      <td>140.0</td>\n",
              "      <td>16.0</td>\n",
              "      <td>27.0</td>\n",
              "      <td>341.0</td>\n",
              "      <td>NaN</td>\n",
              "      <td>5936.0</td>\n",
              "      <td>NaN</td>\n",
              "    </tr>\n",
              "    <tr>\n",
              "      <th>convertible</th>\n",
              "      <td>111.0</td>\n",
              "      <td>667.0</td>\n",
              "      <td>1636.0</td>\n",
              "      <td>6.0</td>\n",
              "      <td>195.0</td>\n",
              "      <td>96.0</td>\n",
              "      <td>NaN</td>\n",
              "      <td>1.0</td>\n",
              "      <td>8.0</td>\n",
              "      <td>257.0</td>\n",
              "      <td>...</td>\n",
              "      <td>NaN</td>\n",
              "      <td>3.0</td>\n",
              "      <td>988.0</td>\n",
              "      <td>161.0</td>\n",
              "      <td>NaN</td>\n",
              "      <td>32.0</td>\n",
              "      <td>47.0</td>\n",
              "      <td>30.0</td>\n",
              "      <td>2029.0</td>\n",
              "      <td>35.0</td>\n",
              "    </tr>\n",
              "    <tr>\n",
              "      <th>coupe</th>\n",
              "      <td>180.0</td>\n",
              "      <td>651.0</td>\n",
              "      <td>2570.0</td>\n",
              "      <td>45.0</td>\n",
              "      <td>17.0</td>\n",
              "      <td>137.0</td>\n",
              "      <td>NaN</td>\n",
              "      <td>2.0</td>\n",
              "      <td>NaN</td>\n",
              "      <td>151.0</td>\n",
              "      <td>...</td>\n",
              "      <td>64.0</td>\n",
              "      <td>6.0</td>\n",
              "      <td>318.0</td>\n",
              "      <td>79.0</td>\n",
              "      <td>3.0</td>\n",
              "      <td>4.0</td>\n",
              "      <td>178.0</td>\n",
              "      <td>2.0</td>\n",
              "      <td>740.0</td>\n",
              "      <td>50.0</td>\n",
              "    </tr>\n",
              "    <tr>\n",
              "      <th>other</th>\n",
              "      <td>10.0</td>\n",
              "      <td>83.0</td>\n",
              "      <td>187.0</td>\n",
              "      <td>18.0</td>\n",
              "      <td>6.0</td>\n",
              "      <td>95.0</td>\n",
              "      <td>5.0</td>\n",
              "      <td>5.0</td>\n",
              "      <td>9.0</td>\n",
              "      <td>151.0</td>\n",
              "      <td>...</td>\n",
              "      <td>47.0</td>\n",
              "      <td>21.0</td>\n",
              "      <td>8.0</td>\n",
              "      <td>167.0</td>\n",
              "      <td>5.0</td>\n",
              "      <td>10.0</td>\n",
              "      <td>15.0</td>\n",
              "      <td>4.0</td>\n",
              "      <td>586.0</td>\n",
              "      <td>NaN</td>\n",
              "    </tr>\n",
              "    <tr>\n",
              "      <th>sedan</th>\n",
              "      <td>777.0</td>\n",
              "      <td>7828.0</td>\n",
              "      <td>11309.0</td>\n",
              "      <td>146.0</td>\n",
              "      <td>205.0</td>\n",
              "      <td>538.0</td>\n",
              "      <td>97.0</td>\n",
              "      <td>87.0</td>\n",
              "      <td>35.0</td>\n",
              "      <td>796.0</td>\n",
              "      <td>...</td>\n",
              "      <td>1220.0</td>\n",
              "      <td>694.0</td>\n",
              "      <td>26.0</td>\n",
              "      <td>257.0</td>\n",
              "      <td>99.0</td>\n",
              "      <td>131.0</td>\n",
              "      <td>735.0</td>\n",
              "      <td>170.0</td>\n",
              "      <td>14847.0</td>\n",
              "      <td>487.0</td>\n",
              "    </tr>\n",
              "    <tr>\n",
              "      <th>small</th>\n",
              "      <td>185.0</td>\n",
              "      <td>933.0</td>\n",
              "      <td>324.0</td>\n",
              "      <td>574.0</td>\n",
              "      <td>12.0</td>\n",
              "      <td>1372.0</td>\n",
              "      <td>178.0</td>\n",
              "      <td>247.0</td>\n",
              "      <td>439.0</td>\n",
              "      <td>4520.0</td>\n",
              "      <td>...</td>\n",
              "      <td>2621.0</td>\n",
              "      <td>930.0</td>\n",
              "      <td>3099.0</td>\n",
              "      <td>166.0</td>\n",
              "      <td>99.0</td>\n",
              "      <td>810.0</td>\n",
              "      <td>1475.0</td>\n",
              "      <td>49.0</td>\n",
              "      <td>15294.0</td>\n",
              "      <td>6.0</td>\n",
              "    </tr>\n",
              "    <tr>\n",
              "      <th>suv</th>\n",
              "      <td>NaN</td>\n",
              "      <td>18.0</td>\n",
              "      <td>189.0</td>\n",
              "      <td>146.0</td>\n",
              "      <td>12.0</td>\n",
              "      <td>8.0</td>\n",
              "      <td>46.0</td>\n",
              "      <td>1.0</td>\n",
              "      <td>46.0</td>\n",
              "      <td>17.0</td>\n",
              "      <td>...</td>\n",
              "      <td>1.0</td>\n",
              "      <td>7.0</td>\n",
              "      <td>NaN</td>\n",
              "      <td>174.0</td>\n",
              "      <td>42.0</td>\n",
              "      <td>557.0</td>\n",
              "      <td>252.0</td>\n",
              "      <td>NaN</td>\n",
              "      <td>247.0</td>\n",
              "      <td>30.0</td>\n",
              "    </tr>\n",
              "    <tr>\n",
              "      <th>wagon</th>\n",
              "      <td>388.0</td>\n",
              "      <td>6422.0</td>\n",
              "      <td>4997.0</td>\n",
              "      <td>83.0</td>\n",
              "      <td>183.0</td>\n",
              "      <td>497.0</td>\n",
              "      <td>227.0</td>\n",
              "      <td>36.0</td>\n",
              "      <td>16.0</td>\n",
              "      <td>370.0</td>\n",
              "      <td>...</td>\n",
              "      <td>215.0</td>\n",
              "      <td>1763.0</td>\n",
              "      <td>9.0</td>\n",
              "      <td>104.0</td>\n",
              "      <td>241.0</td>\n",
              "      <td>84.0</td>\n",
              "      <td>449.0</td>\n",
              "      <td>66.0</td>\n",
              "      <td>9704.0</td>\n",
              "      <td>1655.0</td>\n",
              "    </tr>\n",
              "  </tbody>\n",
              "</table>\n",
              "<p>8 rows × 40 columns</p>\n",
              "</div>"
            ],
            "text/plain": [
              "Brand        alfa_romeo    audi      bmw  chevrolet  chrysler  citroen  dacia  \\\n",
              "VehicleType                                                                     \n",
              "bus                 NaN    10.0      4.0       98.0     370.0   1040.0   15.0   \n",
              "convertible       111.0   667.0   1636.0        6.0     195.0     96.0    NaN   \n",
              "coupe             180.0   651.0   2570.0       45.0      17.0    137.0    NaN   \n",
              "other              10.0    83.0    187.0       18.0       6.0     95.0    5.0   \n",
              "sedan             777.0  7828.0  11309.0      146.0     205.0    538.0   97.0   \n",
              "small             185.0   933.0    324.0      574.0      12.0   1372.0  178.0   \n",
              "suv                 NaN    18.0    189.0      146.0      12.0      8.0   46.0   \n",
              "wagon             388.0  6422.0   4997.0       83.0     183.0    497.0  227.0   \n",
              "\n",
              "Brand        daewoo  daihatsu    fiat  ...    seat   skoda   smart  \\\n",
              "VehicleType                            ...                           \n",
              "bus            26.0      31.0   707.0  ...   485.0   158.0     1.0   \n",
              "convertible     1.0       8.0   257.0  ...     NaN     3.0   988.0   \n",
              "coupe           2.0       NaN   151.0  ...    64.0     6.0   318.0   \n",
              "other           5.0       9.0   151.0  ...    47.0    21.0     8.0   \n",
              "sedan          87.0      35.0   796.0  ...  1220.0   694.0    26.0   \n",
              "small         247.0     439.0  4520.0  ...  2621.0   930.0  3099.0   \n",
              "suv             1.0      46.0    17.0  ...     1.0     7.0     NaN   \n",
              "wagon          36.0      16.0   370.0  ...   215.0  1763.0     9.0   \n",
              "\n",
              "Brand        sonstige_autos  subaru  suzuki  toyota  trabant  volkswagen  \\\n",
              "VehicleType                                                                \n",
              "bus                   140.0    16.0    27.0   341.0      NaN      5936.0   \n",
              "convertible           161.0     NaN    32.0    47.0     30.0      2029.0   \n",
              "coupe                  79.0     3.0     4.0   178.0      2.0       740.0   \n",
              "other                 167.0     5.0    10.0    15.0      4.0       586.0   \n",
              "sedan                 257.0    99.0   131.0   735.0    170.0     14847.0   \n",
              "small                 166.0    99.0   810.0  1475.0     49.0     15294.0   \n",
              "suv                   174.0    42.0   557.0   252.0      NaN       247.0   \n",
              "wagon                 104.0   241.0    84.0   449.0     66.0      9704.0   \n",
              "\n",
              "Brand         volvo  \n",
              "VehicleType          \n",
              "bus             NaN  \n",
              "convertible    35.0  \n",
              "coupe          50.0  \n",
              "other           NaN  \n",
              "sedan         487.0  \n",
              "small           6.0  \n",
              "suv            30.0  \n",
              "wagon        1655.0  \n",
              "\n",
              "[8 rows x 40 columns]"
            ]
          },
          "execution_count": 18,
          "metadata": {},
          "output_type": "execute_result"
        }
      ],
      "source": [
        "vehicle_type_pivot_table = vehicle_type_pivot_table['count']['Price']\n",
        "vehicle_type_pivot_table"
      ]
    },
    {
      "cell_type": "markdown",
      "metadata": {
        "id": "OqWcCcIcs4p2"
      },
      "source": [
        "Заполним словарь брендов и популярных типов машин и заполним пропуски по столбцу VehicleType."
      ]
    },
    {
      "cell_type": "code",
      "execution_count": null,
      "metadata": {
        "id": "ZJPkxxwDs4p2",
        "outputId": "f3e29a0f-67fa-4435-e7be-59f9fa84ad8c"
      },
      "outputs": [
        {
          "name": "stdout",
          "output_type": "stream",
          "text": [
            "<class 'pandas.core.frame.DataFrame'>\n",
            "Int64Index: 247665 entries, 0 to 354368\n",
            "Data columns (total 10 columns):\n",
            " #   Column            Non-Null Count   Dtype \n",
            "---  ------            --------------   ----- \n",
            " 0   VehicleType       233142 non-null  object\n",
            " 1   Gearbox           247665 non-null  object\n",
            " 2   Power             247665 non-null  int64 \n",
            " 3   Kilometer         247665 non-null  int64 \n",
            " 4   FuelType          229443 non-null  object\n",
            " 5   Brand             247665 non-null  object\n",
            " 6   Repaired          247665 non-null  object\n",
            " 7   RegistrationYear  247665 non-null  int64 \n",
            " 8   Model             247665 non-null  object\n",
            " 9   Price             247665 non-null  int64 \n",
            "dtypes: int64(4), object(6)\n",
            "memory usage: 20.8+ MB\n"
          ]
        }
      ],
      "source": [
        "df.info()"
      ]
    },
    {
      "cell_type": "code",
      "execution_count": null,
      "metadata": {
        "id": "V4ilrBD4s4p2",
        "outputId": "05716a45-0849-47fb-ed76-5f9191d08f7a"
      },
      "outputs": [
        {
          "data": {
            "text/plain": [
              "0"
            ]
          },
          "metadata": {},
          "output_type": "display_data"
        },
        {
          "data": {
            "text/plain": [
              "small          76545\n",
              "sedan          71693\n",
              "wagon          47556\n",
              "bus            21144\n",
              "convertible    12662\n",
              "coupe          10330\n",
              "suv             5285\n",
              "other           2450\n",
              "Name: VehicleType, dtype: int64"
            ]
          },
          "execution_count": 20,
          "metadata": {},
          "output_type": "execute_result"
        }
      ],
      "source": [
        "df.fillna({'VehicleType':0},inplace=True)\n",
        "\n",
        "def fillna_by_brand(row, row_number, vehicle_type_pivot_table):\n",
        "    brand = row[5]\n",
        "    fill_value = row[row_number]\n",
        "    if row[row_number] == 0:\n",
        "        fill_value = vehicle_type_pivot_table[brand].idxmax()\n",
        "    return fill_value\n",
        "\n",
        "df['VehicleType'] = df.apply(\n",
        "                                fillna_by_brand,\n",
        "                                args=[0, vehicle_type_pivot_table],\n",
        "                                axis=1)\n",
        "display(df['VehicleType'].isna().sum())\n",
        "df['VehicleType'].value_counts()"
      ]
    },
    {
      "cell_type": "markdown",
      "metadata": {
        "id": "_YcLLWJLs4p3"
      },
      "source": [
        "Заполним пропуски в FuelType по похожему принципу"
      ]
    },
    {
      "cell_type": "code",
      "execution_count": null,
      "metadata": {
        "id": "R9sY0cj6s4p3",
        "outputId": "3d997dbc-1e58-4eb7-856f-c78b80deef3c"
      },
      "outputs": [
        {
          "data": {
            "text/html": [
              "<div>\n",
              "<style scoped>\n",
              "    .dataframe tbody tr th:only-of-type {\n",
              "        vertical-align: middle;\n",
              "    }\n",
              "\n",
              "    .dataframe tbody tr th {\n",
              "        vertical-align: top;\n",
              "    }\n",
              "\n",
              "    .dataframe thead th {\n",
              "        text-align: right;\n",
              "    }\n",
              "</style>\n",
              "<table border=\"1\" class=\"dataframe\">\n",
              "  <thead>\n",
              "    <tr style=\"text-align: right;\">\n",
              "      <th>Brand</th>\n",
              "      <th>alfa_romeo</th>\n",
              "      <th>audi</th>\n",
              "      <th>bmw</th>\n",
              "      <th>chevrolet</th>\n",
              "      <th>chrysler</th>\n",
              "      <th>citroen</th>\n",
              "      <th>dacia</th>\n",
              "      <th>daewoo</th>\n",
              "      <th>daihatsu</th>\n",
              "      <th>fiat</th>\n",
              "      <th>...</th>\n",
              "      <th>seat</th>\n",
              "      <th>skoda</th>\n",
              "      <th>smart</th>\n",
              "      <th>sonstige_autos</th>\n",
              "      <th>subaru</th>\n",
              "      <th>suzuki</th>\n",
              "      <th>toyota</th>\n",
              "      <th>trabant</th>\n",
              "      <th>volkswagen</th>\n",
              "      <th>volvo</th>\n",
              "    </tr>\n",
              "    <tr>\n",
              "      <th>FuelType</th>\n",
              "      <th></th>\n",
              "      <th></th>\n",
              "      <th></th>\n",
              "      <th></th>\n",
              "      <th></th>\n",
              "      <th></th>\n",
              "      <th></th>\n",
              "      <th></th>\n",
              "      <th></th>\n",
              "      <th></th>\n",
              "      <th></th>\n",
              "      <th></th>\n",
              "      <th></th>\n",
              "      <th></th>\n",
              "      <th></th>\n",
              "      <th></th>\n",
              "      <th></th>\n",
              "      <th></th>\n",
              "      <th></th>\n",
              "      <th></th>\n",
              "      <th></th>\n",
              "    </tr>\n",
              "  </thead>\n",
              "  <tbody>\n",
              "    <tr>\n",
              "      <th>cng</th>\n",
              "      <td>NaN</td>\n",
              "      <td>1.0</td>\n",
              "      <td>6.0</td>\n",
              "      <td>4.0</td>\n",
              "      <td>NaN</td>\n",
              "      <td>7.0</td>\n",
              "      <td>2.0</td>\n",
              "      <td>NaN</td>\n",
              "      <td>NaN</td>\n",
              "      <td>63.0</td>\n",
              "      <td>...</td>\n",
              "      <td>NaN</td>\n",
              "      <td>4.0</td>\n",
              "      <td>2.0</td>\n",
              "      <td>NaN</td>\n",
              "      <td>2.0</td>\n",
              "      <td>NaN</td>\n",
              "      <td>NaN</td>\n",
              "      <td>NaN</td>\n",
              "      <td>125.0</td>\n",
              "      <td>14.0</td>\n",
              "    </tr>\n",
              "    <tr>\n",
              "      <th>electric</th>\n",
              "      <td>NaN</td>\n",
              "      <td>1.0</td>\n",
              "      <td>3.0</td>\n",
              "      <td>NaN</td>\n",
              "      <td>NaN</td>\n",
              "      <td>NaN</td>\n",
              "      <td>NaN</td>\n",
              "      <td>NaN</td>\n",
              "      <td>1.0</td>\n",
              "      <td>2.0</td>\n",
              "      <td>...</td>\n",
              "      <td>NaN</td>\n",
              "      <td>NaN</td>\n",
              "      <td>1.0</td>\n",
              "      <td>16.0</td>\n",
              "      <td>NaN</td>\n",
              "      <td>NaN</td>\n",
              "      <td>NaN</td>\n",
              "      <td>NaN</td>\n",
              "      <td>1.0</td>\n",
              "      <td>NaN</td>\n",
              "    </tr>\n",
              "    <tr>\n",
              "      <th>gasoline</th>\n",
              "      <td>480.0</td>\n",
              "      <td>6502.0</td>\n",
              "      <td>5073.0</td>\n",
              "      <td>66.0</td>\n",
              "      <td>264.0</td>\n",
              "      <td>1181.0</td>\n",
              "      <td>98.0</td>\n",
              "      <td>1.0</td>\n",
              "      <td>4.0</td>\n",
              "      <td>1243.0</td>\n",
              "      <td>...</td>\n",
              "      <td>1229.0</td>\n",
              "      <td>1145.0</td>\n",
              "      <td>807.0</td>\n",
              "      <td>297.0</td>\n",
              "      <td>10.0</td>\n",
              "      <td>145.0</td>\n",
              "      <td>679.0</td>\n",
              "      <td>1.0</td>\n",
              "      <td>16655.0</td>\n",
              "      <td>582.0</td>\n",
              "    </tr>\n",
              "    <tr>\n",
              "      <th>hybrid</th>\n",
              "      <td>NaN</td>\n",
              "      <td>NaN</td>\n",
              "      <td>NaN</td>\n",
              "      <td>NaN</td>\n",
              "      <td>NaN</td>\n",
              "      <td>NaN</td>\n",
              "      <td>NaN</td>\n",
              "      <td>NaN</td>\n",
              "      <td>NaN</td>\n",
              "      <td>3.0</td>\n",
              "      <td>...</td>\n",
              "      <td>1.0</td>\n",
              "      <td>NaN</td>\n",
              "      <td>1.0</td>\n",
              "      <td>NaN</td>\n",
              "      <td>NaN</td>\n",
              "      <td>NaN</td>\n",
              "      <td>35.0</td>\n",
              "      <td>NaN</td>\n",
              "      <td>5.0</td>\n",
              "      <td>NaN</td>\n",
              "    </tr>\n",
              "    <tr>\n",
              "      <th>lpg</th>\n",
              "      <td>30.0</td>\n",
              "      <td>356.0</td>\n",
              "      <td>606.0</td>\n",
              "      <td>139.0</td>\n",
              "      <td>77.0</td>\n",
              "      <td>63.0</td>\n",
              "      <td>35.0</td>\n",
              "      <td>23.0</td>\n",
              "      <td>5.0</td>\n",
              "      <td>64.0</td>\n",
              "      <td>...</td>\n",
              "      <td>56.0</td>\n",
              "      <td>48.0</td>\n",
              "      <td>3.0</td>\n",
              "      <td>58.0</td>\n",
              "      <td>25.0</td>\n",
              "      <td>18.0</td>\n",
              "      <td>18.0</td>\n",
              "      <td>NaN</td>\n",
              "      <td>454.0</td>\n",
              "      <td>100.0</td>\n",
              "    </tr>\n",
              "    <tr>\n",
              "      <th>other</th>\n",
              "      <td>NaN</td>\n",
              "      <td>2.0</td>\n",
              "      <td>5.0</td>\n",
              "      <td>NaN</td>\n",
              "      <td>NaN</td>\n",
              "      <td>2.0</td>\n",
              "      <td>NaN</td>\n",
              "      <td>1.0</td>\n",
              "      <td>NaN</td>\n",
              "      <td>3.0</td>\n",
              "      <td>...</td>\n",
              "      <td>NaN</td>\n",
              "      <td>NaN</td>\n",
              "      <td>1.0</td>\n",
              "      <td>16.0</td>\n",
              "      <td>NaN</td>\n",
              "      <td>1.0</td>\n",
              "      <td>NaN</td>\n",
              "      <td>31.0</td>\n",
              "      <td>14.0</td>\n",
              "      <td>2.0</td>\n",
              "    </tr>\n",
              "    <tr>\n",
              "      <th>petrol</th>\n",
              "      <td>1124.0</td>\n",
              "      <td>9465.0</td>\n",
              "      <td>14948.0</td>\n",
              "      <td>884.0</td>\n",
              "      <td>642.0</td>\n",
              "      <td>2499.0</td>\n",
              "      <td>424.0</td>\n",
              "      <td>374.0</td>\n",
              "      <td>564.0</td>\n",
              "      <td>5496.0</td>\n",
              "      <td>...</td>\n",
              "      <td>3333.0</td>\n",
              "      <td>2333.0</td>\n",
              "      <td>3604.0</td>\n",
              "      <td>784.0</td>\n",
              "      <td>453.0</td>\n",
              "      <td>1457.0</td>\n",
              "      <td>2736.0</td>\n",
              "      <td>242.0</td>\n",
              "      <td>31839.0</td>\n",
              "      <td>1507.0</td>\n",
              "    </tr>\n",
              "  </tbody>\n",
              "</table>\n",
              "<p>7 rows × 40 columns</p>\n",
              "</div>"
            ],
            "text/plain": [
              "Brand     alfa_romeo    audi      bmw  chevrolet  chrysler  citroen  dacia  \\\n",
              "FuelType                                                                     \n",
              "cng              NaN     1.0      6.0        4.0       NaN      7.0    2.0   \n",
              "electric         NaN     1.0      3.0        NaN       NaN      NaN    NaN   \n",
              "gasoline       480.0  6502.0   5073.0       66.0     264.0   1181.0   98.0   \n",
              "hybrid           NaN     NaN      NaN        NaN       NaN      NaN    NaN   \n",
              "lpg             30.0   356.0    606.0      139.0      77.0     63.0   35.0   \n",
              "other            NaN     2.0      5.0        NaN       NaN      2.0    NaN   \n",
              "petrol        1124.0  9465.0  14948.0      884.0     642.0   2499.0  424.0   \n",
              "\n",
              "Brand     daewoo  daihatsu    fiat  ...    seat   skoda   smart  \\\n",
              "FuelType                            ...                           \n",
              "cng          NaN       NaN    63.0  ...     NaN     4.0     2.0   \n",
              "electric     NaN       1.0     2.0  ...     NaN     NaN     1.0   \n",
              "gasoline     1.0       4.0  1243.0  ...  1229.0  1145.0   807.0   \n",
              "hybrid       NaN       NaN     3.0  ...     1.0     NaN     1.0   \n",
              "lpg         23.0       5.0    64.0  ...    56.0    48.0     3.0   \n",
              "other        1.0       NaN     3.0  ...     NaN     NaN     1.0   \n",
              "petrol     374.0     564.0  5496.0  ...  3333.0  2333.0  3604.0   \n",
              "\n",
              "Brand     sonstige_autos  subaru  suzuki  toyota  trabant  volkswagen   volvo  \n",
              "FuelType                                                                       \n",
              "cng                  NaN     2.0     NaN     NaN      NaN       125.0    14.0  \n",
              "electric            16.0     NaN     NaN     NaN      NaN         1.0     NaN  \n",
              "gasoline           297.0    10.0   145.0   679.0      1.0     16655.0   582.0  \n",
              "hybrid               NaN     NaN     NaN    35.0      NaN         5.0     NaN  \n",
              "lpg                 58.0    25.0    18.0    18.0      NaN       454.0   100.0  \n",
              "other               16.0     NaN     1.0     NaN     31.0        14.0     2.0  \n",
              "petrol             784.0   453.0  1457.0  2736.0    242.0     31839.0  1507.0  \n",
              "\n",
              "[7 rows x 40 columns]"
            ]
          },
          "metadata": {},
          "output_type": "display_data"
        },
        {
          "data": {
            "text/plain": [
              "0"
            ]
          },
          "metadata": {},
          "output_type": "display_data"
        },
        {
          "data": {
            "text/plain": [
              "petrol      162858\n",
              "gasoline     61661\n",
              "small        12152\n",
              "sedan         5523\n",
              "lpg           4241\n",
              "cng            431\n",
              "wagon          390\n",
              "other          115\n",
              "hybrid          83\n",
              "bus             74\n",
              "suv             62\n",
              "electric        54\n",
              "coupe           21\n",
              "Name: FuelType, dtype: int64"
            ]
          },
          "execution_count": 21,
          "metadata": {},
          "output_type": "execute_result"
        }
      ],
      "source": [
        "df['FuelType'].value_counts()\n",
        "fuel_type_pivot_table = df.pivot_table(index=['FuelType'],\n",
        "                                                          columns=['Brand'],\n",
        "                                                          values=['Price'],\n",
        "                                                          aggfunc=['count'])\n",
        "fuel_type_pivot_table = fuel_type_pivot_table['count']['Price']\n",
        "display(fuel_type_pivot_table)\n",
        "\n",
        "df.fillna({'FuelType':0},inplace=True)\n",
        "\n",
        "df['FuelType'] = df.apply(\n",
        "                                fillna_by_brand,\n",
        "                                args=[4, vehicle_type_pivot_table],\n",
        "                                axis=1)\n",
        "display(df['FuelType'].isna().sum())\n",
        "df['FuelType'].value_counts()"
      ]
    },
    {
      "cell_type": "code",
      "execution_count": null,
      "metadata": {
        "id": "Pp0DdXSys4p4",
        "outputId": "7e3358e9-9e73-4477-e993-2c6c123231f4"
      },
      "outputs": [
        {
          "data": {
            "text/plain": [
              "VehicleType         0.0\n",
              "Gearbox             0.0\n",
              "Power               0.0\n",
              "Kilometer           0.0\n",
              "FuelType            0.0\n",
              "Brand               0.0\n",
              "Repaired            0.0\n",
              "RegistrationYear    0.0\n",
              "Model               0.0\n",
              "Price               0.0\n",
              "dtype: float64"
            ]
          },
          "execution_count": 22,
          "metadata": {},
          "output_type": "execute_result"
        }
      ],
      "source": [
        "df.isna().mean()"
      ]
    },
    {
      "cell_type": "markdown",
      "metadata": {
        "id": "AQou_YnYs4p4"
      },
      "source": [
        "Пропуски убраны. Осталось заняться некорректнымми значениями в столбце Power."
      ]
    },
    {
      "cell_type": "code",
      "execution_count": null,
      "metadata": {
        "id": "gtjqioJJs4p4",
        "outputId": "a317a285-985d-4a67-bd05-cef19be01267"
      },
      "outputs": [
        {
          "data": {
            "text/plain": [
              "count    247665.000000\n",
              "mean        102.053181\n",
              "std         182.583893\n",
              "min           0.000000\n",
              "25%          67.000000\n",
              "50%         101.000000\n",
              "75%         131.000000\n",
              "max       20000.000000\n",
              "Name: Power, dtype: float64"
            ]
          },
          "execution_count": 23,
          "metadata": {},
          "output_type": "execute_result"
        },
        {
          "data": {
            "image/png": "[encoded data removed]",
            "text/plain": [
              "<Figure size 864x648 with 1 Axes>"
            ]
          },
          "metadata": {
            "needs_background": "light"
          },
          "output_type": "display_data"
        }
      ],
      "source": [
        "df['Power'].hist(bins=100, figsize=(12,9))\n",
        "df['Power'].describe()"
      ]
    },
    {
      "cell_type": "markdown",
      "metadata": {
        "id": "hb5ol8rKs4p5"
      },
      "source": [
        "Раброс очень сильный, усечем выбросы больше 1000 л.с."
      ]
    },
    {
      "cell_type": "code",
      "execution_count": null,
      "metadata": {
        "id": "AQcu8HWMs4p5",
        "outputId": "d9f16676-e115-4170-b609-3a1c7731402d"
      },
      "outputs": [
        {
          "data": {
            "text/plain": [
              "count    247451.000000\n",
              "mean         98.693652\n",
              "std          54.774902\n",
              "min           0.000000\n",
              "25%          67.000000\n",
              "50%         101.000000\n",
              "75%         131.000000\n",
              "max        1000.000000\n",
              "Name: Power, dtype: float64"
            ]
          },
          "execution_count": 24,
          "metadata": {},
          "output_type": "execute_result"
        },
        {
          "data": {
            "image/png": "[encoded data removed]",
            "text/plain": [
              "<Figure size 864x648 with 1 Axes>"
            ]
          },
          "metadata": {
            "needs_background": "light"
          },
          "output_type": "display_data"
        }
      ],
      "source": [
        "df = df.query('Power < 1001')\n",
        "df['Power'].hist(bins=100, figsize=(12,9))\n",
        "df['Power'].describe()"
      ]
    },
    {
      "cell_type": "markdown",
      "metadata": {
        "id": "xO63IYbxs4p5"
      },
      "source": [
        "Из графика видно, что многие машины имеют мощность 0. Эти строки не подлежат восстановлению и будут удалены. По правому отсечению выбреме границу в 400 л.с."
      ]
    },
    {
      "cell_type": "code",
      "execution_count": null,
      "metadata": {
        "id": "EoGKSUuks4p5",
        "outputId": "e5c01c47-8e08-4d29-e68c-2e35c96d4145"
      },
      "outputs": [
        {
          "data": {
            "text/plain": [
              "count    221862.000000\n",
              "mean        109.824012\n",
              "std          44.434962\n",
              "min           1.000000\n",
              "25%          75.000000\n",
              "50%         103.000000\n",
              "75%         136.000000\n",
              "max         400.000000\n",
              "Name: Power, dtype: float64"
            ]
          },
          "execution_count": 25,
          "metadata": {},
          "output_type": "execute_result"
        },
        {
          "data": {
            "image/png": "[encoded data removed]",
            "text/plain": [
              "<Figure size 864x648 with 1 Axes>"
            ]
          },
          "metadata": {
            "needs_background": "light"
          },
          "output_type": "display_data"
        }
      ],
      "source": [
        "df = df.query('0 < Power < 401')\n",
        "df['Power'].hist(bins=100, figsize=(12,9))\n",
        "df['Power'].describe()"
      ]
    },
    {
      "cell_type": "markdown",
      "metadata": {
        "id": "klDTi9r1s4p5"
      },
      "source": [
        "Следующими границами выберем 25 и 350 л.с."
      ]
    },
    {
      "cell_type": "code",
      "execution_count": null,
      "metadata": {
        "id": "-4L3GL3ps4p6",
        "outputId": "8a68a20f-8f9f-4c90-9818-92a6a44fc8e6"
      },
      "outputs": [
        {
          "data": {
            "text/plain": [
              "count    221412.000000\n",
              "mean        109.878900\n",
              "std          43.985727\n",
              "min          25.000000\n",
              "25%          75.000000\n",
              "50%         103.000000\n",
              "75%         136.000000\n",
              "max         350.000000\n",
              "Name: Power, dtype: float64"
            ]
          },
          "execution_count": 26,
          "metadata": {},
          "output_type": "execute_result"
        },
        {
          "data": {
            "image/png": "[encoded data removed]",
            "text/plain": [
              "<Figure size 864x648 with 1 Axes>"
            ]
          },
          "metadata": {
            "needs_background": "light"
          },
          "output_type": "display_data"
        }
      ],
      "source": [
        "pure_df = df.query('24 < Power < 351')\n",
        "pure_df['Power'].hist(bins = 100, figsize = (12, 9))\n",
        "pure_df['Power'].describe()"
      ]
    },
    {
      "cell_type": "code",
      "execution_count": null,
      "metadata": {
        "id": "0edO9DWis4p6",
        "outputId": "64f1aef3-94e7-44c8-fd5d-91cd99dc1eb3"
      },
      "outputs": [
        {
          "name": "stdout",
          "output_type": "stream",
          "text": [
            "<class 'pandas.core.frame.DataFrame'>\n",
            "Int64Index: 221412 entries, 3 to 354368\n",
            "Data columns (total 10 columns):\n",
            " #   Column            Non-Null Count   Dtype \n",
            "---  ------            --------------   ----- \n",
            " 0   VehicleType       221412 non-null  object\n",
            " 1   Gearbox           221412 non-null  object\n",
            " 2   Power             221412 non-null  int64 \n",
            " 3   Kilometer         221412 non-null  int64 \n",
            " 4   FuelType          221412 non-null  object\n",
            " 5   Brand             221412 non-null  object\n",
            " 6   Repaired          221412 non-null  object\n",
            " 7   RegistrationYear  221412 non-null  int64 \n",
            " 8   Model             221412 non-null  object\n",
            " 9   Price             221412 non-null  int64 \n",
            "dtypes: int64(4), object(6)\n",
            "memory usage: 18.6+ MB\n"
          ]
        }
      ],
      "source": [
        "pure_df.info()"
      ]
    },
    {
      "cell_type": "markdown",
      "metadata": {
        "id": "cmXztJSys4p6"
      },
      "source": [
        "Проведем замену столбцов Gearbox и Repaired на булев тип.\n",
        "\n",
        "* IsManualGearbox. 1(manual) - означает механическую коробку передач. 0(auto) - автоматическую.\n",
        "* IsRepaired. 1(yes) - означает машину с ремонтом. 0(no) - без ремонта."
      ]
    },
    {
      "cell_type": "code",
      "execution_count": null,
      "metadata": {
        "id": "bxqo90Sws4p6",
        "outputId": "3ccee032-5aaa-4a45-bc7b-dbabe2715263"
      },
      "outputs": [
        {
          "data": {
            "text/plain": [
              "1    186647\n",
              "0     34765\n",
              "Name: IsManualGearbox, dtype: int64"
            ]
          },
          "metadata": {},
          "output_type": "display_data"
        },
        {
          "data": {
            "text/plain": [
              "manual    186647\n",
              "auto       34765\n",
              "Name: Gearbox, dtype: int64"
            ]
          },
          "execution_count": 28,
          "metadata": {},
          "output_type": "execute_result"
        }
      ],
      "source": [
        "pure_df['IsManualGearbox'] = 0\n",
        "pure_df.loc[pure_df['Gearbox'] == 'manual', 'IsManualGearbox'] = 1\n",
        "display(pure_df['IsManualGearbox'].value_counts())\n",
        "pure_df['Gearbox'].value_counts()"
      ]
    },
    {
      "cell_type": "code",
      "execution_count": null,
      "metadata": {
        "id": "KCsFAIQ7s4p6",
        "outputId": "3fc682d7-7f54-4c27-ff90-a98f423dece3"
      },
      "outputs": [
        {
          "data": {
            "text/plain": [
              "1    163035\n",
              "0     58377\n",
              "Name: IsRepaired, dtype: int64"
            ]
          },
          "metadata": {},
          "output_type": "display_data"
        },
        {
          "data": {
            "text/plain": [
              "no     163035\n",
              "yes     58377\n",
              "Name: Repaired, dtype: int64"
            ]
          },
          "execution_count": 29,
          "metadata": {},
          "output_type": "execute_result"
        }
      ],
      "source": [
        "pure_df['IsRepaired'] = 1\n",
        "pure_df.loc[pure_df['Repaired'] == 'yes', 'IsRepaired'] = 0\n",
        "display(pure_df['IsRepaired'].value_counts())\n",
        "pure_df['Repaired'].value_counts()"
      ]
    },
    {
      "cell_type": "markdown",
      "metadata": {
        "id": "pK07VBbhs4p7"
      },
      "source": [
        "Удалим ненужные столбцы и уменьшим размерность хранения типа для ускорения работы с дата фреймом.\n",
        "\n"
      ]
    },
    {
      "cell_type": "code",
      "execution_count": null,
      "metadata": {
        "id": "q2oTDy8qs4p7",
        "outputId": "224d6bd2-4456-4f7f-f15c-9b1ed51960a8"
      },
      "outputs": [
        {
          "name": "stdout",
          "output_type": "stream",
          "text": [
            "<class 'pandas.core.frame.DataFrame'>\n",
            "Int64Index: 221412 entries, 3 to 354368\n",
            "Data columns (total 10 columns):\n",
            " #   Column            Non-Null Count   Dtype \n",
            "---  ------            --------------   ----- \n",
            " 0   VehicleType       221412 non-null  object\n",
            " 1   Power             221412 non-null  int16 \n",
            " 2   Kilometer         221412 non-null  int32 \n",
            " 3   FuelType          221412 non-null  object\n",
            " 4   Brand             221412 non-null  object\n",
            " 5   RegistrationYear  221412 non-null  int16 \n",
            " 6   Model             221412 non-null  object\n",
            " 7   Price             221412 non-null  int16 \n",
            " 8   IsManualGearbox   221412 non-null  int8  \n",
            " 9   IsRepaired        221412 non-null  int8  \n",
            "dtypes: int16(3), int32(1), int8(2), object(4)\n",
            "memory usage: 11.0+ MB\n"
          ]
        }
      ],
      "source": [
        "pure_df.drop(['Repaired','Gearbox'], inplace=True, axis=1)\n",
        "pure_df['IsRepaired'] = pd.to_numeric(pure_df['IsRepaired'], downcast='integer')\n",
        "pure_df['IsManualGearbox'] = pd.to_numeric(pure_df['IsManualGearbox'], downcast='integer')\n",
        "pure_df['RegistrationYear'] = pd.to_numeric(pure_df['RegistrationYear'], downcast='integer')\n",
        "pure_df['Power'] = pd.to_numeric(pure_df['Power'], downcast='integer')\n",
        "pure_df['Kilometer'] = pd.to_numeric(pure_df['Kilometer'], downcast='integer')\n",
        "pure_df['Price'] = pd.to_numeric(pure_df['Price'], downcast='integer')\n",
        "pure_df.info()"
      ]
    },
    {
      "cell_type": "markdown",
      "metadata": {
        "id": "VvAQIZJIs4p7"
      },
      "source": [
        "**Итого по подготовке данных:**\n",
        "\n",
        "1. Была изучена таблица данных.\n",
        "2. Выведены аномальные и пропущенные значения.\n",
        "3. Отобраны небходимые столбцы для обучения модели.\n",
        "4. Заполнены пропуски в столбцах и удалены некорректные значения.\n",
        "5. Заменены два категориальных признака на численные."
      ]
    },
    {
      "cell_type": "markdown",
      "metadata": {
        "id": "VDekQITws4p7"
      },
      "source": [
        "## Обучение моделей"
      ]
    },
    {
      "cell_type": "markdown",
      "metadata": {
        "id": "XyBIjC7Zs4p7"
      },
      "source": [
        "Выберем следующие регрессоры для обучения модели:\n",
        "\n",
        "1. LinearRegression\n",
        "2. DecisionTreeRegressor\n",
        "3. CatBoostRegressor\n",
        "4. LGBMRegressor"
      ]
    },
    {
      "cell_type": "markdown",
      "metadata": {
        "id": "3yfLiuyIs4p7"
      },
      "source": [
        "В качестве метрики для всех моделей будем использовать MSE и в финальной таблице переведем в RMSE. Качество моделей будем проверять на кроссвалидации."
      ]
    },
    {
      "cell_type": "markdown",
      "metadata": {
        "id": "2MdM25tds4p8"
      },
      "source": [
        "Подготовим три типа признаков для кроссвалидации:\n",
        "\n",
        "* Неизмененные. Название original_features.\n",
        "* Закодированные методом OHE. Название ohe_features.\n",
        "* Закодированные методом OE. Название ordinal_features."
      ]
    },
    {
      "cell_type": "code",
      "execution_count": null,
      "metadata": {
        "id": "ST4CoIoGs4p8"
      },
      "outputs": [],
      "source": [
        "#Неизмененные принаки\n",
        "original_features = pure_df.drop('Price', axis=1)\n",
        "#Целевой признак\n",
        "target = pure_df['Price']\n",
        "\n",
        "original_features_train, original_features_test, target_train, target_test = train_test_split(\n",
        "    original_features, target, test_size=0.25, random_state=19072020)"
      ]
    },
    {
      "cell_type": "code",
      "execution_count": null,
      "metadata": {
        "id": "DUQNRj4Us4p8"
      },
      "outputs": [],
      "source": [
        "#OE training\n",
        "encoder = OrdinalEncoder(handle_unknown = 'ignore')\n",
        "cat_columns = ['VehicleType','FuelType','Brand','Model']\n",
        "cat_features_train = original_features_train[cat_columns]\n",
        "cat_features_train = pd.DataFrame(encoder.fit_transform(cat_features_train[cat_columns]),\n",
        "                            columns=cat_features_train.columns,\n",
        "                            index=cat_features_train.index)"
      ]
    },
    {
      "cell_type": "code",
      "execution_count": null,
      "metadata": {
        "id": "oJdx3MIws4p8",
        "outputId": "72c82622-c7b8-4c26-e4dd-5dc941c58460"
      },
      "outputs": [
        {
          "data": {
            "text/html": [
              "<div>\n",
              "<style scoped>\n",
              "    .dataframe tbody tr th:only-of-type {\n",
              "        vertical-align: middle;\n",
              "    }\n",
              "\n",
              "    .dataframe tbody tr th {\n",
              "        vertical-align: top;\n",
              "    }\n",
              "\n",
              "    .dataframe thead th {\n",
              "        text-align: right;\n",
              "    }\n",
              "</style>\n",
              "<table border=\"1\" class=\"dataframe\">\n",
              "  <thead>\n",
              "    <tr style=\"text-align: right;\">\n",
              "      <th></th>\n",
              "      <th>VehicleType</th>\n",
              "      <th>FuelType</th>\n",
              "      <th>Brand</th>\n",
              "      <th>Model</th>\n",
              "    </tr>\n",
              "  </thead>\n",
              "  <tbody>\n",
              "    <tr>\n",
              "      <th>272668</th>\n",
              "      <td>5.0</td>\n",
              "      <td>4.0</td>\n",
              "      <td>38.0</td>\n",
              "      <td>171.0</td>\n",
              "    </tr>\n",
              "    <tr>\n",
              "      <th>224663</th>\n",
              "      <td>5.0</td>\n",
              "      <td>8.0</td>\n",
              "      <td>27.0</td>\n",
              "      <td>75.0</td>\n",
              "    </tr>\n",
              "    <tr>\n",
              "      <th>253593</th>\n",
              "      <td>2.0</td>\n",
              "      <td>8.0</td>\n",
              "      <td>38.0</td>\n",
              "      <td>194.0</td>\n",
              "    </tr>\n",
              "    <tr>\n",
              "      <th>22246</th>\n",
              "      <td>2.0</td>\n",
              "      <td>4.0</td>\n",
              "      <td>24.0</td>\n",
              "      <td>42.0</td>\n",
              "    </tr>\n",
              "    <tr>\n",
              "      <th>186689</th>\n",
              "      <td>1.0</td>\n",
              "      <td>8.0</td>\n",
              "      <td>2.0</td>\n",
              "      <td>11.0</td>\n",
              "    </tr>\n",
              "    <tr>\n",
              "      <th>311191</th>\n",
              "      <td>5.0</td>\n",
              "      <td>8.0</td>\n",
              "      <td>21.0</td>\n",
              "      <td>80.0</td>\n",
              "    </tr>\n",
              "    <tr>\n",
              "      <th>243065</th>\n",
              "      <td>4.0</td>\n",
              "      <td>8.0</td>\n",
              "      <td>20.0</td>\n",
              "      <td>221.0</td>\n",
              "    </tr>\n",
              "    <tr>\n",
              "      <th>238781</th>\n",
              "      <td>7.0</td>\n",
              "      <td>4.0</td>\n",
              "      <td>20.0</td>\n",
              "      <td>95.0</td>\n",
              "    </tr>\n",
              "    <tr>\n",
              "      <th>327939</th>\n",
              "      <td>4.0</td>\n",
              "      <td>8.0</td>\n",
              "      <td>1.0</td>\n",
              "      <td>32.0</td>\n",
              "    </tr>\n",
              "    <tr>\n",
              "      <th>295910</th>\n",
              "      <td>7.0</td>\n",
              "      <td>8.0</td>\n",
              "      <td>38.0</td>\n",
              "      <td>115.0</td>\n",
              "    </tr>\n",
              "  </tbody>\n",
              "</table>\n",
              "</div>"
            ],
            "text/plain": [
              "        VehicleType  FuelType  Brand  Model\n",
              "272668          5.0       4.0   38.0  171.0\n",
              "224663          5.0       8.0   27.0   75.0\n",
              "253593          2.0       8.0   38.0  194.0\n",
              "22246           2.0       4.0   24.0   42.0\n",
              "186689          1.0       8.0    2.0   11.0\n",
              "311191          5.0       8.0   21.0   80.0\n",
              "243065          4.0       8.0   20.0  221.0\n",
              "238781          7.0       4.0   20.0   95.0\n",
              "327939          4.0       8.0    1.0   32.0\n",
              "295910          7.0       8.0   38.0  115.0"
            ]
          },
          "execution_count": 34,
          "metadata": {},
          "output_type": "execute_result"
        }
      ],
      "source": [
        "#проверим кодирование\n",
        "cat_features_train[cat_columns].head(10)"
      ]
    },
    {
      "cell_type": "code",
      "execution_count": null,
      "metadata": {
        "id": "ng3ouDRJs4p8"
      },
      "outputs": [],
      "source": [
        "ordinal_features_train = original_features_train.copy()\n",
        "for column in cat_columns:\n",
        "    ordinal_features_train[column] = cat_features_train[column]"
      ]
    },
    {
      "cell_type": "code",
      "execution_count": null,
      "metadata": {
        "id": "Xh3l8ul_s4p9",
        "outputId": "b7939b0a-4ccf-41f0-9774-2fd861f9a496"
      },
      "outputs": [
        {
          "data": {
            "text/html": [
              "<div>\n",
              "<style scoped>\n",
              "    .dataframe tbody tr th:only-of-type {\n",
              "        vertical-align: middle;\n",
              "    }\n",
              "\n",
              "    .dataframe tbody tr th {\n",
              "        vertical-align: top;\n",
              "    }\n",
              "\n",
              "    .dataframe thead th {\n",
              "        text-align: right;\n",
              "    }\n",
              "</style>\n",
              "<table border=\"1\" class=\"dataframe\">\n",
              "  <thead>\n",
              "    <tr style=\"text-align: right;\">\n",
              "      <th></th>\n",
              "      <th>VehicleType</th>\n",
              "      <th>Power</th>\n",
              "      <th>Kilometer</th>\n",
              "      <th>FuelType</th>\n",
              "      <th>Brand</th>\n",
              "      <th>RegistrationYear</th>\n",
              "      <th>Model</th>\n",
              "      <th>IsManualGearbox</th>\n",
              "      <th>IsRepaired</th>\n",
              "    </tr>\n",
              "  </thead>\n",
              "  <tbody>\n",
              "    <tr>\n",
              "      <th>272668</th>\n",
              "      <td>5.0</td>\n",
              "      <td>75</td>\n",
              "      <td>150000</td>\n",
              "      <td>4.0</td>\n",
              "      <td>38.0</td>\n",
              "      <td>2005</td>\n",
              "      <td>171.0</td>\n",
              "      <td>1</td>\n",
              "      <td>1</td>\n",
              "    </tr>\n",
              "    <tr>\n",
              "      <th>224663</th>\n",
              "      <td>5.0</td>\n",
              "      <td>55</td>\n",
              "      <td>150000</td>\n",
              "      <td>8.0</td>\n",
              "      <td>27.0</td>\n",
              "      <td>1999</td>\n",
              "      <td>75.0</td>\n",
              "      <td>1</td>\n",
              "      <td>1</td>\n",
              "    </tr>\n",
              "    <tr>\n",
              "      <th>253593</th>\n",
              "      <td>2.0</td>\n",
              "      <td>90</td>\n",
              "      <td>150000</td>\n",
              "      <td>8.0</td>\n",
              "      <td>38.0</td>\n",
              "      <td>1986</td>\n",
              "      <td>194.0</td>\n",
              "      <td>1</td>\n",
              "      <td>1</td>\n",
              "    </tr>\n",
              "    <tr>\n",
              "      <th>22246</th>\n",
              "      <td>2.0</td>\n",
              "      <td>120</td>\n",
              "      <td>150000</td>\n",
              "      <td>4.0</td>\n",
              "      <td>24.0</td>\n",
              "      <td>2005</td>\n",
              "      <td>42.0</td>\n",
              "      <td>1</td>\n",
              "      <td>1</td>\n",
              "    </tr>\n",
              "    <tr>\n",
              "      <th>186689</th>\n",
              "      <td>1.0</td>\n",
              "      <td>170</td>\n",
              "      <td>100000</td>\n",
              "      <td>8.0</td>\n",
              "      <td>2.0</td>\n",
              "      <td>2001</td>\n",
              "      <td>11.0</td>\n",
              "      <td>0</td>\n",
              "      <td>1</td>\n",
              "    </tr>\n",
              "  </tbody>\n",
              "</table>\n",
              "</div>"
            ],
            "text/plain": [
              "        VehicleType  Power  Kilometer  FuelType  Brand  RegistrationYear  \\\n",
              "272668          5.0     75     150000       4.0   38.0              2005   \n",
              "224663          5.0     55     150000       8.0   27.0              1999   \n",
              "253593          2.0     90     150000       8.0   38.0              1986   \n",
              "22246           2.0    120     150000       4.0   24.0              2005   \n",
              "186689          1.0    170     100000       8.0    2.0              2001   \n",
              "\n",
              "        Model  IsManualGearbox  IsRepaired  \n",
              "272668  171.0                1           1  \n",
              "224663   75.0                1           1  \n",
              "253593  194.0                1           1  \n",
              "22246    42.0                1           1  \n",
              "186689   11.0                0           1  "
            ]
          },
          "execution_count": 36,
          "metadata": {},
          "output_type": "execute_result"
        }
      ],
      "source": [
        "ordinal_features_train.head()"
      ]
    },
    {
      "cell_type": "code",
      "execution_count": null,
      "metadata": {
        "id": "56dJwKN-s4p9"
      },
      "outputs": [],
      "source": [
        "#OE transforming\n",
        "#original_features_test[cat_columns] = encoder.transform(original_features_test[cat_columns])\n",
        "cat_features_test = original_features_test[cat_columns]\n",
        "cat_features_test = pd.DataFrame(encoder.transform(cat_features_test[cat_columns]),\n",
        "                                columns = cat_features_test.columns,\n",
        "                                index = cat_features_test.index)"
      ]
    },
    {
      "cell_type": "code",
      "execution_count": null,
      "metadata": {
        "id": "mMxQB5jds4p9",
        "outputId": "ef303e99-7ab0-488f-d8cb-0898ec466726"
      },
      "outputs": [
        {
          "data": {
            "text/html": [
              "<div>\n",
              "<style scoped>\n",
              "    .dataframe tbody tr th:only-of-type {\n",
              "        vertical-align: middle;\n",
              "    }\n",
              "\n",
              "    .dataframe tbody tr th {\n",
              "        vertical-align: top;\n",
              "    }\n",
              "\n",
              "    .dataframe thead th {\n",
              "        text-align: right;\n",
              "    }\n",
              "</style>\n",
              "<table border=\"1\" class=\"dataframe\">\n",
              "  <thead>\n",
              "    <tr style=\"text-align: right;\">\n",
              "      <th></th>\n",
              "      <th>VehicleType</th>\n",
              "      <th>FuelType</th>\n",
              "      <th>Brand</th>\n",
              "      <th>Model</th>\n",
              "    </tr>\n",
              "  </thead>\n",
              "  <tbody>\n",
              "    <tr>\n",
              "      <th>334426</th>\n",
              "      <td>4.0</td>\n",
              "      <td>8.0</td>\n",
              "      <td>36.0</td>\n",
              "      <td>82.0</td>\n",
              "    </tr>\n",
              "    <tr>\n",
              "      <th>247064</th>\n",
              "      <td>4.0</td>\n",
              "      <td>8.0</td>\n",
              "      <td>24.0</td>\n",
              "      <td>228.0</td>\n",
              "    </tr>\n",
              "    <tr>\n",
              "      <th>73840</th>\n",
              "      <td>5.0</td>\n",
              "      <td>4.0</td>\n",
              "      <td>24.0</td>\n",
              "      <td>83.0</td>\n",
              "    </tr>\n",
              "    <tr>\n",
              "      <th>158141</th>\n",
              "      <td>5.0</td>\n",
              "      <td>4.0</td>\n",
              "      <td>27.0</td>\n",
              "      <td>220.0</td>\n",
              "    </tr>\n",
              "    <tr>\n",
              "      <th>41777</th>\n",
              "      <td>5.0</td>\n",
              "      <td>8.0</td>\n",
              "      <td>27.0</td>\n",
              "      <td>134.0</td>\n",
              "    </tr>\n",
              "  </tbody>\n",
              "</table>\n",
              "</div>"
            ],
            "text/plain": [
              "        VehicleType  FuelType  Brand  Model\n",
              "334426          4.0       8.0   36.0   82.0\n",
              "247064          4.0       8.0   24.0  228.0\n",
              "73840           5.0       4.0   24.0   83.0\n",
              "158141          5.0       4.0   27.0  220.0\n",
              "41777           5.0       8.0   27.0  134.0"
            ]
          },
          "execution_count": 39,
          "metadata": {},
          "output_type": "execute_result"
        }
      ],
      "source": [
        "cat_features_test.head(5)"
      ]
    },
    {
      "cell_type": "code",
      "execution_count": null,
      "metadata": {
        "id": "_7-pchs9s4p9"
      },
      "outputs": [],
      "source": [
        "ordinal_features_test = original_features_test.copy()\n",
        "for column in cat_columns:\n",
        "    ordinal_features_test[column] = cat_features_test[column]"
      ]
    },
    {
      "cell_type": "code",
      "execution_count": null,
      "metadata": {
        "id": "NMihIkcXs4p9",
        "outputId": "dca700aa-d444-47ab-e35a-368a82e583a8"
      },
      "outputs": [
        {
          "data": {
            "text/html": [
              "<div>\n",
              "<style scoped>\n",
              "    .dataframe tbody tr th:only-of-type {\n",
              "        vertical-align: middle;\n",
              "    }\n",
              "\n",
              "    .dataframe tbody tr th {\n",
              "        vertical-align: top;\n",
              "    }\n",
              "\n",
              "    .dataframe thead th {\n",
              "        text-align: right;\n",
              "    }\n",
              "</style>\n",
              "<table border=\"1\" class=\"dataframe\">\n",
              "  <thead>\n",
              "    <tr style=\"text-align: right;\">\n",
              "      <th></th>\n",
              "      <th>VehicleType</th>\n",
              "      <th>Power</th>\n",
              "      <th>Kilometer</th>\n",
              "      <th>FuelType</th>\n",
              "      <th>Brand</th>\n",
              "      <th>RegistrationYear</th>\n",
              "      <th>Model</th>\n",
              "      <th>IsManualGearbox</th>\n",
              "      <th>IsRepaired</th>\n",
              "    </tr>\n",
              "  </thead>\n",
              "  <tbody>\n",
              "    <tr>\n",
              "      <th>334426</th>\n",
              "      <td>4.0</td>\n",
              "      <td>224</td>\n",
              "      <td>150000</td>\n",
              "      <td>8.0</td>\n",
              "      <td>36.0</td>\n",
              "      <td>2006</td>\n",
              "      <td>82.0</td>\n",
              "      <td>1</td>\n",
              "      <td>1</td>\n",
              "    </tr>\n",
              "    <tr>\n",
              "      <th>247064</th>\n",
              "      <td>4.0</td>\n",
              "      <td>101</td>\n",
              "      <td>150000</td>\n",
              "      <td>8.0</td>\n",
              "      <td>24.0</td>\n",
              "      <td>1998</td>\n",
              "      <td>228.0</td>\n",
              "      <td>1</td>\n",
              "      <td>1</td>\n",
              "    </tr>\n",
              "    <tr>\n",
              "      <th>73840</th>\n",
              "      <td>5.0</td>\n",
              "      <td>75</td>\n",
              "      <td>125000</td>\n",
              "      <td>4.0</td>\n",
              "      <td>24.0</td>\n",
              "      <td>2006</td>\n",
              "      <td>83.0</td>\n",
              "      <td>1</td>\n",
              "      <td>1</td>\n",
              "    </tr>\n",
              "    <tr>\n",
              "      <th>158141</th>\n",
              "      <td>5.0</td>\n",
              "      <td>64</td>\n",
              "      <td>125000</td>\n",
              "      <td>4.0</td>\n",
              "      <td>27.0</td>\n",
              "      <td>2009</td>\n",
              "      <td>220.0</td>\n",
              "      <td>1</td>\n",
              "      <td>1</td>\n",
              "    </tr>\n",
              "    <tr>\n",
              "      <th>41777</th>\n",
              "      <td>5.0</td>\n",
              "      <td>121</td>\n",
              "      <td>125000</td>\n",
              "      <td>8.0</td>\n",
              "      <td>27.0</td>\n",
              "      <td>2016</td>\n",
              "      <td>134.0</td>\n",
              "      <td>1</td>\n",
              "      <td>1</td>\n",
              "    </tr>\n",
              "  </tbody>\n",
              "</table>\n",
              "</div>"
            ],
            "text/plain": [
              "        VehicleType  Power  Kilometer  FuelType  Brand  RegistrationYear  \\\n",
              "334426          4.0    224     150000       8.0   36.0              2006   \n",
              "247064          4.0    101     150000       8.0   24.0              1998   \n",
              "73840           5.0     75     125000       4.0   24.0              2006   \n",
              "158141          5.0     64     125000       4.0   27.0              2009   \n",
              "41777           5.0    121     125000       8.0   27.0              2016   \n",
              "\n",
              "        Model  IsManualGearbox  IsRepaired  \n",
              "334426   82.0                1           1  \n",
              "247064  228.0                1           1  \n",
              "73840    83.0                1           1  \n",
              "158141  220.0                1           1  \n",
              "41777   134.0                1           1  "
            ]
          },
          "execution_count": 42,
          "metadata": {},
          "output_type": "execute_result"
        }
      ],
      "source": [
        "ordinal_features_test.head()"
      ]
    },
    {
      "cell_type": "code",
      "execution_count": null,
      "metadata": {
        "id": "ZI6hiQqvs4p-"
      },
      "outputs": [],
      "source": [
        "#OHE кодирование\n",
        "ohe_features = pd.get_dummies(original_features, drop_first=True)"
      ]
    },
    {
      "cell_type": "code",
      "execution_count": null,
      "metadata": {
        "id": "37ozMZa8s4p-"
      },
      "outputs": [],
      "source": [
        "ohe_features_train = ohe_features.loc[original_features_train.index, :]\n",
        "ohe_features_test = ohe_features.loc[original_features_test.index, :]"
      ]
    },
    {
      "cell_type": "markdown",
      "metadata": {
        "id": "IOzl52Bxs4p-"
      },
      "source": [
        "### Линейная регрессия"
      ]
    },
    {
      "cell_type": "code",
      "execution_count": null,
      "metadata": {
        "id": "HOkx7k-3s4p_",
        "outputId": "9cef1575-d5e7-4bd8-f71b-543ef9086977"
      },
      "outputs": [
        {
          "name": "stdout",
          "output_type": "stream",
          "text": [
            "Средняя RMSE = 1352.5105514215822\n",
            "CPU times: user 36 s, sys: 16.5 s, total: 52.5 s\n",
            "Wall time: 52.7 s\n"
          ]
        }
      ],
      "source": [
        "%%time\n",
        "\n",
        "regressor = LinearRegression()\n",
        "cv_RMSE_LR = (cross_val_score(regressor,\n",
        "                             ohe_features_train,\n",
        "                             target_train,\n",
        "                             cv=5,\n",
        "                             scoring='neg_mean_squared_error').mean() * -1) ** 0.5\n",
        "print('Средняя RMSE =', cv_RMSE_LR)"
      ]
    },
    {
      "cell_type": "code",
      "execution_count": null,
      "metadata": {
        "id": "ZVIZD8DUs4p_",
        "outputId": "3acec318-faa5-4b83-b14c-de40f5b47722"
      },
      "outputs": [
        {
          "name": "stdout",
          "output_type": "stream",
          "text": [
            "Средняя RMSE = = 3164860214631.0747\n",
            "CPU times: user 39.4 s, sys: 23 s, total: 1min 2s\n",
            "Wall time: 1min 2s\n"
          ]
        }
      ],
      "source": [
        "%%time\n",
        "\n",
        "regressor = LinearRegression()\n",
        "scaller = StandardScaler()\n",
        "pipeline = Pipeline([(\"standard_scaller\", scaller),(\"linear_regression\", regressor)])\n",
        "cv_RMSE_LR_S = (cross_val_score(pipeline,\n",
        "                                ohe_features_train,\n",
        "                                target_train,\n",
        "                                cv=5,\n",
        "                                scoring='neg_mean_squared_error').mean() * -1) ** 0.5\n",
        "print('Средняя RMSE = =', cv_RMSE_LR_S)"
      ]
    },
    {
      "cell_type": "markdown",
      "metadata": {
        "id": "1qnqPWHis4p_"
      },
      "source": [
        "Масштабирование признаков ухудшает модель. Откажемся от применения масштаба."
      ]
    },
    {
      "cell_type": "markdown",
      "metadata": {
        "id": "vp8v1umks4p_"
      },
      "source": [
        "### DecisionTreeRegressor"
      ]
    },
    {
      "cell_type": "markdown",
      "metadata": {
        "id": "C3kciFkms4p_"
      },
      "source": [
        "1. Проверим модель на признаках, закодированных методом OHE\n",
        "2. Проверим модель на признаках, закодированных методом OE"
      ]
    },
    {
      "cell_type": "code",
      "execution_count": null,
      "metadata": {
        "id": "5-lRZk-ys4qA",
        "outputId": "f6bfdaa1-44c7-4693-e882-3f825b424ca9"
      },
      "outputs": [
        {
          "name": "stdout",
          "output_type": "stream",
          "text": [
            "Параметры:\n",
            "\n",
            "{'criterion': 'mse', 'max_depth': 16, 'random_state': 19072020}\n",
            "\n",
            "Шаги:\n",
            "\n",
            "1554.914430 for {'criterion': 'mse', 'max_depth': 2, 'random_state': 19072020}\n",
            "1471.926202 for {'criterion': 'mse', 'max_depth': 3, 'random_state': 19072020}\n",
            "1379.420752 for {'criterion': 'mse', 'max_depth': 4, 'random_state': 19072020}\n",
            "1305.285265 for {'criterion': 'mse', 'max_depth': 5, 'random_state': 19072020}\n",
            "1256.028154 for {'criterion': 'mse', 'max_depth': 6, 'random_state': 19072020}\n",
            "1211.103712 for {'criterion': 'mse', 'max_depth': 7, 'random_state': 19072020}\n",
            "1177.874799 for {'criterion': 'mse', 'max_depth': 8, 'random_state': 19072020}\n",
            "1147.173022 for {'criterion': 'mse', 'max_depth': 9, 'random_state': 19072020}\n",
            "1120.949483 for {'criterion': 'mse', 'max_depth': 10, 'random_state': 19072020}\n",
            "1099.359481 for {'criterion': 'mse', 'max_depth': 11, 'random_state': 19072020}\n",
            "1081.631412 for {'criterion': 'mse', 'max_depth': 12, 'random_state': 19072020}\n",
            "1073.114086 for {'criterion': 'mse', 'max_depth': 13, 'random_state': 19072020}\n",
            "1066.819072 for {'criterion': 'mse', 'max_depth': 14, 'random_state': 19072020}\n",
            "1066.437501 for {'criterion': 'mse', 'max_depth': 15, 'random_state': 19072020}\n",
            "1065.170329 for {'criterion': 'mse', 'max_depth': 16, 'random_state': 19072020}\n",
            "1067.104199 for {'criterion': 'mse', 'max_depth': 17, 'random_state': 19072020}\n",
            "1070.026759 for {'criterion': 'mse', 'max_depth': 18, 'random_state': 19072020}\n",
            "1073.129357 for {'criterion': 'mse', 'max_depth': 19, 'random_state': 19072020}\n",
            "1078.949127 for {'criterion': 'mse', 'max_depth': 20, 'random_state': 19072020}\n",
            "1081.096910 for {'criterion': 'mse', 'max_depth': 21, 'random_state': 19072020}\n",
            "1084.884018 for {'criterion': 'mse', 'max_depth': 22, 'random_state': 19072020}\n",
            "1092.228828 for {'criterion': 'mse', 'max_depth': 23, 'random_state': 19072020}\n",
            "1096.690269 for {'criterion': 'mse', 'max_depth': 24, 'random_state': 19072020}\n",
            "1099.064649 for {'criterion': 'mse', 'max_depth': 25, 'random_state': 19072020}\n",
            "1101.176243 for {'criterion': 'mse', 'max_depth': 26, 'random_state': 19072020}\n",
            "1103.432370 for {'criterion': 'mse', 'max_depth': 27, 'random_state': 19072020}\n",
            "1104.969107 for {'criterion': 'mse', 'max_depth': 28, 'random_state': 19072020}\n",
            "1107.859552 for {'criterion': 'mse', 'max_depth': 29, 'random_state': 19072020}\n",
            "1110.878439 for {'criterion': 'mse', 'max_depth': 30, 'random_state': 19072020}\n",
            "\n",
            "CPU times: user 5min 39s, sys: 19.6 s, total: 5min 59s\n",
            "Wall time: 5min 59s\n"
          ]
        }
      ],
      "source": [
        "%%time\n",
        "\n",
        "regressor = DecisionTreeRegressor()\n",
        "max_depth_list = [x for x in range(2, 31)]\n",
        "hyperparams = [{'criterion':['mse'],\n",
        "                'max_depth':max_depth_list,\n",
        "                'random_state':[19072020]}]\n",
        "clf = GridSearchCV(regressor, hyperparams, scoring='neg_mean_squared_error')\n",
        "clf.fit(ohe_features_train, target_train)\n",
        "print(\"Параметры:\")\n",
        "print()\n",
        "print(clf.best_params_)\n",
        "print()\n",
        "print(\"Шаги:\")\n",
        "print()\n",
        "means = clf.cv_results_['mean_test_score']\n",
        "stds = clf.cv_results_['std_test_score']\n",
        "for mean, std, params in zip(means, stds, clf.cv_results_['params']):\n",
        "    print(\"%0.6f for %r\"% ((mean*-1)** 0.5, params))\n",
        "print()\n",
        "\n",
        "cv_RMSE_DTR_ohe = (max(means)*-1) ** 0.5"
      ]
    },
    {
      "cell_type": "code",
      "execution_count": null,
      "metadata": {
        "id": "XASJLxo7s4qA",
        "outputId": "10dc1739-aab0-4202-9ca0-fba4a5fa7974"
      },
      "outputs": [
        {
          "name": "stdout",
          "output_type": "stream",
          "text": [
            "Параметры:\n",
            "\n",
            "{'criterion': 'mse', 'max_depth': 13, 'random_state': 19072020}\n",
            "\n",
            "Шаги:\n",
            "\n",
            "1554.914430 for {'criterion': 'mse', 'max_depth': 2, 'random_state': 19072020}\n",
            "1470.524123 for {'criterion': 'mse', 'max_depth': 3, 'random_state': 19072020}\n",
            "1377.618929 for {'criterion': 'mse', 'max_depth': 4, 'random_state': 19072020}\n",
            "1303.101874 for {'criterion': 'mse', 'max_depth': 5, 'random_state': 19072020}\n",
            "1253.195866 for {'criterion': 'mse', 'max_depth': 6, 'random_state': 19072020}\n",
            "1207.271591 for {'criterion': 'mse', 'max_depth': 7, 'random_state': 19072020}\n",
            "1169.537752 for {'criterion': 'mse', 'max_depth': 8, 'random_state': 19072020}\n",
            "1138.734730 for {'criterion': 'mse', 'max_depth': 9, 'random_state': 19072020}\n",
            "1112.569500 for {'criterion': 'mse', 'max_depth': 10, 'random_state': 19072020}\n",
            "1091.903331 for {'criterion': 'mse', 'max_depth': 11, 'random_state': 19072020}\n",
            "1077.866927 for {'criterion': 'mse', 'max_depth': 12, 'random_state': 19072020}\n",
            "1072.001611 for {'criterion': 'mse', 'max_depth': 13, 'random_state': 19072020}\n",
            "1072.675433 for {'criterion': 'mse', 'max_depth': 14, 'random_state': 19072020}\n",
            "1078.179474 for {'criterion': 'mse', 'max_depth': 15, 'random_state': 19072020}\n",
            "1085.751222 for {'criterion': 'mse', 'max_depth': 16, 'random_state': 19072020}\n",
            "1092.429348 for {'criterion': 'mse', 'max_depth': 17, 'random_state': 19072020}\n",
            "1102.843665 for {'criterion': 'mse', 'max_depth': 18, 'random_state': 19072020}\n",
            "1112.844887 for {'criterion': 'mse', 'max_depth': 19, 'random_state': 19072020}\n",
            "1121.147260 for {'criterion': 'mse', 'max_depth': 20, 'random_state': 19072020}\n",
            "1126.966919 for {'criterion': 'mse', 'max_depth': 21, 'random_state': 19072020}\n",
            "1133.184110 for {'criterion': 'mse', 'max_depth': 22, 'random_state': 19072020}\n",
            "1134.057294 for {'criterion': 'mse', 'max_depth': 23, 'random_state': 19072020}\n",
            "1138.810720 for {'criterion': 'mse', 'max_depth': 24, 'random_state': 19072020}\n",
            "1140.701513 for {'criterion': 'mse', 'max_depth': 25, 'random_state': 19072020}\n",
            "1139.041394 for {'criterion': 'mse', 'max_depth': 26, 'random_state': 19072020}\n",
            "1140.515176 for {'criterion': 'mse', 'max_depth': 27, 'random_state': 19072020}\n",
            "1141.308851 for {'criterion': 'mse', 'max_depth': 28, 'random_state': 19072020}\n",
            "1141.178055 for {'criterion': 'mse', 'max_depth': 29, 'random_state': 19072020}\n",
            "1142.717284 for {'criterion': 'mse', 'max_depth': 30, 'random_state': 19072020}\n",
            "\n",
            "CPU times: user 37.5 s, sys: 54.4 ms, total: 37.6 s\n",
            "Wall time: 37.7 s\n"
          ]
        }
      ],
      "source": [
        "%%time\n",
        "\n",
        "regressor = DecisionTreeRegressor()\n",
        "max_depth_list = [x for x in range(2, 31)]\n",
        "hyperparams = [{'criterion':['mse'],\n",
        "                'max_depth':max_depth_list,\n",
        "                'random_state':[19072020]}]\n",
        "\n",
        "clf = GridSearchCV(regressor, hyperparams, scoring='neg_mean_squared_error')\n",
        "clf.fit(ordinal_features_train, target_train)\n",
        "print(\"Параметры:\")\n",
        "print()\n",
        "print(clf.best_params_)\n",
        "print()\n",
        "print(\"Шаги:\")\n",
        "print()\n",
        "means = clf.cv_results_['mean_test_score']\n",
        "stds = clf.cv_results_['std_test_score']\n",
        "for mean, std, params in zip(means, stds, clf.cv_results_['params']):\n",
        "    print(\"%0.6f for %r\"% ((mean*-1)** 0.5, params))\n",
        "print()\n",
        "\n",
        "cv_RMSE_DTR_ordinal = (max(means)*-1) ** 0.5"
      ]
    },
    {
      "cell_type": "markdown",
      "metadata": {
        "id": "RuQDc-H-s4qA"
      },
      "source": [
        "Обучение на OHE данных дало похожий результат, что и порядковое кодирование признаков. Занесем оба эксперимента в финальную таблицу.\n"
      ]
    },
    {
      "cell_type": "markdown",
      "metadata": {
        "id": "zvxIbLySs4qA"
      },
      "source": [
        "### CatBoostRegressor"
      ]
    },
    {
      "cell_type": "markdown",
      "metadata": {
        "id": "5mpKtLGCs4qA"
      },
      "source": [
        "1. Обучим модель на данных, закодированных по методу OE.\n",
        "2. Обучим на оригинальных данных с указанием категорий."
      ]
    },
    {
      "cell_type": "code",
      "execution_count": null,
      "metadata": {
        "id": "_Z-8B4R4s4qB",
        "outputId": "191fd5e9-cbf8-47b8-d12b-9c67a3acb541"
      },
      "outputs": [
        {
          "name": "stdout",
          "output_type": "stream",
          "text": [
            "Параметры:\n",
            "\n",
            "{'learning_rate': 0.5, 'random_state': 19072020, 'verbose': False}\n",
            "\n",
            "Шаги:\n",
            "\n",
            "939.604493 for {'learning_rate': 0.1, 'random_state': 19072020, 'verbose': False}\n",
            "930.361660 for {'learning_rate': 0.5, 'random_state': 19072020, 'verbose': False}\n",
            "945.457291 for {'learning_rate': 0.8, 'random_state': 19072020, 'verbose': False}\n",
            "\n",
            "CPU times: user 3min 58s, sys: 1.51 s, total: 4min\n",
            "Wall time: 4min 12s\n"
          ]
        }
      ],
      "source": [
        "%%time\n",
        "\n",
        "regressor = CatBoostRegressor()\n",
        "hyperparams = [{'learning_rate':[0.1, 0.5, 0.8],\n",
        "                'random_state':[19072020],\n",
        "                'verbose':[False]}]\n",
        "\n",
        "clf = GridSearchCV(regressor, hyperparams, scoring='neg_mean_squared_error')\n",
        "clf.fit(ordinal_features_train, target_train)\n",
        "print(\"Параметры:\")\n",
        "print()\n",
        "print(clf.best_params_)\n",
        "print()\n",
        "print(\"Шаги:\")\n",
        "print()\n",
        "means = clf.cv_results_['mean_test_score']\n",
        "stds = clf.cv_results_['std_test_score']\n",
        "for mean, std, params in zip(means, stds, clf.cv_results_['params']):\n",
        "    print(\"%0.6f for %r\"% ((mean*-1)** 0.5, params))\n",
        "print()\n",
        "\n",
        "cv_RMSE_CBR_ordinal = (max(means)*-1) ** 0.5"
      ]
    },
    {
      "cell_type": "code",
      "execution_count": null,
      "metadata": {
        "id": "Y8dBFtwJs4qB",
        "outputId": "9737c1c4-735c-4ca0-de6b-25b4cba9b1f9"
      },
      "outputs": [
        {
          "name": "stdout",
          "output_type": "stream",
          "text": [
            "Средняя RMSE = 945.9868820577402\n",
            "CPU times: user 1min 19s, sys: 581 ms, total: 1min 20s\n",
            "Wall time: 1min 23s\n"
          ]
        }
      ],
      "source": [
        "%%time\n",
        "\n",
        "regressor = CatBoostRegressor(learning_rate=0.5,\n",
        "                              iterations = 200,\n",
        "                              random_state=19072020,\n",
        "                              verbose=False,\n",
        "                              cat_features=['VehicleType','FuelType','Brand','Model'])\n",
        "cv_RMSE_CBR_original = (cross_val_score(regressor,\n",
        "                                original_features_train,\n",
        "                                target_train,\n",
        "                                cv=5,\n",
        "                                scoring='neg_mean_squared_error').mean() * -1) ** 0.5\n",
        "print('Средняя RMSE =', cv_RMSE_CBR_original)"
      ]
    },
    {
      "cell_type": "markdown",
      "metadata": {
        "id": "9WnvE4eXs4qB"
      },
      "source": [
        "### LGBMRegressor"
      ]
    },
    {
      "cell_type": "code",
      "execution_count": null,
      "metadata": {
        "id": "re4dKb72s4qB",
        "outputId": "68c21ea8-3f67-49ab-ce51-0c3b69284bf9"
      },
      "outputs": [
        {
          "name": "stdout",
          "output_type": "stream",
          "text": [
            "Параметры:\n",
            "\n",
            "{'learning_rate': 0.3, 'num_leaves': 200, 'random_state': 19072020}\n",
            "\n",
            "Шаги:\n",
            "\n",
            "977.387856 for {'learning_rate': 0.1, 'num_leaves': 31, 'random_state': 19072020}\n",
            "941.039455 for {'learning_rate': 0.1, 'num_leaves': 100, 'random_state': 19072020}\n",
            "926.849170 for {'learning_rate': 0.1, 'num_leaves': 200, 'random_state': 19072020}\n",
            "950.513005 for {'learning_rate': 0.3, 'num_leaves': 31, 'random_state': 19072020}\n",
            "932.675698 for {'learning_rate': 0.3, 'num_leaves': 100, 'random_state': 19072020}\n",
            "926.500546 for {'learning_rate': 0.3, 'num_leaves': 200, 'random_state': 19072020}\n",
            "950.527659 for {'learning_rate': 0.5, 'num_leaves': 31, 'random_state': 19072020}\n",
            "942.804030 for {'learning_rate': 0.5, 'num_leaves': 100, 'random_state': 19072020}\n",
            "944.487988 for {'learning_rate': 0.5, 'num_leaves': 200, 'random_state': 19072020}\n",
            "\n",
            "CPU times: user 4min 41s, sys: 578 ms, total: 4min 42s\n",
            "Wall time: 4min 43s\n"
          ]
        }
      ],
      "source": [
        "%%time\n",
        "\n",
        "regressor = LGBMRegressor()\n",
        "hyperparams = [{'num_leaves':[31, 100, 200],\n",
        "                'learning_rate':[0.1, 0.3, 0.5],\n",
        "                'random_state':[19072020]}]\n",
        "\n",
        "clf = GridSearchCV(regressor, hyperparams, scoring='neg_mean_squared_error')\n",
        "clf.fit(ordinal_features_train, target_train)\n",
        "print(\"Параметры:\")\n",
        "print()\n",
        "print(clf.best_params_)\n",
        "print()\n",
        "print(\"Шаги:\")\n",
        "print()\n",
        "means = clf.cv_results_['mean_test_score']\n",
        "stds = clf.cv_results_['std_test_score']\n",
        "for mean, std, params in zip(means, stds, clf.cv_results_['params']):\n",
        "    print(\"%0.6f for %r\"% ((mean*-1)** 0.5, params))\n",
        "print()\n",
        "\n",
        "cv_RMSE_LGBMR = (max(means)*-1) ** 0.5"
      ]
    },
    {
      "cell_type": "markdown",
      "metadata": {
        "id": "DV8kelcLs4qB"
      },
      "source": [
        "**Итого по обучению моделей:**\n",
        "\n",
        "Мы изучили 4 регрессионные модели, зафиксировали лучшие гиперпараметры и время их выполнения для дальнейшего сравнения."
      ]
    },
    {
      "cell_type": "markdown",
      "metadata": {
        "id": "9Ju7Iprns4qC"
      },
      "source": [
        "## Анализ моделей"
      ]
    },
    {
      "cell_type": "markdown",
      "metadata": {
        "id": "tr-FHbb6s4qC"
      },
      "source": [
        "Проведем обучение на каждой модели с лучшими гиперпараметрами:"
      ]
    },
    {
      "cell_type": "markdown",
      "metadata": {
        "id": "hXivuqJqs4qC"
      },
      "source": [
        "### LinearRegresion"
      ]
    },
    {
      "cell_type": "code",
      "execution_count": null,
      "metadata": {
        "id": "gv77NeHMs4qC",
        "outputId": "2717f650-5bd8-4345-810e-eba7788bca04"
      },
      "outputs": [
        {
          "name": "stdout",
          "output_type": "stream",
          "text": [
            "CPU times: user 8.68 s, sys: 3.34 s, total: 12 s\n",
            "Wall time: 12 s\n"
          ]
        },
        {
          "data": {
            "text/plain": [
              "LinearRegression()"
            ]
          },
          "execution_count": 86,
          "metadata": {},
          "output_type": "execute_result"
        }
      ],
      "source": [
        "%%time\n",
        "\n",
        "model = LinearRegression()\n",
        "model.fit(ohe_features_train, target_train)"
      ]
    },
    {
      "cell_type": "code",
      "execution_count": null,
      "metadata": {
        "id": "FmeqElvrs4qC",
        "outputId": "fa55ef0f-4b6d-4a1d-deaa-912fd78d5d99"
      },
      "outputs": [
        {
          "name": "stdout",
          "output_type": "stream",
          "text": [
            "CPU times: user 109 ms, sys: 73.4 ms, total: 182 ms\n",
            "Wall time: 159 ms\n"
          ]
        }
      ],
      "source": [
        "%%time\n",
        "\n",
        "target_predict = model.predict(ohe_features_test)"
      ]
    },
    {
      "cell_type": "code",
      "execution_count": null,
      "metadata": {
        "id": "8zUuD4_ts4qC"
      },
      "outputs": [],
      "source": [
        "final_RMSE_LR = mean_squared_error(target_test, target_predict) ** 0.5"
      ]
    },
    {
      "cell_type": "code",
      "execution_count": null,
      "metadata": {
        "id": "91GZWTs5s4qD"
      },
      "outputs": [],
      "source": [
        "cross_val_RMSE_LR = cross_val_score(model,\n",
        "                                    ohe_features_train,\n",
        "                                    target_train,\n",
        "                                    cv = 5,\n",
        "                                    scoring = 'neg_root_mean_squared_error')"
      ]
    },
    {
      "cell_type": "code",
      "execution_count": null,
      "metadata": {
        "id": "heC9cKass4qD"
      },
      "outputs": [],
      "source": [
        "rmse_LR = abs(cross_val_RMSE_LR).mean()"
      ]
    },
    {
      "cell_type": "markdown",
      "metadata": {
        "id": "qx7oii-5s4qD"
      },
      "source": [
        "### DecisionTreeRegressor"
      ]
    },
    {
      "cell_type": "code",
      "execution_count": null,
      "metadata": {
        "id": "K0M7ah0Ks4qD",
        "outputId": "e9b9c831-86e0-4976-adca-ffc79c60ec6b"
      },
      "outputs": [
        {
          "name": "stdout",
          "output_type": "stream",
          "text": [
            "CPU times: user 3.12 s, sys: 112 ms, total: 3.24 s\n",
            "Wall time: 3.24 s\n"
          ]
        },
        {
          "data": {
            "text/plain": [
              "DecisionTreeRegressor(max_depth=15, random_state=19072020)"
            ]
          },
          "execution_count": 92,
          "metadata": {},
          "output_type": "execute_result"
        }
      ],
      "source": [
        "%%time\n",
        "\n",
        "model = DecisionTreeRegressor(criterion='mse',\n",
        "                              max_depth=15,\n",
        "                              random_state=19072020)\n",
        "model.fit(ohe_features_train, target_train)"
      ]
    },
    {
      "cell_type": "code",
      "execution_count": null,
      "metadata": {
        "id": "irQd1Gg5s4qE",
        "outputId": "30b807d6-1b98-4bef-a134-7d3459da3e18"
      },
      "outputs": [
        {
          "name": "stdout",
          "output_type": "stream",
          "text": [
            "CPU times: user 28.7 ms, sys: 41.9 ms, total: 70.6 ms\n",
            "Wall time: 75.3 ms\n"
          ]
        }
      ],
      "source": [
        "%%time\n",
        "\n",
        "target_predict = model.predict(ohe_features_test)"
      ]
    },
    {
      "cell_type": "code",
      "execution_count": null,
      "metadata": {
        "id": "1x0eBZBEs4qE"
      },
      "outputs": [],
      "source": [
        "final_RMSE_DTR_ohe = mean_squared_error(target_test, target_predict) ** 0.5"
      ]
    },
    {
      "cell_type": "code",
      "execution_count": null,
      "metadata": {
        "id": "w5bt7C3fs4qE"
      },
      "outputs": [],
      "source": [
        "cross_val_RMSE_DTR_ohe = cross_val_score(model,\n",
        "                                         ohe_features_train,\n",
        "                                         target_train,\n",
        "                                        cv = 5,\n",
        "                                        scoring = 'neg_root_mean_squared_error')"
      ]
    },
    {
      "cell_type": "code",
      "execution_count": null,
      "metadata": {
        "id": "GFyjXhUCs4qE"
      },
      "outputs": [],
      "source": [
        "rmse_DTR_ohe = abs(cross_val_RMSE_DTR_ohe).mean()"
      ]
    },
    {
      "cell_type": "code",
      "execution_count": null,
      "metadata": {
        "id": "q1laRhMZs4qE",
        "outputId": "e67b7787-1490-4688-fff7-772272de93cd"
      },
      "outputs": [
        {
          "name": "stdout",
          "output_type": "stream",
          "text": [
            "CPU times: user 274 ms, sys: 4.54 ms, total: 278 ms\n",
            "Wall time: 277 ms\n"
          ]
        },
        {
          "data": {
            "text/plain": [
              "DecisionTreeRegressor(max_depth=13, random_state=19072020)"
            ]
          },
          "execution_count": 99,
          "metadata": {},
          "output_type": "execute_result"
        }
      ],
      "source": [
        "%%time\n",
        "\n",
        "model = DecisionTreeRegressor(criterion='mse',\n",
        "                              max_depth=13,\n",
        "                              random_state=19072020)\n",
        "model.fit(ordinal_features_train, target_train)"
      ]
    },
    {
      "cell_type": "code",
      "execution_count": null,
      "metadata": {
        "id": "5Hyiijhcs4qE",
        "outputId": "ddeeca97-1562-4e35-8f06-85e9c9f35c0b"
      },
      "outputs": [
        {
          "name": "stdout",
          "output_type": "stream",
          "text": [
            "CPU times: user 10.4 ms, sys: 185 µs, total: 10.6 ms\n",
            "Wall time: 9.23 ms\n"
          ]
        }
      ],
      "source": [
        "%%time\n",
        "\n",
        "target_predict = model.predict(ordinal_features_test)"
      ]
    },
    {
      "cell_type": "code",
      "execution_count": null,
      "metadata": {
        "id": "S2sLunyNs4qE"
      },
      "outputs": [],
      "source": [
        "final_RMSE_DTR_ordinal = mean_squared_error(target_test, target_predict) ** 0.5"
      ]
    },
    {
      "cell_type": "code",
      "execution_count": null,
      "metadata": {
        "id": "har5Bw4vs4qF",
        "outputId": "0ea6c47b-2e16-4e2a-e2aa-5f8fb9002dbc"
      },
      "outputs": [
        {
          "name": "stdout",
          "output_type": "stream",
          "text": [
            "1055.7694496844765\n"
          ]
        }
      ],
      "source": [
        "print(final_RMSE_DTR_ordinal)"
      ]
    },
    {
      "cell_type": "code",
      "execution_count": null,
      "metadata": {
        "id": "rz-CLDhds4qF"
      },
      "outputs": [],
      "source": [
        "cross_val_RMSE_DTR_ordinal = cross_val_score(model,\n",
        "                                        ordinal_features_train,\n",
        "                                        target_train,\n",
        "                                        cv = 5,\n",
        "                                        scoring = 'neg_root_mean_squared_error')"
      ]
    },
    {
      "cell_type": "code",
      "execution_count": null,
      "metadata": {
        "id": "1QpY46Its4qF"
      },
      "outputs": [],
      "source": [
        "rmse_DTR_ordinal = abs(cross_val_RMSE_DTR_ordinal).mean()"
      ]
    },
    {
      "cell_type": "markdown",
      "metadata": {
        "id": "q4JFsUk8s4qF"
      },
      "source": [
        "### CatBoostRegressor"
      ]
    },
    {
      "cell_type": "code",
      "execution_count": null,
      "metadata": {
        "id": "gPc0Xjrfs4qF",
        "outputId": "10f5a4b4-7653-4b41-d36a-23684be42426"
      },
      "outputs": [
        {
          "name": "stdout",
          "output_type": "stream",
          "text": [
            "CPU times: user 18.6 s, sys: 157 ms, total: 18.8 s\n",
            "Wall time: 19.6 s\n"
          ]
        },
        {
          "data": {
            "text/plain": [
              "<catboost.core.CatBoostRegressor at 0x7fc1df075a60>"
            ]
          },
          "execution_count": 107,
          "metadata": {},
          "output_type": "execute_result"
        }
      ],
      "source": [
        "%%time\n",
        "\n",
        "model = CatBoostRegressor(learning_rate=0.5,\n",
        "                          random_state=19072020,\n",
        "                          verbose=False)\n",
        "model.fit(ordinal_features_train, target_train)"
      ]
    },
    {
      "cell_type": "code",
      "execution_count": null,
      "metadata": {
        "id": "QavjYwu0s4qF",
        "outputId": "72af5fb4-e987-444a-ee1a-c9f6e531915c"
      },
      "outputs": [
        {
          "name": "stdout",
          "output_type": "stream",
          "text": [
            "CPU times: user 48.7 ms, sys: 197 µs, total: 48.9 ms\n",
            "Wall time: 47.2 ms\n"
          ]
        }
      ],
      "source": [
        "%%time\n",
        "\n",
        "target_predict = model.predict(ordinal_features_test)"
      ]
    },
    {
      "cell_type": "code",
      "execution_count": null,
      "metadata": {
        "id": "EUPgTodws4qG"
      },
      "outputs": [],
      "source": [
        "final_RMSE_CBR_ordinal = mean_squared_error(target_test, target_predict) ** 0.5"
      ]
    },
    {
      "cell_type": "code",
      "execution_count": null,
      "metadata": {
        "id": "WoE_6sKYs4qG"
      },
      "outputs": [],
      "source": [
        "cross_val_RMSE_CBR_ordinal = cross_val_score(model,\n",
        "                                        ordinal_features_train,\n",
        "                                        target_train,\n",
        "                                        cv = 5,\n",
        "                                        scoring = 'neg_root_mean_squared_error')"
      ]
    },
    {
      "cell_type": "code",
      "execution_count": null,
      "metadata": {
        "id": "PBoD00l4s4qG"
      },
      "outputs": [],
      "source": [
        "rmse_CBR_ordinal = abs(cross_val_RMSE_CBR_ordinal).mean()"
      ]
    },
    {
      "cell_type": "code",
      "execution_count": null,
      "metadata": {
        "id": "xg3UdCN1s4qG",
        "outputId": "c7fb3181-d050-4c09-b017-9784eb838c1b"
      },
      "outputs": [
        {
          "name": "stdout",
          "output_type": "stream",
          "text": [
            "CPU times: user 20.6 s, sys: 169 ms, total: 20.8 s\n",
            "Wall time: 21.3 s\n"
          ]
        },
        {
          "data": {
            "text/plain": [
              "<catboost.core.CatBoostRegressor at 0x7fc1df075d30>"
            ]
          },
          "execution_count": 113,
          "metadata": {},
          "output_type": "execute_result"
        }
      ],
      "source": [
        "%%time\n",
        "\n",
        "model = CatBoostRegressor(learning_rate=0.5,\n",
        "                          iterations = 200,\n",
        "                          random_state=19072020,\n",
        "                          verbose=False,\n",
        "                          cat_features=['VehicleType','FuelType','Brand','Model'])\n",
        "model.fit(original_features_train, target_train)"
      ]
    },
    {
      "cell_type": "code",
      "execution_count": null,
      "metadata": {
        "id": "TYMVe4Tus4qH",
        "outputId": "13c8e226-a2fb-4c1c-e08e-e24aef83fe04"
      },
      "outputs": [
        {
          "name": "stdout",
          "output_type": "stream",
          "text": [
            "CPU times: user 120 ms, sys: 347 µs, total: 121 ms\n",
            "Wall time: 119 ms\n"
          ]
        }
      ],
      "source": [
        "%%time\n",
        "\n",
        "target_predict = model.predict(original_features_test)"
      ]
    },
    {
      "cell_type": "code",
      "execution_count": null,
      "metadata": {
        "id": "kRZPD7_ps4qH"
      },
      "outputs": [],
      "source": [
        "final_RMSE_CBR_original = mean_squared_error(target_test, target_predict) ** 0.5\n"
      ]
    },
    {
      "cell_type": "code",
      "execution_count": null,
      "metadata": {
        "id": "ton57qtzs4qH"
      },
      "outputs": [],
      "source": [
        "cross_val_RMSE_CBR_original = cross_val_score(model,\n",
        "                                        original_features_train,\n",
        "                                        target_train,\n",
        "                                        cv = 5,\n",
        "                                        scoring = 'neg_root_mean_squared_error')"
      ]
    },
    {
      "cell_type": "code",
      "execution_count": null,
      "metadata": {
        "id": "O2MEHh93s4qH"
      },
      "outputs": [],
      "source": [
        "rmse_CBR_original = abs(cross_val_RMSE_CBR_original).mean()"
      ]
    },
    {
      "cell_type": "markdown",
      "metadata": {
        "id": "3Fs4fxYqs4qH"
      },
      "source": [
        "### LGBMRegressor"
      ]
    },
    {
      "cell_type": "code",
      "execution_count": null,
      "metadata": {
        "id": "60qxJ1jRs4qI",
        "outputId": "e6d62ecf-cc88-4db9-8d03-445e05270d81"
      },
      "outputs": [
        {
          "name": "stdout",
          "output_type": "stream",
          "text": [
            "CPU times: user 9.64 s, sys: 26.1 ms, total: 9.66 s\n",
            "Wall time: 9.67 s\n"
          ]
        },
        {
          "data": {
            "text/plain": [
              "LGBMRegressor(num_leaves=200, random_state=19072020)"
            ]
          },
          "execution_count": 119,
          "metadata": {},
          "output_type": "execute_result"
        }
      ],
      "source": [
        "%%time\n",
        "\n",
        "model = LGBMRegressor(learning_rate=0.1,\n",
        "                      num_leaves=200,\n",
        "                      random_state=19072020)\n",
        "model.fit(ordinal_features_train, target_train)"
      ]
    },
    {
      "cell_type": "code",
      "execution_count": null,
      "metadata": {
        "id": "TdF1B7pgs4qI",
        "outputId": "4e2232ff-13bc-411a-db3c-b4b41e083c39"
      },
      "outputs": [
        {
          "name": "stdout",
          "output_type": "stream",
          "text": [
            "CPU times: user 622 ms, sys: 0 ns, total: 622 ms\n",
            "Wall time: 607 ms\n"
          ]
        }
      ],
      "source": [
        "%%time\n",
        "\n",
        "target_predict = model.predict(ordinal_features_test)"
      ]
    },
    {
      "cell_type": "code",
      "execution_count": null,
      "metadata": {
        "id": "3fm4r6BHs4qI"
      },
      "outputs": [],
      "source": [
        "final_RMSE_LGBMR = mean_squared_error(target_test, target_predict) ** 0.5"
      ]
    },
    {
      "cell_type": "code",
      "execution_count": null,
      "metadata": {
        "id": "NrdasvDzs4qI"
      },
      "outputs": [],
      "source": [
        "cross_val_RMSE_LGBMR = cross_val_score(model,\n",
        "                                      ordinal_features_train,\n",
        "                                        target_train,\n",
        "                                        cv = 5,\n",
        "                                        scoring = 'neg_root_mean_squared_error')"
      ]
    },
    {
      "cell_type": "code",
      "execution_count": null,
      "metadata": {
        "id": "u9ItgQUUs4qJ"
      },
      "outputs": [],
      "source": [
        "rmse_LGBMR = abs(cross_val_RMSE_LGBMR).mean()"
      ]
    },
    {
      "cell_type": "markdown",
      "metadata": {
        "id": "V6KBLhA3s4qJ"
      },
      "source": [
        "### Сравнение моделей"
      ]
    },
    {
      "cell_type": "code",
      "execution_count": null,
      "metadata": {
        "id": "bpvetoois4qJ",
        "outputId": "a0e1eed7-a18f-4a75-dbdb-8639531c724a"
      },
      "outputs": [
        {
          "data": {
            "text/html": [
              "<div>\n",
              "<style scoped>\n",
              "    .dataframe tbody tr th:only-of-type {\n",
              "        vertical-align: middle;\n",
              "    }\n",
              "\n",
              "    .dataframe tbody tr th {\n",
              "        vertical-align: top;\n",
              "    }\n",
              "\n",
              "    .dataframe thead th {\n",
              "        text-align: right;\n",
              "    }\n",
              "</style>\n",
              "<table border=\"1\" class=\"dataframe\">\n",
              "  <thead>\n",
              "    <tr style=\"text-align: right;\">\n",
              "      <th></th>\n",
              "      <th>RMSE на CV, евро</th>\n",
              "      <th>Время обучения на CV, сек</th>\n",
              "      <th>RMSE модели на тестовой выборке, евро</th>\n",
              "      <th>Время обучения модели, сек</th>\n",
              "      <th>Время предсказания модели, сек</th>\n",
              "      <th>Рейтинг RMSE</th>\n",
              "      <th>Рейтинг времени обучения</th>\n",
              "      <th>Рейтинг времени предсказания</th>\n",
              "      <th>Итоговый рейтинг</th>\n",
              "    </tr>\n",
              "  </thead>\n",
              "  <tbody>\n",
              "    <tr>\n",
              "      <th>LinearRegression</th>\n",
              "      <td>1352.505668</td>\n",
              "      <td>52.7</td>\n",
              "      <td>1343.280265</td>\n",
              "      <td>12.000</td>\n",
              "      <td>0.159</td>\n",
              "      <td>0.685271</td>\n",
              "      <td>0.023083</td>\n",
              "      <td>0.056604</td>\n",
              "      <td>0.764958</td>\n",
              "    </tr>\n",
              "    <tr>\n",
              "      <th>DecisionTreeRegressor on OHE features</th>\n",
              "      <td>1066.418604</td>\n",
              "      <td>62.0</td>\n",
              "      <td>1042.580004</td>\n",
              "      <td>3.240</td>\n",
              "      <td>0.075</td>\n",
              "      <td>0.869108</td>\n",
              "      <td>0.085494</td>\n",
              "      <td>0.120000</td>\n",
              "      <td>1.074602</td>\n",
              "    </tr>\n",
              "    <tr>\n",
              "      <th>DecisionTreeRegressor on OE features</th>\n",
              "      <td>1071.977879</td>\n",
              "      <td>360.0</td>\n",
              "      <td>1055.769450</td>\n",
              "      <td>0.277</td>\n",
              "      <td>0.009</td>\n",
              "      <td>0.864601</td>\n",
              "      <td>1.000000</td>\n",
              "      <td>1.000000</td>\n",
              "      <td>2.864601</td>\n",
              "    </tr>\n",
              "    <tr>\n",
              "      <th>CatBoostRegressor on OE features</th>\n",
              "      <td>930.332286</td>\n",
              "      <td>37.7</td>\n",
              "      <td>917.588314</td>\n",
              "      <td>19.600</td>\n",
              "      <td>0.047</td>\n",
              "      <td>0.996239</td>\n",
              "      <td>0.014133</td>\n",
              "      <td>0.191489</td>\n",
              "      <td>1.201861</td>\n",
              "    </tr>\n",
              "    <tr>\n",
              "      <th>CatBoostRegressor on original features</th>\n",
              "      <td>945.968410</td>\n",
              "      <td>252.0</td>\n",
              "      <td>935.844645</td>\n",
              "      <td>21.300</td>\n",
              "      <td>0.119</td>\n",
              "      <td>0.979772</td>\n",
              "      <td>0.013005</td>\n",
              "      <td>0.075630</td>\n",
              "      <td>1.068407</td>\n",
              "    </tr>\n",
              "    <tr>\n",
              "      <th>LGBMRegressor</th>\n",
              "      <td>926.833389</td>\n",
              "      <td>83.0</td>\n",
              "      <td>917.248036</td>\n",
              "      <td>9.670</td>\n",
              "      <td>0.607</td>\n",
              "      <td>1.000000</td>\n",
              "      <td>0.028645</td>\n",
              "      <td>0.014827</td>\n",
              "      <td>1.043472</td>\n",
              "    </tr>\n",
              "  </tbody>\n",
              "</table>\n",
              "</div>"
            ],
            "text/plain": [
              "                                        RMSE на CV, евро  \\\n",
              "LinearRegression                             1352.505668   \n",
              "DecisionTreeRegressor on OHE features        1066.418604   \n",
              "DecisionTreeRegressor on OE features         1071.977879   \n",
              "CatBoostRegressor on OE features              930.332286   \n",
              "CatBoostRegressor on original features        945.968410   \n",
              "LGBMRegressor                                 926.833389   \n",
              "\n",
              "                                        Время обучения на CV, сек  \\\n",
              "LinearRegression                                             52.7   \n",
              "DecisionTreeRegressor on OHE features                        62.0   \n",
              "DecisionTreeRegressor on OE features                        360.0   \n",
              "CatBoostRegressor on OE features                             37.7   \n",
              "CatBoostRegressor on original features                      252.0   \n",
              "LGBMRegressor                                                83.0   \n",
              "\n",
              "                                        RMSE модели на тестовой выборке, евро  \\\n",
              "LinearRegression                                                  1343.280265   \n",
              "DecisionTreeRegressor on OHE features                             1042.580004   \n",
              "DecisionTreeRegressor on OE features                              1055.769450   \n",
              "CatBoostRegressor on OE features                                   917.588314   \n",
              "CatBoostRegressor on original features                             935.844645   \n",
              "LGBMRegressor                                                      917.248036   \n",
              "\n",
              "                                        Время обучения модели, сек  \\\n",
              "LinearRegression                                            12.000   \n",
              "DecisionTreeRegressor on OHE features                        3.240   \n",
              "DecisionTreeRegressor on OE features                         0.277   \n",
              "CatBoostRegressor on OE features                            19.600   \n",
              "CatBoostRegressor on original features                      21.300   \n",
              "LGBMRegressor                                                9.670   \n",
              "\n",
              "                                        Время предсказания модели, сек  \\\n",
              "LinearRegression                                                 0.159   \n",
              "DecisionTreeRegressor on OHE features                            0.075   \n",
              "DecisionTreeRegressor on OE features                             0.009   \n",
              "CatBoostRegressor on OE features                                 0.047   \n",
              "CatBoostRegressor on original features                           0.119   \n",
              "LGBMRegressor                                                    0.607   \n",
              "\n",
              "                                        Рейтинг RMSE  \\\n",
              "LinearRegression                            0.685271   \n",
              "DecisionTreeRegressor on OHE features       0.869108   \n",
              "DecisionTreeRegressor on OE features        0.864601   \n",
              "CatBoostRegressor on OE features            0.996239   \n",
              "CatBoostRegressor on original features      0.979772   \n",
              "LGBMRegressor                               1.000000   \n",
              "\n",
              "                                        Рейтинг времени обучения  \\\n",
              "LinearRegression                                        0.023083   \n",
              "DecisionTreeRegressor on OHE features                   0.085494   \n",
              "DecisionTreeRegressor on OE features                    1.000000   \n",
              "CatBoostRegressor on OE features                        0.014133   \n",
              "CatBoostRegressor on original features                  0.013005   \n",
              "LGBMRegressor                                           0.028645   \n",
              "\n",
              "                                        Рейтинг времени предсказания  \\\n",
              "LinearRegression                                            0.056604   \n",
              "DecisionTreeRegressor on OHE features                       0.120000   \n",
              "DecisionTreeRegressor on OE features                        1.000000   \n",
              "CatBoostRegressor on OE features                            0.191489   \n",
              "CatBoostRegressor on original features                      0.075630   \n",
              "LGBMRegressor                                               0.014827   \n",
              "\n",
              "                                        Итоговый рейтинг  \n",
              "LinearRegression                                0.764958  \n",
              "DecisionTreeRegressor on OHE features           1.074602  \n",
              "DecisionTreeRegressor on OE features            2.864601  \n",
              "CatBoostRegressor on OE features                1.201861  \n",
              "CatBoostRegressor on original features          1.068407  \n",
              "LGBMRegressor                                   1.043472  "
            ]
          },
          "execution_count": 133,
          "metadata": {},
          "output_type": "execute_result"
        }
      ],
      "source": [
        "index = ['LinearRegression',\n",
        "         'DecisionTreeRegressor on OHE features',\n",
        "         'DecisionTreeRegressor on OE features',\n",
        "         'CatBoostRegressor on OE features',\n",
        "         'CatBoostRegressor on original features',\n",
        "         'LGBMRegressor']\n",
        "data = {'RMSE на CV, евро':[rmse_LR,\n",
        "                            rmse_DTR_ohe,\n",
        "                            rmse_DTR_ordinal,\n",
        "                            rmse_CBR_ordinal,\n",
        "                            rmse_CBR_original,\n",
        "                            rmse_LGBMR],\n",
        "        'Время обучения на CV, сек':[52.7,\n",
        "                                     62,\n",
        "                                     360,\n",
        "                                     37.7,\n",
        "                                     252,\n",
        "                                     83],\n",
        "        'RMSE модели на тестовой выборке, евро':[final_RMSE_LR,\n",
        "                                                final_RMSE_DTR_ohe,\n",
        "                                                final_RMSE_DTR_ordinal,\n",
        "                                                final_RMSE_CBR_ordinal,\n",
        "                                                final_RMSE_CBR_original,\n",
        "                                                final_RMSE_LGBMR],\n",
        "        'Время обучения модели, сек':[12,\n",
        "                                      3.24,\n",
        "                                      0.277,\n",
        "                                      19.6,\n",
        "                                      21.3,\n",
        "                                      9.67],\n",
        "        'Время предсказания модели, сек':[0.159,\n",
        "                                          0.075,\n",
        "                                          0.009,\n",
        "                                          0.047,\n",
        "                                          0.119,\n",
        "                                          0.607]}\n",
        "\n",
        "scores_data = pd.DataFrame(data=data, index=index)\n",
        "scores_data['Рейтинг RMSE'] = (scores_data['RMSE на CV, евро'].min() /\n",
        "                              scores_data['RMSE на CV, евро'])\n",
        "scores_data['Рейтинг времени обучения'] = (scores_data['Время обучения модели, сек'].min() /\n",
        "                              scores_data['Время обучения модели, сек'])\n",
        "scores_data['Рейтинг времени предсказания'] = (scores_data['Время предсказания модели, сек'].min() /\n",
        "                              scores_data['Время предсказания модели, сек'])\n",
        "scores_data['Итоговый рейтинг'] = (scores_data['Рейтинг RMSE'] +\n",
        "                                   scores_data['Рейтинг времени обучения'] +\n",
        "                                   scores_data['Рейтинг времени предсказания'])\n",
        "scores_data"
      ]
    },
    {
      "cell_type": "markdown",
      "metadata": {
        "id": "r5kqiRRfs4qK"
      },
      "source": [
        "# Итого"
      ]
    },
    {
      "cell_type": "markdown",
      "metadata": {
        "id": "tGJ5yI2fs4qK"
      },
      "source": [
        "В ходе работы было выполнено:\n",
        "\n",
        "1. Загружены данные и проведена предобработка.\n",
        "2. Выполнено сравнение моделей с использованием различных наборов гиперпараметров.\n",
        "3. Выбрана лучшая модель по результатам метрики RMSE и времени обучения.\n",
        "\n",
        "Для общей оценки по трем параметрам был создан относительный рейтинг. 1 получает регрессор с самым минмальным временем или RMSE. Остальные получают рейтинг как отношение лучшего в столбце к своему значению. Считаем, что все параметры равноценны.\n",
        "\n",
        "На выбор модели не влияло время обучения на кросвалидации, так как на одном типе данных ее проводят один раз. В то время переобучить модель на новых данных приходится намного чаще.\n",
        "\n",
        "1. Лучшей моделью по трем параметрам качество, скорость обучения и скорость предсказания можно считать DecisionTreeRegressor. Сочетания скорости и точности на подготовленных данных выводит его в лидеры рейтинга. Все остальные показали себя в целом хуже.\n",
        "2. Если рассматривать только оценивание точности, то в лидеры выходит LGBMRegressor. Следом за ним идет CatBoostRegressor и DecisionTreeRegressor занимает третье место.\n",
        "3. LinearRegression показал себя на этой задаче очень слабо.\n",
        "\n",
        "Исходя из полученного рейтинга можно выделить специфику задач для регрессоров.\n",
        "\n",
        "* Для быстрых решений с хорошей точностью подойдет DecisionTreeRegressor с подготовленными признаками.\n",
        "* Если в деле важна точность и есть время регрессор LGBMRegressor поможет предсказать лучше всех.\n",
        "* Для задач, не требующих сильной предобработки и заготовки данных CatBoostRegressor может показать себя очень хорошо."
      ]
    }
  ],
  "metadata": {
    "ExecuteTimeLog": [
      {
        "duration": 1638,
        "start_time": "2023-05-26T08:08:41.527Z"
      },
      {
        "duration": 7,
        "start_time": "2023-05-26T22:38:15.249Z"
      },
      {
        "duration": 2149,
        "start_time": "2023-05-26T22:51:43.002Z"
      },
      {
        "duration": 3,
        "start_time": "2023-05-26T22:51:53.497Z"
      },
      {
        "duration": 1810,
        "start_time": "2023-05-26T22:52:02.993Z"
      },
      {
        "duration": 3,
        "start_time": "2023-05-26T22:52:15.685Z"
      },
      {
        "duration": 3,
        "start_time": "2023-05-26T22:52:24.823Z"
      },
      {
        "duration": 2855,
        "start_time": "2023-05-26T22:52:35.690Z"
      },
      {
        "duration": 26,
        "start_time": "2023-05-26T22:54:08.785Z"
      },
      {
        "duration": 5,
        "start_time": "2023-05-26T23:06:35.557Z"
      },
      {
        "duration": 197,
        "start_time": "2023-05-26T23:12:09.298Z"
      },
      {
        "duration": 16,
        "start_time": "2023-05-26T23:12:32.958Z"
      },
      {
        "duration": 67,
        "start_time": "2023-05-26T23:12:39.159Z"
      },
      {
        "duration": 3,
        "start_time": "2023-05-27T16:30:12.064Z"
      },
      {
        "duration": 60,
        "start_time": "2023-05-27T16:30:58.133Z"
      },
      {
        "duration": 2744,
        "start_time": "2023-05-27T16:31:22.432Z"
      },
      {
        "duration": 763,
        "start_time": "2023-05-27T16:31:37.086Z"
      },
      {
        "duration": 683,
        "start_time": "2023-05-27T16:31:45.367Z"
      },
      {
        "duration": 98,
        "start_time": "2023-05-27T16:31:55.087Z"
      },
      {
        "duration": 286,
        "start_time": "2023-05-27T16:37:53.455Z"
      },
      {
        "duration": 2121,
        "start_time": "2023-05-27T16:38:01.402Z"
      },
      {
        "duration": 80,
        "start_time": "2023-05-27T16:38:46.359Z"
      },
      {
        "duration": 69,
        "start_time": "2023-05-27T16:39:11.418Z"
      },
      {
        "duration": 763,
        "start_time": "2023-05-27T18:10:45.819Z"
      },
      {
        "duration": 247,
        "start_time": "2023-05-27T18:12:38.049Z"
      },
      {
        "duration": 248,
        "start_time": "2023-05-27T18:13:12.046Z"
      },
      {
        "duration": 3,
        "start_time": "2023-05-27T18:13:39.883Z"
      },
      {
        "duration": 2849,
        "start_time": "2023-05-27T18:13:40.246Z"
      },
      {
        "duration": 98,
        "start_time": "2023-05-27T18:13:43.097Z"
      },
      {
        "duration": 3,
        "start_time": "2023-05-27T18:13:43.197Z"
      },
      {
        "duration": 4,
        "start_time": "2023-05-27T18:13:43.202Z"
      },
      {
        "duration": 717,
        "start_time": "2023-05-27T18:13:43.207Z"
      },
      {
        "duration": 22,
        "start_time": "2023-05-27T18:13:43.925Z"
      },
      {
        "duration": 258,
        "start_time": "2023-05-27T18:13:43.948Z"
      },
      {
        "duration": 89,
        "start_time": "2023-05-27T18:13:49.610Z"
      },
      {
        "duration": 140,
        "start_time": "2023-05-27T18:13:50.584Z"
      },
      {
        "duration": 241,
        "start_time": "2023-05-27T18:13:53.865Z"
      },
      {
        "duration": 207,
        "start_time": "2023-05-27T18:14:17.745Z"
      },
      {
        "duration": 233,
        "start_time": "2023-05-27T18:14:34.413Z"
      },
      {
        "duration": 257,
        "start_time": "2023-05-28T13:19:50.304Z"
      },
      {
        "duration": 253,
        "start_time": "2023-05-28T13:20:59.707Z"
      },
      {
        "duration": 300,
        "start_time": "2023-05-28T13:21:07.806Z"
      },
      {
        "duration": 4,
        "start_time": "2023-05-28T13:21:31.643Z"
      },
      {
        "duration": 1582,
        "start_time": "2023-05-28T13:21:32.253Z"
      },
      {
        "duration": 135,
        "start_time": "2023-05-28T13:21:33.836Z"
      },
      {
        "duration": 3,
        "start_time": "2023-05-28T13:21:33.973Z"
      },
      {
        "duration": 11,
        "start_time": "2023-05-28T13:21:33.992Z"
      },
      {
        "duration": 822,
        "start_time": "2023-05-28T13:21:34.005Z"
      },
      {
        "duration": 23,
        "start_time": "2023-05-28T13:21:34.833Z"
      },
      {
        "duration": 367,
        "start_time": "2023-05-28T13:21:34.858Z"
      },
      {
        "duration": 88,
        "start_time": "2023-05-28T13:21:35.400Z"
      },
      {
        "duration": 83,
        "start_time": "2023-05-28T13:21:36.466Z"
      },
      {
        "duration": 250,
        "start_time": "2023-05-28T13:21:37.904Z"
      },
      {
        "duration": 253,
        "start_time": "2023-05-28T13:21:50.192Z"
      },
      {
        "duration": 248,
        "start_time": "2023-05-28T13:22:06.292Z"
      },
      {
        "duration": 261,
        "start_time": "2023-05-28T13:22:33.409Z"
      },
      {
        "duration": 3,
        "start_time": "2023-05-28T13:34:17.173Z"
      },
      {
        "duration": 899,
        "start_time": "2023-05-28T13:34:26.073Z"
      },
      {
        "duration": 6,
        "start_time": "2023-05-28T14:28:54.059Z"
      },
      {
        "duration": 897,
        "start_time": "2023-05-28T14:29:03.597Z"
      },
      {
        "duration": 102,
        "start_time": "2023-05-28T14:29:26.031Z"
      },
      {
        "duration": 863,
        "start_time": "2023-05-28T14:29:54.763Z"
      },
      {
        "duration": 125,
        "start_time": "2023-05-28T14:29:55.627Z"
      },
      {
        "duration": 2,
        "start_time": "2023-05-28T14:30:29.163Z"
      },
      {
        "duration": 267,
        "start_time": "2023-05-28T14:30:38.713Z"
      },
      {
        "duration": 15,
        "start_time": "2023-05-28T14:34:44.101Z"
      },
      {
        "duration": 77,
        "start_time": "2023-05-28T14:34:52.197Z"
      },
      {
        "duration": 10,
        "start_time": "2023-05-28T14:36:06.129Z"
      },
      {
        "duration": 352,
        "start_time": "2023-05-28T14:36:42.499Z"
      },
      {
        "duration": 12,
        "start_time": "2023-05-29T11:47:50.730Z"
      },
      {
        "duration": 72,
        "start_time": "2023-05-29T11:48:28.208Z"
      },
      {
        "duration": 356,
        "start_time": "2023-05-29T11:48:59.512Z"
      },
      {
        "duration": 67,
        "start_time": "2023-05-29T11:49:27.190Z"
      },
      {
        "duration": 334,
        "start_time": "2023-05-29T11:50:05.586Z"
      },
      {
        "duration": 250,
        "start_time": "2023-05-29T11:50:37.114Z"
      },
      {
        "duration": 62,
        "start_time": "2023-05-29T11:51:37.643Z"
      },
      {
        "duration": 30,
        "start_time": "2023-05-29T11:52:03.738Z"
      },
      {
        "duration": 88,
        "start_time": "2023-05-29T11:52:41.578Z"
      },
      {
        "duration": 31,
        "start_time": "2023-05-29T11:53:00.979Z"
      },
      {
        "duration": 49,
        "start_time": "2023-05-29T11:53:29.678Z"
      },
      {
        "duration": 2757,
        "start_time": "2023-05-29T11:54:22.797Z"
      },
      {
        "duration": 2934,
        "start_time": "2023-05-29T11:54:43.802Z"
      },
      {
        "duration": 45,
        "start_time": "2023-05-29T11:54:56.605Z"
      },
      {
        "duration": 3094,
        "start_time": "2023-05-29T11:55:35.534Z"
      },
      {
        "duration": 9,
        "start_time": "2023-05-29T11:55:50.213Z"
      },
      {
        "duration": 46,
        "start_time": "2023-05-29T11:55:55.317Z"
      },
      {
        "duration": 86,
        "start_time": "2023-05-29T11:57:13.499Z"
      },
      {
        "duration": 29,
        "start_time": "2023-05-29T11:57:15.343Z"
      },
      {
        "duration": 32,
        "start_time": "2023-05-29T11:57:18.214Z"
      },
      {
        "duration": 101,
        "start_time": "2023-05-29T11:57:19.422Z"
      },
      {
        "duration": 29,
        "start_time": "2023-05-29T11:57:19.998Z"
      },
      {
        "duration": 50,
        "start_time": "2023-05-29T11:57:20.799Z"
      },
      {
        "duration": 1897,
        "start_time": "2023-05-29T11:57:21.222Z"
      },
      {
        "duration": 1969,
        "start_time": "2023-05-29T11:57:23.121Z"
      },
      {
        "duration": 44,
        "start_time": "2023-05-29T11:57:25.092Z"
      },
      {
        "duration": 303,
        "start_time": "2023-05-29T11:58:46.943Z"
      },
      {
        "duration": 302,
        "start_time": "2023-05-29T11:59:23.738Z"
      },
      {
        "duration": 332,
        "start_time": "2023-05-29T12:00:13.632Z"
      },
      {
        "duration": 52,
        "start_time": "2023-05-29T12:00:25.648Z"
      },
      {
        "duration": 434,
        "start_time": "2023-05-29T12:02:16.938Z"
      },
      {
        "duration": 56,
        "start_time": "2023-05-29T12:02:35.850Z"
      },
      {
        "duration": 38,
        "start_time": "2023-05-29T12:05:22.700Z"
      },
      {
        "duration": 33,
        "start_time": "2023-05-29T12:06:39.046Z"
      },
      {
        "duration": 34,
        "start_time": "2023-05-29T12:06:53.244Z"
      },
      {
        "duration": 36,
        "start_time": "2023-05-29T12:07:08.605Z"
      },
      {
        "duration": 87,
        "start_time": "2023-05-29T12:10:57.457Z"
      },
      {
        "duration": 49,
        "start_time": "2023-05-29T12:16:47.685Z"
      },
      {
        "duration": 574,
        "start_time": "2023-05-29T12:18:21.118Z"
      },
      {
        "duration": 306,
        "start_time": "2023-05-29T12:18:34.109Z"
      },
      {
        "duration": 57737,
        "start_time": "2023-05-29T12:20:19.543Z"
      },
      {
        "duration": 136495,
        "start_time": "2023-05-29T12:51:46.992Z"
      },
      {
        "duration": 393260,
        "start_time": "2023-05-29T13:04:35.497Z"
      },
      {
        "duration": 43095,
        "start_time": "2023-05-29T13:14:43.184Z"
      },
      {
        "duration": 289656,
        "start_time": "2023-05-29T13:23:29.046Z"
      },
      {
        "duration": 92363,
        "start_time": "2023-05-29T13:28:18.704Z"
      },
      {
        "duration": 575420,
        "start_time": "2023-05-29T13:29:51.069Z"
      },
      {
        "duration": 30498,
        "start_time": "2023-05-29T13:45:28.993Z"
      },
      {
        "duration": 232,
        "start_time": "2023-05-29T13:46:20.545Z"
      },
      {
        "duration": 4,
        "start_time": "2023-05-29T13:46:38.707Z"
      },
      {
        "duration": 3953,
        "start_time": "2023-05-29T13:47:44.003Z"
      },
      {
        "duration": 4,
        "start_time": "2023-05-29T13:48:14.844Z"
      },
      {
        "duration": 370,
        "start_time": "2023-05-29T13:48:46.835Z"
      },
      {
        "duration": 15,
        "start_time": "2023-05-29T13:48:58.706Z"
      },
      {
        "duration": 10,
        "start_time": "2023-05-29T13:49:10.089Z"
      },
      {
        "duration": 23341,
        "start_time": "2023-05-29T13:50:16.156Z"
      },
      {
        "duration": 63,
        "start_time": "2023-05-29T13:51:54.251Z"
      },
      {
        "duration": 5,
        "start_time": "2023-05-29T13:51:55.098Z"
      },
      {
        "duration": 25533,
        "start_time": "2023-05-29T13:52:01.924Z"
      },
      {
        "duration": 140,
        "start_time": "2023-05-29T13:52:42.403Z"
      },
      {
        "duration": 4,
        "start_time": "2023-05-29T13:52:50.516Z"
      },
      {
        "duration": 370990,
        "start_time": "2023-05-29T13:53:20.303Z"
      },
      {
        "duration": 479,
        "start_time": "2023-05-29T13:59:52.217Z"
      },
      {
        "duration": 3,
        "start_time": "2023-05-29T13:59:53.537Z"
      },
      {
        "duration": 21,
        "start_time": "2023-05-29T14:04:24.812Z"
      },
      {
        "duration": 51,
        "start_time": "2023-05-29T14:13:57.762Z"
      },
      {
        "duration": 58,
        "start_time": "2023-05-29T14:14:15.233Z"
      },
      {
        "duration": 3594,
        "start_time": "2023-05-29T14:14:20.953Z"
      },
      {
        "duration": 82,
        "start_time": "2023-05-29T14:14:25.586Z"
      },
      {
        "duration": 5,
        "start_time": "2023-05-29T14:14:28.025Z"
      },
      {
        "duration": 346,
        "start_time": "2023-05-29T14:14:28.442Z"
      },
      {
        "duration": 14,
        "start_time": "2023-05-29T14:14:29.633Z"
      },
      {
        "duration": 5,
        "start_time": "2023-05-29T14:14:30.122Z"
      },
      {
        "duration": 32,
        "start_time": "2023-05-29T14:16:27.082Z"
      },
      {
        "duration": 32,
        "start_time": "2023-05-29T14:16:34.566Z"
      },
      {
        "duration": 28,
        "start_time": "2023-05-29T14:17:52.910Z"
      },
      {
        "duration": 17328,
        "start_time": "2023-05-30T11:54:01.101Z"
      },
      {
        "duration": 16515,
        "start_time": "2023-05-30T11:54:18.505Z"
      },
      {
        "duration": 2475,
        "start_time": "2023-05-30T11:54:35.047Z"
      },
      {
        "duration": 81,
        "start_time": "2023-05-30T11:54:37.537Z"
      },
      {
        "duration": 2997,
        "start_time": "2023-05-30T11:54:37.643Z"
      },
      {
        "duration": 1524,
        "start_time": "2023-05-30T11:54:40.716Z"
      },
      {
        "duration": 87,
        "start_time": "2023-05-30T11:54:42.251Z"
      },
      {
        "duration": 3996,
        "start_time": "2023-05-30T11:54:42.404Z"
      },
      {
        "duration": 103,
        "start_time": "2023-05-30T11:54:46.403Z"
      },
      {
        "duration": 1588,
        "start_time": "2023-05-30T11:54:46.524Z"
      },
      {
        "duration": 3573,
        "start_time": "2023-05-30T11:54:48.123Z"
      },
      {
        "duration": 524,
        "start_time": "2023-05-30T11:54:51.713Z"
      },
      {
        "duration": 4104,
        "start_time": "2023-05-30T11:54:52.406Z"
      },
      {
        "duration": 4722,
        "start_time": "2023-05-30T11:54:56.515Z"
      },
      {
        "duration": 1902,
        "start_time": "2023-05-30T11:55:01.300Z"
      },
      {
        "duration": 829,
        "start_time": "2023-05-30T11:55:03.212Z"
      },
      {
        "duration": 1993,
        "start_time": "2023-05-30T11:55:04.116Z"
      },
      {
        "duration": 588,
        "start_time": "2023-05-30T11:55:06.117Z"
      },
      {
        "duration": 1091,
        "start_time": "2023-05-30T11:55:06.713Z"
      },
      {
        "duration": 20423,
        "start_time": "2023-05-30T11:55:07.811Z"
      },
      {
        "duration": 11084,
        "start_time": "2023-05-30T11:55:28.236Z"
      },
      {
        "duration": 209,
        "start_time": "2023-05-30T11:55:39.326Z"
      },
      {
        "duration": 1000,
        "start_time": "2023-05-30T11:55:39.538Z"
      },
      {
        "duration": 1159,
        "start_time": "2023-05-30T11:55:40.540Z"
      },
      {
        "duration": 899,
        "start_time": "2023-05-30T11:55:41.701Z"
      },
      {
        "duration": 898,
        "start_time": "2023-05-30T11:55:42.601Z"
      },
      {
        "duration": 232,
        "start_time": "2023-05-30T11:55:43.501Z"
      },
      {
        "duration": 188,
        "start_time": "2023-05-30T11:55:43.736Z"
      },
      {
        "duration": 176,
        "start_time": "2023-05-30T11:55:43.926Z"
      },
      {
        "duration": 300,
        "start_time": "2023-05-30T11:55:44.104Z"
      },
      {
        "duration": 2109,
        "start_time": "2023-05-30T11:55:44.407Z"
      },
      {
        "duration": 1106,
        "start_time": "2023-05-30T11:55:46.517Z"
      },
      {
        "duration": 341293,
        "start_time": "2023-05-30T11:55:47.630Z"
      },
      {
        "duration": 377688,
        "start_time": "2023-05-30T12:01:28.930Z"
      },
      {
        "duration": 1214415,
        "start_time": "2023-05-30T12:07:46.620Z"
      },
      {
        "duration": 140306,
        "start_time": "2023-05-30T12:28:01.037Z"
      },
      {
        "duration": 1569069,
        "start_time": "2023-05-30T12:30:21.399Z"
      },
      {
        "duration": 239540,
        "start_time": "2023-05-30T12:56:30.529Z"
      },
      {
        "duration": 89909,
        "start_time": "2023-05-30T13:00:30.071Z"
      },
      {
        "duration": 1674,
        "start_time": "2023-05-30T13:29:30.875Z"
      },
      {
        "duration": 2889,
        "start_time": "2023-05-30T13:29:32.552Z"
      },
      {
        "duration": 97,
        "start_time": "2023-05-30T13:29:35.442Z"
      },
      {
        "duration": 2,
        "start_time": "2023-05-30T13:29:35.541Z"
      },
      {
        "duration": 280,
        "start_time": "2023-05-30T13:29:35.545Z"
      },
      {
        "duration": 91,
        "start_time": "2023-05-30T13:29:35.826Z"
      },
      {
        "duration": 11,
        "start_time": "2023-05-30T13:29:37.470Z"
      },
      {
        "duration": 317,
        "start_time": "2023-05-30T13:29:38.322Z"
      },
      {
        "duration": 13,
        "start_time": "2023-05-30T13:29:39.586Z"
      },
      {
        "duration": 73,
        "start_time": "2023-05-30T13:29:41.297Z"
      },
      {
        "duration": 316,
        "start_time": "2023-05-30T13:29:42.585Z"
      },
      {
        "duration": 55,
        "start_time": "2023-05-30T13:29:43.455Z"
      },
      {
        "duration": 257,
        "start_time": "2023-05-30T13:29:45.024Z"
      },
      {
        "duration": 195,
        "start_time": "2023-05-30T13:29:45.900Z"
      },
      {
        "duration": 69,
        "start_time": "2023-05-30T13:29:47.524Z"
      },
      {
        "duration": 27,
        "start_time": "2023-05-30T13:29:50.410Z"
      },
      {
        "duration": 82,
        "start_time": "2023-05-30T13:29:52.070Z"
      },
      {
        "duration": 34,
        "start_time": "2023-05-30T13:29:52.486Z"
      },
      {
        "duration": 47,
        "start_time": "2023-05-30T13:29:54.315Z"
      },
      {
        "duration": 2623,
        "start_time": "2023-05-30T13:29:55.006Z"
      },
      {
        "duration": 2886,
        "start_time": "2023-05-30T13:29:57.630Z"
      },
      {
        "duration": 46,
        "start_time": "2023-05-30T13:30:00.518Z"
      },
      {
        "duration": 284,
        "start_time": "2023-05-30T13:30:00.566Z"
      },
      {
        "duration": 273,
        "start_time": "2023-05-30T13:30:00.851Z"
      },
      {
        "duration": 265,
        "start_time": "2023-05-30T13:30:01.183Z"
      },
      {
        "duration": 382,
        "start_time": "2023-05-30T13:30:02.531Z"
      },
      {
        "duration": 43,
        "start_time": "2023-05-30T13:30:04.374Z"
      },
      {
        "duration": 37,
        "start_time": "2023-05-30T13:30:05.574Z"
      },
      {
        "duration": 34,
        "start_time": "2023-05-30T13:30:07.058Z"
      },
      {
        "duration": 75,
        "start_time": "2023-05-30T13:30:08.070Z"
      },
      {
        "duration": 4,
        "start_time": "2023-05-30T13:59:37.582Z"
      },
      {
        "duration": 737,
        "start_time": "2023-05-30T13:59:37.770Z"
      },
      {
        "duration": 98,
        "start_time": "2023-05-30T13:59:38.509Z"
      },
      {
        "duration": 3,
        "start_time": "2023-05-30T13:59:38.609Z"
      },
      {
        "duration": 270,
        "start_time": "2023-05-30T13:59:38.614Z"
      },
      {
        "duration": 81,
        "start_time": "2023-05-30T13:59:39.306Z"
      },
      {
        "duration": 8,
        "start_time": "2023-05-30T13:59:40.004Z"
      },
      {
        "duration": 279,
        "start_time": "2023-05-30T13:59:40.386Z"
      },
      {
        "duration": 11,
        "start_time": "2023-05-30T13:59:40.782Z"
      },
      {
        "duration": 69,
        "start_time": "2023-05-30T13:59:41.195Z"
      },
      {
        "duration": 238,
        "start_time": "2023-05-30T13:59:41.778Z"
      },
      {
        "duration": 57,
        "start_time": "2023-05-30T13:59:42.176Z"
      },
      {
        "duration": 247,
        "start_time": "2023-05-30T13:59:42.582Z"
      },
      {
        "duration": 189,
        "start_time": "2023-05-30T13:59:42.962Z"
      },
      {
        "duration": 67,
        "start_time": "2023-05-30T13:59:43.570Z"
      },
      {
        "duration": 27,
        "start_time": "2023-05-30T13:59:43.988Z"
      },
      {
        "duration": 83,
        "start_time": "2023-05-30T13:59:44.413Z"
      },
      {
        "duration": 25,
        "start_time": "2023-05-30T13:59:44.693Z"
      },
      {
        "duration": 47,
        "start_time": "2023-05-30T13:59:45.224Z"
      },
      {
        "duration": 2551,
        "start_time": "2023-05-30T13:59:45.509Z"
      },
      {
        "duration": 2824,
        "start_time": "2023-05-30T13:59:48.061Z"
      },
      {
        "duration": 49,
        "start_time": "2023-05-30T13:59:50.887Z"
      },
      {
        "duration": 253,
        "start_time": "2023-05-30T13:59:50.938Z"
      },
      {
        "duration": 347,
        "start_time": "2023-05-30T13:59:51.193Z"
      },
      {
        "duration": 272,
        "start_time": "2023-05-30T13:59:51.541Z"
      },
      {
        "duration": 262,
        "start_time": "2023-05-30T13:59:51.815Z"
      },
      {
        "duration": 45,
        "start_time": "2023-05-30T13:59:52.078Z"
      },
      {
        "duration": 37,
        "start_time": "2023-05-30T13:59:52.125Z"
      },
      {
        "duration": 47,
        "start_time": "2023-05-30T13:59:52.571Z"
      },
      {
        "duration": 72,
        "start_time": "2023-05-30T13:59:53.570Z"
      },
      {
        "duration": 4,
        "start_time": "2023-05-30T15:53:47.224Z"
      },
      {
        "duration": 753,
        "start_time": "2023-05-30T15:53:47.372Z"
      },
      {
        "duration": 101,
        "start_time": "2023-05-30T15:53:48.127Z"
      },
      {
        "duration": 4,
        "start_time": "2023-05-30T15:53:48.229Z"
      },
      {
        "duration": 289,
        "start_time": "2023-05-30T15:53:48.234Z"
      },
      {
        "duration": 80,
        "start_time": "2023-05-30T15:53:48.839Z"
      },
      {
        "duration": 8,
        "start_time": "2023-05-30T15:53:49.543Z"
      },
      {
        "duration": 282,
        "start_time": "2023-05-30T15:53:49.868Z"
      },
      {
        "duration": 13,
        "start_time": "2023-05-30T15:53:50.152Z"
      },
      {
        "duration": 73,
        "start_time": "2023-05-30T15:53:53.736Z"
      },
      {
        "duration": 225,
        "start_time": "2023-05-30T15:53:54.328Z"
      },
      {
        "duration": 53,
        "start_time": "2023-05-30T15:53:54.740Z"
      },
      {
        "duration": 251,
        "start_time": "2023-05-30T15:53:55.251Z"
      },
      {
        "duration": 289,
        "start_time": "2023-05-30T15:53:55.788Z"
      },
      {
        "duration": 80,
        "start_time": "2023-05-30T15:53:56.542Z"
      },
      {
        "duration": 28,
        "start_time": "2023-05-30T15:53:57.283Z"
      },
      {
        "duration": 81,
        "start_time": "2023-05-30T15:53:57.987Z"
      },
      {
        "duration": 24,
        "start_time": "2023-05-30T15:53:58.240Z"
      },
      {
        "duration": 47,
        "start_time": "2023-05-30T15:53:59.249Z"
      },
      {
        "duration": 2624,
        "start_time": "2023-05-30T15:53:59.473Z"
      },
      {
        "duration": 3010,
        "start_time": "2023-05-30T15:54:02.105Z"
      },
      {
        "duration": 43,
        "start_time": "2023-05-30T15:54:05.117Z"
      },
      {
        "duration": 261,
        "start_time": "2023-05-30T15:54:05.162Z"
      },
      {
        "duration": 250,
        "start_time": "2023-05-30T15:54:05.425Z"
      },
      {
        "duration": 267,
        "start_time": "2023-05-30T15:54:05.676Z"
      },
      {
        "duration": 258,
        "start_time": "2023-05-30T15:54:05.945Z"
      },
      {
        "duration": 43,
        "start_time": "2023-05-30T15:54:06.206Z"
      },
      {
        "duration": 33,
        "start_time": "2023-05-30T15:54:06.251Z"
      },
      {
        "duration": 49,
        "start_time": "2023-05-30T15:54:06.286Z"
      },
      {
        "duration": 88,
        "start_time": "2023-05-30T15:54:06.337Z"
      },
      {
        "duration": 128,
        "start_time": "2023-05-30T15:54:16.242Z"
      },
      {
        "duration": 33,
        "start_time": "2023-05-30T15:55:24.688Z"
      },
      {
        "duration": 57,
        "start_time": "2023-05-30T17:47:41.939Z"
      },
      {
        "duration": 302,
        "start_time": "2023-05-30T17:53:42.777Z"
      },
      {
        "duration": 72,
        "start_time": "2023-05-30T17:56:12.685Z"
      },
      {
        "duration": 252,
        "start_time": "2023-05-30T17:56:36.806Z"
      },
      {
        "duration": 239,
        "start_time": "2023-05-30T17:58:43.095Z"
      },
      {
        "duration": 44,
        "start_time": "2023-05-30T18:04:59.689Z"
      },
      {
        "duration": 38,
        "start_time": "2023-05-30T18:21:23.047Z"
      },
      {
        "duration": 58,
        "start_time": "2023-05-30T18:22:06.949Z"
      },
      {
        "duration": 48,
        "start_time": "2023-05-30T18:23:03.284Z"
      },
      {
        "duration": 28,
        "start_time": "2023-05-30T18:27:23.883Z"
      },
      {
        "duration": 41,
        "start_time": "2023-05-30T18:32:24.094Z"
      },
      {
        "duration": 60,
        "start_time": "2023-05-30T18:35:55.241Z"
      },
      {
        "duration": 43,
        "start_time": "2023-05-30T18:50:44.054Z"
      },
      {
        "duration": 32,
        "start_time": "2023-05-30T18:56:11.388Z"
      },
      {
        "duration": 36,
        "start_time": "2023-05-30T19:27:23.072Z"
      },
      {
        "duration": 34,
        "start_time": "2023-05-30T19:27:23.308Z"
      },
      {
        "duration": 48,
        "start_time": "2023-05-30T19:27:23.773Z"
      },
      {
        "duration": 41,
        "start_time": "2023-05-30T19:27:57.261Z"
      },
      {
        "duration": 10,
        "start_time": "2023-05-30T19:28:07.489Z"
      },
      {
        "duration": 47,
        "start_time": "2023-05-30T19:28:18.797Z"
      },
      {
        "duration": 47,
        "start_time": "2023-05-30T19:28:24.390Z"
      },
      {
        "duration": 37,
        "start_time": "2023-05-30T19:28:28.808Z"
      },
      {
        "duration": 37,
        "start_time": "2023-05-30T19:28:29.130Z"
      },
      {
        "duration": 48,
        "start_time": "2023-05-30T19:28:29.477Z"
      },
      {
        "duration": 61,
        "start_time": "2023-05-30T19:29:14.450Z"
      },
      {
        "duration": 9,
        "start_time": "2023-05-30T19:29:30.498Z"
      },
      {
        "duration": 817,
        "start_time": "2023-05-30T19:29:30.649Z"
      },
      {
        "duration": 139,
        "start_time": "2023-05-30T19:29:31.468Z"
      },
      {
        "duration": 3,
        "start_time": "2023-05-30T19:29:31.609Z"
      },
      {
        "duration": 317,
        "start_time": "2023-05-30T19:29:31.614Z"
      },
      {
        "duration": 80,
        "start_time": "2023-05-30T19:29:32.849Z"
      },
      {
        "duration": 8,
        "start_time": "2023-05-30T19:29:34.349Z"
      },
      {
        "duration": 288,
        "start_time": "2023-05-30T19:29:34.690Z"
      },
      {
        "duration": 13,
        "start_time": "2023-05-30T19:29:35.030Z"
      },
      {
        "duration": 70,
        "start_time": "2023-05-30T19:29:35.393Z"
      },
      {
        "duration": 355,
        "start_time": "2023-05-30T19:29:35.929Z"
      },
      {
        "duration": 60,
        "start_time": "2023-05-30T19:29:36.286Z"
      },
      {
        "duration": 276,
        "start_time": "2023-05-30T19:29:36.609Z"
      },
      {
        "duration": 238,
        "start_time": "2023-05-30T19:29:36.972Z"
      },
      {
        "duration": 81,
        "start_time": "2023-05-30T19:29:37.537Z"
      },
      {
        "duration": 29,
        "start_time": "2023-05-30T19:29:37.921Z"
      },
      {
        "duration": 86,
        "start_time": "2023-05-30T19:29:38.308Z"
      },
      {
        "duration": 27,
        "start_time": "2023-05-30T19:29:38.513Z"
      },
      {
        "duration": 49,
        "start_time": "2023-05-30T19:29:38.868Z"
      },
      {
        "duration": 2765,
        "start_time": "2023-05-30T19:29:39.084Z"
      },
      {
        "duration": 3178,
        "start_time": "2023-05-30T19:29:41.851Z"
      },
      {
        "duration": 45,
        "start_time": "2023-05-30T19:29:45.030Z"
      },
      {
        "duration": 273,
        "start_time": "2023-05-30T19:29:45.077Z"
      },
      {
        "duration": 269,
        "start_time": "2023-05-30T19:29:45.352Z"
      },
      {
        "duration": 298,
        "start_time": "2023-05-30T19:29:45.623Z"
      },
      {
        "duration": 390,
        "start_time": "2023-05-30T19:29:45.923Z"
      },
      {
        "duration": 46,
        "start_time": "2023-05-30T19:29:46.315Z"
      },
      {
        "duration": 55,
        "start_time": "2023-05-30T19:29:46.362Z"
      },
      {
        "duration": 46,
        "start_time": "2023-05-30T19:29:46.420Z"
      },
      {
        "duration": 114,
        "start_time": "2023-05-30T19:29:46.468Z"
      },
      {
        "duration": 60,
        "start_time": "2023-05-30T19:29:46.584Z"
      },
      {
        "duration": 31,
        "start_time": "2023-05-30T19:29:48.648Z"
      },
      {
        "duration": 50,
        "start_time": "2023-05-30T19:29:50.071Z"
      },
      {
        "duration": 50,
        "start_time": "2023-05-30T19:30:25.928Z"
      },
      {
        "duration": 10,
        "start_time": "2023-05-30T19:33:31.278Z"
      },
      {
        "duration": 11,
        "start_time": "2023-05-30T19:33:54.149Z"
      },
      {
        "duration": 11,
        "start_time": "2023-05-30T19:34:29.436Z"
      },
      {
        "duration": 4,
        "start_time": "2023-05-30T19:34:37.397Z"
      },
      {
        "duration": 2017,
        "start_time": "2023-05-30T19:35:59.890Z"
      },
      {
        "duration": 4,
        "start_time": "2023-05-30T19:36:06.598Z"
      },
      {
        "duration": 744,
        "start_time": "2023-05-30T19:36:07.989Z"
      },
      {
        "duration": 98,
        "start_time": "2023-05-30T19:36:08.734Z"
      },
      {
        "duration": 9,
        "start_time": "2023-05-30T19:36:08.834Z"
      },
      {
        "duration": 279,
        "start_time": "2023-05-30T19:36:08.844Z"
      },
      {
        "duration": 80,
        "start_time": "2023-05-30T19:36:09.311Z"
      },
      {
        "duration": 9,
        "start_time": "2023-05-30T19:36:09.962Z"
      },
      {
        "duration": 294,
        "start_time": "2023-05-30T19:36:10.337Z"
      },
      {
        "duration": 13,
        "start_time": "2023-05-30T19:36:10.677Z"
      },
      {
        "duration": 74,
        "start_time": "2023-05-30T19:36:11.054Z"
      },
      {
        "duration": 237,
        "start_time": "2023-05-30T19:36:11.605Z"
      },
      {
        "duration": 58,
        "start_time": "2023-05-30T19:36:11.961Z"
      },
      {
        "duration": 359,
        "start_time": "2023-05-30T19:36:12.358Z"
      },
      {
        "duration": 212,
        "start_time": "2023-05-30T19:36:12.723Z"
      },
      {
        "duration": 69,
        "start_time": "2023-05-30T19:36:13.241Z"
      },
      {
        "duration": 28,
        "start_time": "2023-05-30T19:36:13.621Z"
      },
      {
        "duration": 98,
        "start_time": "2023-05-30T19:36:14.009Z"
      },
      {
        "duration": 36,
        "start_time": "2023-05-30T19:36:14.202Z"
      },
      {
        "duration": 51,
        "start_time": "2023-05-30T19:36:14.609Z"
      },
      {
        "duration": 2702,
        "start_time": "2023-05-30T19:36:14.877Z"
      },
      {
        "duration": 3390,
        "start_time": "2023-05-30T19:36:17.581Z"
      },
      {
        "duration": 50,
        "start_time": "2023-05-30T19:36:20.973Z"
      },
      {
        "duration": 273,
        "start_time": "2023-05-30T19:36:21.025Z"
      },
      {
        "duration": 372,
        "start_time": "2023-05-30T19:36:21.299Z"
      },
      {
        "duration": 309,
        "start_time": "2023-05-30T19:36:21.673Z"
      },
      {
        "duration": 301,
        "start_time": "2023-05-30T19:36:21.984Z"
      },
      {
        "duration": 50,
        "start_time": "2023-05-30T19:36:22.286Z"
      },
      {
        "duration": 37,
        "start_time": "2023-05-30T19:36:22.338Z"
      },
      {
        "duration": 62,
        "start_time": "2023-05-30T19:36:22.377Z"
      },
      {
        "duration": 117,
        "start_time": "2023-05-30T19:36:22.441Z"
      },
      {
        "duration": 64,
        "start_time": "2023-05-30T19:36:22.559Z"
      },
      {
        "duration": 13,
        "start_time": "2023-05-30T19:36:22.625Z"
      },
      {
        "duration": 50,
        "start_time": "2023-05-30T19:37:40.682Z"
      },
      {
        "duration": 38,
        "start_time": "2023-05-30T19:38:38.089Z"
      },
      {
        "duration": 10,
        "start_time": "2023-05-30T19:40:38.241Z"
      },
      {
        "duration": 159,
        "start_time": "2023-05-30T19:40:49.572Z"
      },
      {
        "duration": 9,
        "start_time": "2023-05-30T19:42:35.081Z"
      },
      {
        "duration": 10,
        "start_time": "2023-05-30T19:42:39.777Z"
      },
      {
        "duration": 37,
        "start_time": "2023-05-30T19:42:41.481Z"
      },
      {
        "duration": 54,
        "start_time": "2023-05-30T19:42:41.801Z"
      },
      {
        "duration": 35,
        "start_time": "2023-05-30T19:54:11.269Z"
      },
      {
        "duration": 46,
        "start_time": "2023-05-30T19:55:05.890Z"
      },
      {
        "duration": 35,
        "start_time": "2023-05-30T19:59:57.881Z"
      },
      {
        "duration": 16,
        "start_time": "2023-05-30T20:03:50.454Z"
      },
      {
        "duration": 16,
        "start_time": "2023-05-30T20:04:05.157Z"
      },
      {
        "duration": 137,
        "start_time": "2023-05-30T20:21:49.450Z"
      },
      {
        "duration": 14,
        "start_time": "2023-05-30T20:25:30.343Z"
      },
      {
        "duration": 138,
        "start_time": "2023-05-30T20:27:09.090Z"
      },
      {
        "duration": 37,
        "start_time": "2023-05-30T20:28:30.852Z"
      },
      {
        "duration": 281,
        "start_time": "2023-05-30T20:28:31.161Z"
      },
      {
        "duration": 50,
        "start_time": "2023-05-30T20:28:52.962Z"
      },
      {
        "duration": 11,
        "start_time": "2023-05-30T20:29:55.781Z"
      },
      {
        "duration": 10,
        "start_time": "2023-05-30T20:30:07.682Z"
      },
      {
        "duration": 12,
        "start_time": "2023-05-30T20:30:13.789Z"
      },
      {
        "duration": 18,
        "start_time": "2023-05-30T20:30:37.301Z"
      },
      {
        "duration": 48,
        "start_time": "2023-05-30T20:30:43.654Z"
      },
      {
        "duration": 62,
        "start_time": "2023-05-30T21:07:08.727Z"
      },
      {
        "duration": 10,
        "start_time": "2023-05-30T21:07:20.727Z"
      },
      {
        "duration": 10,
        "start_time": "2023-05-30T21:07:42.735Z"
      },
      {
        "duration": 15,
        "start_time": "2023-05-30T21:09:02.375Z"
      },
      {
        "duration": 13,
        "start_time": "2023-05-30T21:10:38.655Z"
      },
      {
        "duration": 228,
        "start_time": "2023-05-30T21:10:51.835Z"
      },
      {
        "duration": 12,
        "start_time": "2023-05-30T21:10:55.594Z"
      },
      {
        "duration": 56,
        "start_time": "2023-05-30T21:10:56.214Z"
      },
      {
        "duration": 64,
        "start_time": "2023-05-30T21:11:01.115Z"
      },
      {
        "duration": 75,
        "start_time": "2023-05-30T21:11:08.387Z"
      },
      {
        "duration": 40,
        "start_time": "2023-05-30T21:41:08.512Z"
      },
      {
        "duration": 8,
        "start_time": "2023-05-30T21:41:08.871Z"
      },
      {
        "duration": 36,
        "start_time": "2023-05-30T21:41:45.040Z"
      },
      {
        "duration": 245,
        "start_time": "2023-05-30T21:41:45.478Z"
      },
      {
        "duration": 14,
        "start_time": "2023-05-30T21:41:45.963Z"
      },
      {
        "duration": 76,
        "start_time": "2023-05-30T21:41:46.524Z"
      },
      {
        "duration": 4,
        "start_time": "2023-05-30T21:43:30.626Z"
      },
      {
        "duration": 776,
        "start_time": "2023-05-30T21:43:30.811Z"
      },
      {
        "duration": 100,
        "start_time": "2023-05-30T21:43:31.589Z"
      },
      {
        "duration": 16,
        "start_time": "2023-05-30T21:43:31.691Z"
      },
      {
        "duration": 299,
        "start_time": "2023-05-30T21:43:31.708Z"
      },
      {
        "duration": 82,
        "start_time": "2023-05-30T21:43:32.321Z"
      },
      {
        "duration": 8,
        "start_time": "2023-05-30T21:43:33.105Z"
      },
      {
        "duration": 301,
        "start_time": "2023-05-30T21:43:33.485Z"
      },
      {
        "duration": 13,
        "start_time": "2023-05-30T21:43:33.865Z"
      },
      {
        "duration": 74,
        "start_time": "2023-05-30T21:43:34.260Z"
      },
      {
        "duration": 219,
        "start_time": "2023-05-30T21:43:34.865Z"
      },
      {
        "duration": 52,
        "start_time": "2023-05-30T21:43:35.251Z"
      },
      {
        "duration": 348,
        "start_time": "2023-05-30T21:43:35.642Z"
      },
      {
        "duration": 188,
        "start_time": "2023-05-30T21:43:36.032Z"
      },
      {
        "duration": 67,
        "start_time": "2023-05-30T21:43:36.650Z"
      },
      {
        "duration": 30,
        "start_time": "2023-05-30T21:43:37.072Z"
      },
      {
        "duration": 83,
        "start_time": "2023-05-30T21:43:37.490Z"
      },
      {
        "duration": 25,
        "start_time": "2023-05-30T21:43:37.720Z"
      },
      {
        "duration": 48,
        "start_time": "2023-05-30T21:43:38.148Z"
      },
      {
        "duration": 2552,
        "start_time": "2023-05-30T21:43:38.371Z"
      },
      {
        "duration": 2859,
        "start_time": "2023-05-30T21:43:40.924Z"
      },
      {
        "duration": 49,
        "start_time": "2023-05-30T21:43:43.785Z"
      },
      {
        "duration": 282,
        "start_time": "2023-05-30T21:43:43.836Z"
      },
      {
        "duration": 266,
        "start_time": "2023-05-30T21:43:44.120Z"
      },
      {
        "duration": 262,
        "start_time": "2023-05-30T21:43:44.388Z"
      },
      {
        "duration": 265,
        "start_time": "2023-05-30T21:43:44.652Z"
      },
      {
        "duration": 43,
        "start_time": "2023-05-30T21:43:44.919Z"
      },
      {
        "duration": 48,
        "start_time": "2023-05-30T21:43:44.964Z"
      },
      {
        "duration": 34,
        "start_time": "2023-05-30T21:43:45.014Z"
      },
      {
        "duration": 92,
        "start_time": "2023-05-30T21:43:45.049Z"
      },
      {
        "duration": 35,
        "start_time": "2023-05-30T21:43:45.143Z"
      },
      {
        "duration": 253,
        "start_time": "2023-05-30T21:43:46.679Z"
      },
      {
        "duration": 14,
        "start_time": "2023-05-30T21:43:47.184Z"
      },
      {
        "duration": 77,
        "start_time": "2023-05-30T21:43:48.798Z"
      },
      {
        "duration": 317,
        "start_time": "2023-05-30T21:45:55.098Z"
      },
      {
        "duration": 239,
        "start_time": "2023-05-30T21:46:24.704Z"
      },
      {
        "duration": 48852,
        "start_time": "2023-05-30T21:46:36.561Z"
      },
      {
        "duration": 54994,
        "start_time": "2023-05-30T21:47:25.416Z"
      },
      {
        "duration": 1282,
        "start_time": "2023-05-30T21:51:23.530Z"
      },
      {
        "duration": 797,
        "start_time": "2023-05-30T21:51:24.814Z"
      },
      {
        "duration": 107,
        "start_time": "2023-05-30T21:51:25.613Z"
      },
      {
        "duration": 3,
        "start_time": "2023-05-30T21:51:25.722Z"
      },
      {
        "duration": 296,
        "start_time": "2023-05-30T21:51:25.726Z"
      },
      {
        "duration": 94,
        "start_time": "2023-05-30T21:51:26.023Z"
      },
      {
        "duration": 12,
        "start_time": "2023-05-30T21:51:26.538Z"
      },
      {
        "duration": 345,
        "start_time": "2023-05-30T21:51:27.398Z"
      },
      {
        "duration": 13,
        "start_time": "2023-05-30T21:51:27.791Z"
      },
      {
        "duration": 83,
        "start_time": "2023-05-30T21:51:28.228Z"
      },
      {
        "duration": 329,
        "start_time": "2023-05-30T21:51:28.731Z"
      },
      {
        "duration": 59,
        "start_time": "2023-05-30T21:51:29.091Z"
      },
      {
        "duration": 290,
        "start_time": "2023-05-30T21:51:29.486Z"
      },
      {
        "duration": 214,
        "start_time": "2023-05-30T21:51:29.831Z"
      },
      {
        "duration": 70,
        "start_time": "2023-05-30T21:51:30.451Z"
      },
      {
        "duration": 30,
        "start_time": "2023-05-30T21:51:30.851Z"
      },
      {
        "duration": 84,
        "start_time": "2023-05-30T21:51:31.265Z"
      },
      {
        "duration": 30,
        "start_time": "2023-05-30T21:51:31.465Z"
      },
      {
        "duration": 55,
        "start_time": "2023-05-30T21:51:31.865Z"
      },
      {
        "duration": 3114,
        "start_time": "2023-05-30T21:51:32.113Z"
      },
      {
        "duration": 2960,
        "start_time": "2023-05-30T21:51:35.229Z"
      },
      {
        "duration": 47,
        "start_time": "2023-05-30T21:51:38.190Z"
      },
      {
        "duration": 260,
        "start_time": "2023-05-30T21:51:38.239Z"
      },
      {
        "duration": 258,
        "start_time": "2023-05-30T21:51:38.501Z"
      },
      {
        "duration": 273,
        "start_time": "2023-05-30T21:51:38.761Z"
      },
      {
        "duration": 344,
        "start_time": "2023-05-30T21:51:39.036Z"
      },
      {
        "duration": 51,
        "start_time": "2023-05-30T21:51:39.382Z"
      },
      {
        "duration": 35,
        "start_time": "2023-05-30T21:51:39.434Z"
      },
      {
        "duration": 57,
        "start_time": "2023-05-30T21:51:39.471Z"
      },
      {
        "duration": 92,
        "start_time": "2023-05-30T21:51:39.530Z"
      },
      {
        "duration": 33,
        "start_time": "2023-05-30T21:51:40.100Z"
      },
      {
        "duration": 249,
        "start_time": "2023-05-30T21:53:40.819Z"
      },
      {
        "duration": 135,
        "start_time": "2023-05-30T21:54:07.751Z"
      },
      {
        "duration": 12,
        "start_time": "2023-05-30T21:54:18.431Z"
      },
      {
        "duration": 11,
        "start_time": "2023-05-30T21:56:25.679Z"
      },
      {
        "duration": 10,
        "start_time": "2023-05-30T21:56:53.279Z"
      },
      {
        "duration": 10,
        "start_time": "2023-05-30T22:00:04.809Z"
      },
      {
        "duration": 57,
        "start_time": "2023-05-30T22:00:09.956Z"
      },
      {
        "duration": 9,
        "start_time": "2023-05-30T22:00:26.325Z"
      },
      {
        "duration": 10,
        "start_time": "2023-05-30T22:01:29.576Z"
      },
      {
        "duration": 6,
        "start_time": "2023-05-30T22:01:40.837Z"
      },
      {
        "duration": 10,
        "start_time": "2023-05-30T22:02:00.309Z"
      },
      {
        "duration": 362,
        "start_time": "2023-05-30T22:02:11.855Z"
      },
      {
        "duration": 258,
        "start_time": "2023-05-30T22:02:12.744Z"
      },
      {
        "duration": 52733,
        "start_time": "2023-05-30T22:02:15.283Z"
      },
      {
        "duration": 62510,
        "start_time": "2023-05-30T22:03:08.019Z"
      },
      {
        "duration": 359558,
        "start_time": "2023-05-30T22:04:10.531Z"
      },
      {
        "duration": 37685,
        "start_time": "2023-05-30T22:10:10.091Z"
      },
      {
        "duration": 252582,
        "start_time": "2023-05-30T22:10:47.777Z"
      },
      {
        "duration": 975,
        "start_time": "2023-05-30T22:15:00.361Z"
      },
      {
        "duration": 283988,
        "start_time": "2023-05-30T22:15:01.337Z"
      },
      {
        "duration": 83211,
        "start_time": "2023-05-30T22:26:04.063Z"
      },
      {
        "duration": 11803,
        "start_time": "2023-05-30T22:27:50.111Z"
      },
      {
        "duration": 203,
        "start_time": "2023-05-30T22:28:02.007Z"
      },
      {
        "duration": 4,
        "start_time": "2023-05-30T22:28:02.212Z"
      },
      {
        "duration": 3351,
        "start_time": "2023-05-30T22:28:02.308Z"
      },
      {
        "duration": 90,
        "start_time": "2023-05-30T22:28:05.661Z"
      },
      {
        "duration": 3,
        "start_time": "2023-05-30T22:28:05.752Z"
      },
      {
        "duration": 313,
        "start_time": "2023-05-30T22:28:05.757Z"
      },
      {
        "duration": 13,
        "start_time": "2023-05-30T22:28:06.072Z"
      },
      {
        "duration": 19,
        "start_time": "2023-05-30T22:28:06.087Z"
      },
      {
        "duration": 19097,
        "start_time": "2023-05-30T22:28:06.108Z"
      },
      {
        "duration": 51,
        "start_time": "2023-05-30T22:28:25.206Z"
      },
      {
        "duration": 4,
        "start_time": "2023-05-30T22:28:25.258Z"
      },
      {
        "duration": 21519,
        "start_time": "2023-05-30T22:28:25.264Z"
      },
      {
        "duration": 122,
        "start_time": "2023-05-30T22:28:46.785Z"
      },
      {
        "duration": 4,
        "start_time": "2023-05-30T22:28:46.909Z"
      },
      {
        "duration": 71599,
        "start_time": "2023-05-30T22:28:46.915Z"
      },
      {
        "duration": 599,
        "start_time": "2023-05-30T22:29:58.515Z"
      },
      {
        "duration": 4,
        "start_time": "2023-05-30T22:29:59.115Z"
      },
      {
        "duration": 58567,
        "start_time": "2023-05-30T23:21:37.439Z"
      },
      {
        "duration": 4,
        "start_time": "2023-05-30T23:23:12.311Z"
      },
      {
        "duration": 3,
        "start_time": "2023-05-30T23:24:03.731Z"
      },
      {
        "duration": 3,
        "start_time": "2023-05-30T23:24:37.479Z"
      },
      {
        "duration": 8,
        "start_time": "2023-05-30T23:29:14.679Z"
      },
      {
        "duration": 4,
        "start_time": "2023-05-30T23:29:37.607Z"
      },
      {
        "duration": 3,
        "start_time": "2023-05-30T23:29:54.778Z"
      },
      {
        "duration": 3,
        "start_time": "2023-05-30T23:31:21.416Z"
      },
      {
        "duration": 3363,
        "start_time": "2023-05-30T23:31:22.316Z"
      },
      {
        "duration": 84,
        "start_time": "2023-05-30T23:31:25.681Z"
      },
      {
        "duration": 4,
        "start_time": "2023-05-30T23:31:25.766Z"
      },
      {
        "duration": 3,
        "start_time": "2023-05-30T23:31:44.227Z"
      },
      {
        "duration": 42,
        "start_time": "2023-05-30T23:32:57.612Z"
      },
      {
        "duration": 12707,
        "start_time": "2023-05-30T23:33:01.578Z"
      },
      {
        "duration": 4,
        "start_time": "2023-05-30T23:33:14.287Z"
      },
      {
        "duration": 12022,
        "start_time": "2023-05-30T23:33:14.293Z"
      },
      {
        "duration": 205,
        "start_time": "2023-05-30T23:33:26.406Z"
      },
      {
        "duration": 89,
        "start_time": "2023-05-30T23:33:26.618Z"
      },
      {
        "duration": 5,
        "start_time": "2023-05-30T23:33:26.708Z"
      },
      {
        "duration": 57310,
        "start_time": "2023-05-30T23:33:26.715Z"
      },
      {
        "duration": 8,
        "start_time": "2023-05-30T23:34:24.106Z"
      },
      {
        "duration": 3245,
        "start_time": "2023-05-30T23:35:09.786Z"
      },
      {
        "duration": 78,
        "start_time": "2023-05-30T23:35:13.033Z"
      },
      {
        "duration": 3,
        "start_time": "2023-05-30T23:35:13.113Z"
      },
      {
        "duration": 3,
        "start_time": "2023-05-30T23:35:13.835Z"
      },
      {
        "duration": 8,
        "start_time": "2023-05-30T23:35:45.228Z"
      },
      {
        "duration": 12908,
        "start_time": "2023-05-30T23:35:50.710Z"
      },
      {
        "duration": 3,
        "start_time": "2023-05-30T23:36:10.403Z"
      },
      {
        "duration": 281,
        "start_time": "2023-05-30T23:36:18.898Z"
      },
      {
        "duration": 12,
        "start_time": "2023-05-30T23:36:19.446Z"
      },
      {
        "duration": 3,
        "start_time": "2023-05-30T23:36:21.491Z"
      },
      {
        "duration": 2,
        "start_time": "2023-05-30T23:36:31.778Z"
      },
      {
        "duration": 12452,
        "start_time": "2023-05-30T23:37:25.331Z"
      },
      {
        "duration": 1158,
        "start_time": "2023-05-30T23:37:45.776Z"
      },
      {
        "duration": 3,
        "start_time": "2023-05-30T23:37:56.968Z"
      },
      {
        "duration": 3,
        "start_time": "2023-05-30T23:38:14.323Z"
      },
      {
        "duration": 19570,
        "start_time": "2023-05-30T23:38:20.178Z"
      },
      {
        "duration": 50,
        "start_time": "2023-05-30T23:38:39.750Z"
      },
      {
        "duration": 2,
        "start_time": "2023-05-30T23:38:39.802Z"
      },
      {
        "duration": 77710,
        "start_time": "2023-05-30T23:39:22.704Z"
      },
      {
        "duration": 3,
        "start_time": "2023-05-30T23:40:40.415Z"
      },
      {
        "duration": 3,
        "start_time": "2023-05-30T23:41:26.201Z"
      },
      {
        "duration": 21346,
        "start_time": "2023-05-30T23:41:30.321Z"
      },
      {
        "duration": 122,
        "start_time": "2023-05-30T23:41:51.668Z"
      },
      {
        "duration": 4,
        "start_time": "2023-05-30T23:41:51.791Z"
      },
      {
        "duration": 3,
        "start_time": "2023-05-30T23:41:51.806Z"
      },
      {
        "duration": 83336,
        "start_time": "2023-05-30T23:42:20.121Z"
      },
      {
        "duration": 3,
        "start_time": "2023-05-30T23:43:43.459Z"
      },
      {
        "duration": 9676,
        "start_time": "2023-05-30T23:46:23.338Z"
      },
      {
        "duration": 611,
        "start_time": "2023-05-30T23:46:33.015Z"
      },
      {
        "duration": 3,
        "start_time": "2023-05-30T23:46:33.628Z"
      },
      {
        "duration": 2,
        "start_time": "2023-05-30T23:46:39.911Z"
      },
      {
        "duration": 4,
        "start_time": "2023-05-30T23:47:29.498Z"
      },
      {
        "duration": 46136,
        "start_time": "2023-05-30T23:47:32.473Z"
      },
      {
        "duration": 3,
        "start_time": "2023-05-30T23:48:18.611Z"
      },
      {
        "duration": 2,
        "start_time": "2023-05-30T23:49:37.595Z"
      },
      {
        "duration": 3,
        "start_time": "2023-05-30T23:50:31.123Z"
      },
      {
        "duration": 3,
        "start_time": "2023-05-30T23:50:33.433Z"
      },
      {
        "duration": 3,
        "start_time": "2023-05-30T23:51:05.520Z"
      },
      {
        "duration": 2,
        "start_time": "2023-05-30T23:52:02.848Z"
      },
      {
        "duration": 3,
        "start_time": "2023-05-30T23:52:38.752Z"
      },
      {
        "duration": 3,
        "start_time": "2023-05-30T23:53:08.538Z"
      },
      {
        "duration": 18,
        "start_time": "2023-05-31T00:05:45.633Z"
      }
    ],
    "kernelspec": {
      "display_name": "Python 3 (ipykernel)",
      "language": "python",
      "name": "python3"
    },
    "language_info": {
      "codemirror_mode": {
        "name": "ipython",
        "version": 3
      },
      "file_extension": ".py",
      "mimetype": "text/x-python",
      "name": "python",
      "nbconvert_exporter": "python",
      "pygments_lexer": "ipython3",
      "version": "3.9.5"
    },
    "toc": {
      "base_numbering": 1,
      "nav_menu": {},
      "number_sections": true,
      "sideBar": true,
      "skip_h1_title": true,
      "title_cell": "Table of Contents",
      "title_sidebar": "Contents",
      "toc_cell": false,
      "toc_position": {},
      "toc_section_display": true,
      "toc_window_display": true
    },
    "colab": {
      "provenance": [],
      "toc_visible": true
    }
  },
  "nbformat": 4,
  "nbformat_minor": 0
}